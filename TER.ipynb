{
  "cells": [
    {
      "cell_type": "markdown",
      "metadata": {
        "id": "5CK1OPbMz2vm"
      },
      "source": [
        "# Util"
      ]
    },
    {
      "cell_type": "code",
      "execution_count": 1,
      "metadata": {},
      "outputs": [],
      "source": [
        "# !python -m pip install tensorflow keras\n",
        "# !python -m pip install scikit-learn\n",
        "# !python -m pip install nltk"
      ]
    },
    {
      "cell_type": "code",
      "execution_count": 2,
      "metadata": {
        "id": "r13TuBJFtvXQ"
      },
      "outputs": [],
      "source": [
        "# !pip install tensorflow==2.8.2"
      ]
    },
    {
      "cell_type": "code",
      "execution_count": 3,
      "metadata": {
        "id": "BQAuZrHDwSLL"
      },
      "outputs": [],
      "source": [
        "# !pip install --upgrade tensorflow scikeras keras"
      ]
    },
    {
      "cell_type": "code",
      "execution_count": 4,
      "metadata": {},
      "outputs": [],
      "source": [
        "# import tensorflow as tf\n",
        "# print(\"Version de TensorFlow:\", tf.__version__)\n",
        "\n",
        "# tf.config.list_physical_devices()"
      ]
    },
    {
      "cell_type": "code",
      "execution_count": 5,
      "metadata": {},
      "outputs": [],
      "source": [
        "# import tensorflow as tf\n",
        "# tf.config.experimental.list_physical_devices()\n",
        "# tf.config.list_physical_devices()\n",
        "# tf.test.gpu_device_name()"
      ]
    },
    {
      "cell_type": "code",
      "execution_count": 2,
      "metadata": {},
      "outputs": [
        {
          "name": "stdout",
          "output_type": "stream",
          "text": [
            "Num GPUs Available:  1\n"
          ]
        }
      ],
      "source": [
        "# import tensorflow as tf\n",
        "# print(\"Num GPUs Available: \", len(tf.config.list_physical_devices('GPU')))"
      ]
    },
    {
      "cell_type": "markdown",
      "metadata": {
        "id": "4qgV6HWc0CBC"
      },
      "source": [
        "# Import"
      ]
    },
    {
      "cell_type": "code",
      "execution_count": 1,
      "metadata": {
        "id": "Ql2XMCihytNu"
      },
      "outputs": [
        {
          "name": "stderr",
          "output_type": "stream",
          "text": [
            "[nltk_data] Downloading package punkt to\n",
            "[nltk_data]     C:\\Users\\doria\\AppData\\Roaming\\nltk_data...\n",
            "[nltk_data]   Package punkt is already up-to-date!\n"
          ]
        },
        {
          "data": {
            "text/plain": [
              "True"
            ]
          },
          "execution_count": 1,
          "metadata": {},
          "output_type": "execute_result"
        }
      ],
      "source": [
        "import numpy as np\n",
        "import tensorflow as tf\n",
        "import numpy as np\n",
        "import pandas as pd\n",
        "import fasttext.util\n",
        "\n",
        "from keras.models import Sequential\n",
        "from keras.layers import Embedding, Conv1D, GlobalMaxPooling1D,Reshape, Dense, Dropout, Flatten,BatchNormalization,MaxPooling1D,SpatialDropout1D, Input, concatenate\n",
        "from keras import regularizers\n",
        "from keras import utils\n",
        "from keras.callbacks import EarlyStopping\n",
        "from keras.models import Model\n",
        "\n",
        "import re\n",
        "import os\n",
        "import matplotlib.pyplot as plt\n",
        "\n",
        "import nltk\n",
        "from nltk.tokenize import word_tokenize\n",
        "nltk.download('punkt')"
      ]
    },
    {
      "cell_type": "markdown",
      "metadata": {
        "id": "aE7LmOth00nu"
      },
      "source": [
        "# Coder le texte"
      ]
    },
    {
      "cell_type": "markdown",
      "metadata": {
        "id": "6HyXdOTf0H4c"
      },
      "source": [
        "## Récupération des textes et des années de publications (labels)"
      ]
    },
    {
      "cell_type": "code",
      "execution_count": 2,
      "metadata": {},
      "outputs": [],
      "source": [
        "def GetDataBooks(chemin):\n",
        "    # Récupérer la liste des noms de fichiers dans le dossier\n",
        "    fichiers = os.listdir(chemin)\n",
        "    \n",
        "    # Initialiser une liste pour stocker les textes\n",
        "    books = []\n",
        "\n",
        "    # Initialiser une liste pour stocker les années extraites des noms de fichiers\n",
        "    y = []\n",
        "    \n",
        "    # Parcourir les fichiers et lire leur contenu\n",
        "    for fichier in fichiers:\n",
        "        chemin_fichier = os.path.join(chemin, fichier)\n",
        "        with open(chemin_fichier, 'r', encoding='utf-8') as f:\n",
        "\n",
        "            texte = f.read()\n",
        "\n",
        "            # Extraire l'année du nom de fichier\n",
        "            annee = re.search(r'\\((\\d{4})\\)', fichier)  # Utilisation d'une expression régulière pour trouver l'année entre parenthèses\n",
        "            # Si une année est trouvée, alors nous pouvons étudier le livre, nous l'ajoutons ainsi que son label dans les listes associées\n",
        "            if annee:\n",
        "                books.append(texte)\n",
        "                annee_int = int(annee.group(1)) # Récupérer l'année\n",
        "                y.append(annee_int)  # Ajouter l'année extraite à la liste des labels\n",
        "    return books,y"
      ]
    },
    {
      "cell_type": "code",
      "execution_count": 3,
      "metadata": {
        "colab": {
          "base_uri": "https://localhost:8080/"
        },
        "id": "shbqFxbaboYN",
        "outputId": "e204a37b-37e5-401c-e6be-fd2aa84d648b"
      },
      "outputs": [],
      "source": [
        "# Définition de la seed pour la reproductibilité des résultats\n",
        "utils.set_random_seed(42)\n",
        "\n",
        "# Chemin des dossier contenant les textes\n",
        "dossier_train = 'train'\n",
        "dossier_test = 'test'\n",
        "dossier_val = 'validation'\n",
        "\n",
        "X_train,y_train = GetDataBooks(dossier_train)\n",
        "X_val,y_val = GetDataBooks(dossier_val)\n",
        "X_test,y_test = GetDataBooks(dossier_test)"
      ]
    },
    {
      "cell_type": "code",
      "execution_count": 4,
      "metadata": {},
      "outputs": [
        {
          "data": {
            "image/png": "[encoded data removed]",
            "text/plain": [
              "<Figure size 1500x500 with 3 Axes>"
            ]
          },
          "metadata": {},
          "output_type": "display_data"
        }
      ],
      "source": [
        "# Calculer la plage maximale des valeurs Y sur les trois ensembles de données\n",
        "max_y = max(max(y_train), max(y_val), max(y_test))\n",
        "min_y = min(min(y_train), min(y_val), min(y_test))\n",
        "\n",
        "# Créer des sous-graphiques avec 1 ligne et 3 colonnes\n",
        "fig, axs = plt.subplots(1, 3, figsize=(15, 5), sharey=True)\n",
        "\n",
        "# Tracer l'histogramme pour les données d'entraînement\n",
        "axs[0].hist(y_train, bins=range(min_y, max_y + 1), alpha=0.5, color='skyblue')\n",
        "axs[0].grid(axis='y', linestyle='--')\n",
        "axs[0].set_xlabel('Année')\n",
        "axs[0].set_ylabel('Nombre de textes')\n",
        "axs[0].set_title('Répartition des textes par année (Entraînement)')\n",
        "\n",
        "# Tracer l'histogramme pour les données de validation\n",
        "axs[1].hist(y_val, bins=range(min_y, max_y + 1), alpha=0.5, color='salmon')\n",
        "axs[1].grid(axis='y', linestyle='--')\n",
        "axs[1].set_xlabel('Année')\n",
        "axs[1].set_ylabel('Nombre de textes')\n",
        "axs[1].set_title('Répartition des textes par année (Validation)')\n",
        "\n",
        "# Tracer l'histogramme pour les données de test\n",
        "axs[2].hist(y_test, bins=range(min_y, max_y + 1), alpha=0.5, color='green')\n",
        "axs[2].grid(axis='y', linestyle='--')\n",
        "axs[2].set_xlabel('Année')\n",
        "axs[2].set_ylabel('Nombre de textes')\n",
        "axs[2].set_title('Répartition des textes par année (Test)')\n",
        "\n",
        "# Ajuster la disposition pour éviter les chevauchements\n",
        "plt.tight_layout()\n",
        "\n",
        "# Afficher les graphiques\n",
        "plt.show()\n"
      ]
    },
    {
      "cell_type": "markdown",
      "metadata": {
        "id": "8qr1HZfr0gkd"
      },
      "source": [
        "## Tokenization + Embedding + division en sequence"
      ]
    },
    {
      "cell_type": "code",
      "execution_count": 5,
      "metadata": {},
      "outputs": [],
      "source": [
        "# Longueur maximale des séquences\n",
        "max_len = 10000\n",
        "# Le nombre de caracteristique en plus de la taille d'embedding\n",
        "# 3 éléments: le token unique + la frequence locale + la fréquence globale\n",
        "word_param_number = 3"
      ]
    },
    {
      "cell_type": "code",
      "execution_count": 6,
      "metadata": {},
      "outputs": [],
      "source": [
        "embedding_dim = 10"
      ]
    },
    {
      "cell_type": "markdown",
      "metadata": {},
      "source": [
        "### Embedding"
      ]
    },
    {
      "cell_type": "code",
      "execution_count": 7,
      "metadata": {},
      "outputs": [],
      "source": [
        "# #Pout télécharger le model\n",
        "# fasttext.util.download_model('fr', if_exists='ignore')"
      ]
    },
    {
      "cell_type": "code",
      "execution_count": 8,
      "metadata": {},
      "outputs": [],
      "source": [
        "# # Récupérer le model\n",
        "# ft = fasttext.load_model('cc.fr.300.bin')"
      ]
    },
    {
      "cell_type": "code",
      "execution_count": 9,
      "metadata": {},
      "outputs": [],
      "source": [
        "# # Changer la taille du model (on passe à un embedding de dimension 25)\n",
        "# fasttext.util.reduce_model(ft, embedding_dim)"
      ]
    },
    {
      "cell_type": "code",
      "execution_count": 10,
      "metadata": {},
      "outputs": [],
      "source": [
        "# # Récupération de la matrice contenant les embedding de chaque mot\n",
        "# input_matrix = ft.get_input_matrix()"
      ]
    },
    {
      "cell_type": "markdown",
      "metadata": {},
      "source": [
        "### Classe Fonction et Variable"
      ]
    },
    {
      "cell_type": "code",
      "execution_count": 11,
      "metadata": {
        "id": "_7PvkrqXQRxl"
      },
      "outputs": [],
      "source": [
        "class WordTokenizer:\n",
        "    def __init__(self, dict_word=None, dict_word_frequence=None):\n",
        "        if dict_word is None:\n",
        "            self.dict_word = {}\n",
        "            self.word_freq = {}\n",
        "            self.index = 1\n",
        "        else:\n",
        "            self.dict_word = dict_word\n",
        "            self.index = len(dict_word) + 1\n",
        "            self.word_freq = dict_word_frequence\n",
        "\n",
        "    def fit(self, list_of_texts):\n",
        "        # Si dict_word_frequence est None, initialiser word_freq\n",
        "        if self.word_freq is None:\n",
        "            self.word_freq = {}\n",
        "\n",
        "        # Calculer la fréquence des mots\n",
        "        for text in list_of_texts:\n",
        "            tokens = word_tokenize(text)\n",
        "            for token in tokens:\n",
        "                if token in self.word_freq:\n",
        "                    self.word_freq[token] += 1\n",
        "                else:\n",
        "                    self.word_freq[token] = 1\n",
        "\n",
        "        # Trier les mots par fréquence dans l'ordre décroissant\n",
        "        sorted_words = sorted(self.word_freq.items(), key=lambda x: x[1], reverse=True)\n",
        "\n",
        "        # Attribuer des indices en fonction de la fréquence\n",
        "        for _, (word, _) in enumerate(sorted_words):\n",
        "            if word not in self.dict_word:\n",
        "                self.dict_word[word] = self.index\n",
        "                self.index += 1\n",
        "\n",
        "        print(\"\\nTokenization complete.\")\n",
        "\n",
        "    def get_local_word_freq(self, tokens):\n",
        "        # Initialise un dictionnaire pour stocker la fréquence locale des mots\n",
        "        local_word_freq = {}\n",
        "        # Parcourt tous les tokens dans la liste\n",
        "        for token in tokens:\n",
        "            # Vérifie si le token n'est pas déjà présent dans le dictionnaire\n",
        "            if token not in local_word_freq:\n",
        "                # Si le token n'est pas présent, initialise sa fréquence à 1\n",
        "                local_word_freq[token] = 1\n",
        "            else:\n",
        "                # Si le token est déjà présent, incrémente sa fréquence de 1\n",
        "                local_word_freq[token] += 1\n",
        "        # Retourne le dictionnaire de fréquence locale des mots\n",
        "        return local_word_freq\n",
        "\n",
        "    def get_local_word_freq(self, tokens):\n",
        "        # Initialise un dictionnaire pour stocker la fréquence locale des mots\n",
        "        local_word_freq = {}\n",
        "        # Parcourt tous les tokens dans la liste\n",
        "        for token in tokens:\n",
        "            # Vérifie si le token n'est pas déjà présent dans le dictionnaire\n",
        "            if token not in local_word_freq:\n",
        "                # Si le token n'est pas présent, initialise sa fréquence à 1\n",
        "                local_word_freq[token] = 1\n",
        "            else:\n",
        "                # Si le token est déjà présent, incrémente sa fréquence de 1\n",
        "                local_word_freq[token] += 1\n",
        "        # Retourne le dictionnaire de fréquence locale des mots\n",
        "        return local_word_freq\n",
        "\n",
        "    def tokenize(self, list_of_texts):\n",
        "        total_texts = len(list_of_texts)\n",
        "        # Initialise un tableau pour stocker les tokens de chaque texte\n",
        "        token_arrays = np.empty((total_texts,), dtype=object)\n",
        "        local_occs = np.empty((total_texts,), dtype=object)\n",
        "        token_pos = np.empty((total_texts,), dtype=object)\n",
        "        # Parcourt chaque texte dans la liste\n",
        "        for i, text in enumerate(list_of_texts):\n",
        "            # Tokenise le texte en mots individuels\n",
        "            tokens = word_tokenize(text)\n",
        "\n",
        "            # Initialise un tableau pour stocker les informations sur chaque token\n",
        "            token_array = np.empty((len(tokens), ), dtype=np.float32)\n",
        "            local_occ = np.empty((len(tokens), ), dtype=np.float32)\n",
        "            token_pos_arr = np.empty((len(tokens), ), dtype=np.float32)\n",
        "            # Calcule la fréquence locale des mots dans le texte\n",
        "            local_word_freq = self.get_local_word_freq(tokens)\n",
        "\n",
        "            position = 1\n",
        "            # Parcourt chaque token dans le texte\n",
        "            for j, token in enumerate(tokens):\n",
        "                # Position du token\n",
        "                if token == '.':\n",
        "                    position = 0\n",
        "                token_pos_arr[j] = position\n",
        "                #print(\"token :\",token,\" pos :\",position)\n",
        "                position +=1\n",
        "\n",
        "                # Vérifie si le token n'est pas dans le dictionnaire des mots\n",
        "                if token not in self.dict_word:\n",
        "                    token_array[j] = 0\n",
        "                    local_occ[j] = local_word_freq[token]\n",
        "                else:\n",
        "                    token_array[j] = self.dict_word[token]\n",
        "                    local_occ[j] = local_word_freq[token]\n",
        "            \n",
        "            token_arrays[i] = token_array\n",
        "            local_occs[i] = local_occ\n",
        "            token_pos[i] = token_pos_arr\n",
        "            \n",
        "            percentage = (i + 1) / total_texts * 100\n",
        "            print(f\"Progression : {percentage:.2f}% complète\")\n",
        "\n",
        "        print(\"\\nTokenisation terminée.\")\n",
        "        return token_arrays,local_occs, token_pos"
      ]
    },
    {
      "cell_type": "code",
      "execution_count": 12,
      "metadata": {
        "id": "zj_poLDZfP0F"
      },
      "outputs": [],
      "source": [
        "from math import ceil\n",
        "\n",
        "def diviser_liste(liste,labels, taille):\n",
        "    resultats = []\n",
        "    res_labels = []\n",
        "    nb_sequence_per_book = []\n",
        "    ind = 0\n",
        "    # Parcours de chaque sous-liste dans la liste principale\n",
        "    for sous_liste in liste:\n",
        "        longueur = len(sous_liste)\n",
        "        if(longueur<taille):\n",
        "            ind+=1\n",
        "            continue\n",
        "        nbtour = ceil(longueur / taille)\n",
        "        lastpos=0\n",
        "        # Division de la sous-liste en morceaux de taille spécifiée\n",
        "        nb_sequence = 0\n",
        "        for i in range(nbtour):\n",
        "            if(lastpos + taille > longueur):\n",
        "              if((lastpos + taille)-longueur > taille/2):\n",
        "                  break\n",
        "              lastpos -= (lastpos + taille)-longueur\n",
        "\n",
        "            # Ajout du morceau à la liste de résultats\n",
        "            resultat = sous_liste[lastpos:lastpos + taille]\n",
        "            lastpos = lastpos + taille\n",
        "            resultats.append(resultat)\n",
        "\n",
        "            # A chaque fois que je divisie, jajoute le label au meme indice\n",
        "            res_labels.append(labels[ind])\n",
        "            nb_sequence += 1\n",
        "        ind+=1\n",
        "        nb_sequence_per_book.append(nb_sequence)\n",
        "\n",
        "    # Convertir resultats et res_labels en tableaux numpy\n",
        "    resultats = np.array(resultats)\n",
        "    res_labels = np.array(res_labels)\n",
        "\n",
        "    return resultats,res_labels,nb_sequence_per_book\n",
        "\n",
        "def diviser_liste2(liste,taille):\n",
        "    resultats = []\n",
        "    ind = 0\n",
        "    # Parcours de chaque sous-liste dans la liste principale\n",
        "    for sous_liste in liste:\n",
        "        longueur = len(sous_liste)\n",
        "        if(longueur<taille):\n",
        "            ind+=1\n",
        "            continue\n",
        "        nbtour = ceil(longueur / taille)\n",
        "        lastpos=0\n",
        "        # Division de la sous-liste en morceaux de taille spécifiée\n",
        "        for i in range(nbtour):\n",
        "            if(lastpos + taille > longueur):\n",
        "              if((lastpos + taille)-longueur > taille/2):\n",
        "                  break\n",
        "              lastpos -= (lastpos + taille)-longueur\n",
        "\n",
        "            # Ajout du morceau à la liste de résultats\n",
        "            resultat = sous_liste[lastpos:lastpos + taille]\n",
        "            lastpos = lastpos + taille\n",
        "            resultats.append(resultat)\n",
        "        ind+=1\n",
        "\n",
        "    # Convertir resultats et res_labels en tableaux numpy\n",
        "    resultats = np.array(resultats)\n",
        "\n",
        "    return resultats"
      ]
    },
    {
      "cell_type": "markdown",
      "metadata": {},
      "source": [
        "### Création du tokenizer + sauvegarde du dictionnaire"
      ]
    },
    {
      "cell_type": "code",
      "execution_count": 13,
      "metadata": {},
      "outputs": [],
      "source": [
        "# tokenizer = WordTokenizer()\n",
        "# tokenizer.fit(X_train)\n",
        "# tokenizer.fit(X_val)"
      ]
    },
    {
      "cell_type": "code",
      "execution_count": 14,
      "metadata": {},
      "outputs": [],
      "source": [
        "# import json\n",
        "\n",
        "# # Chemin du fichier de sauvegarde\n",
        "# path_dict_word = \"dict_word.json\"\n",
        "# path_dict_word_freq = \"dict_word_freq.json\"\n",
        "\n",
        "# # Sauvegarde du dictionnaire en JSON dans un fichier\n",
        "# with open(path_dict_word, \"w\") as json_file:\n",
        "#     json.dump(tokenizer.dict_word, json_file)\n",
        "# with open(path_dict_word_freq, \"w\") as json_file:\n",
        "#     json.dump(tokenizer.word_freq, json_file)"
      ]
    },
    {
      "cell_type": "markdown",
      "metadata": {},
      "source": [
        "### Récupération dico + Création du tokenizer "
      ]
    },
    {
      "cell_type": "code",
      "execution_count": 15,
      "metadata": {},
      "outputs": [],
      "source": [
        "import json\n",
        "\n",
        "# Chemin du fichier JSON à lire\n",
        "path_dict_word = \"dict_word.json\"\n",
        "path_dict_word_freq = \"dict_word_freq.json\"\n",
        "\n",
        "ditc_word = {}\n",
        "word_freq = {}\n",
        "\n",
        "# Lecture du fichier JSON\n",
        "with open(path_dict_word, \"r\") as json_file:\n",
        "    ditc_word = json.load(json_file)\n",
        "with open(path_dict_word_freq, \"r\") as json_file:\n",
        "    word_freq = json.load(json_file)\n",
        "tokenizer = WordTokenizer(dict_word=ditc_word,dict_word_frequence=word_freq)\n",
        "\n",
        "token_number = tokenizer.index"
      ]
    },
    {
      "cell_type": "code",
      "execution_count": 16,
      "metadata": {},
      "outputs": [
        {
          "name": "stdout",
          "output_type": "stream",
          "text": [
            "{',': 1, '.': 2, 'de': 3, 'la': 4, 'et': 5, 'le': 6, 'à': 7, 'il': 8, 'l': 9, 'les': 10, 'un': 11, 'que': 12, 'd': 13, 'en': 14, 'je': 15, 'une': 16, 'elle': 17, 'des': 18, 'qui': 19, 'pas': 20, 'est': 21, 'qu': 22, 'ne': 23, 'dans': 24, '!': 25, 'se': 26, 'ce': 27, 'vous': 28, 'pour': 29, 'du': 30, 'n': 31, 's': 32, '?': 33, 'son': 34, 'était': 35, 'au': 36, 'lui': 37, 'plus': 38, 'avait': 39, 'mais': 40, ';': 41, 'a': 42, 'sur': 43, 'on': 44, ':': 45, 'c': 46, 'sa': 47, 'avec': 48, 'par': 49, 'nous': 50, 'j': 51, 'tout': 52, 'me': 53, 'comme': 54, 'ses': 55, 'si': 56, 'bien': 57, 'm': 58, 'y': 59, 'cette': 60, 'tu': 61, 'dit': 62, 'ils': 63, 'mon': 64, 'ai': 65, 'même': 66, 'sans': 67, 'moi': 68, 'être': 69, 'où': 70, 'ou': 71, 'fait': 72, 'deux': 73, 'aux': 74, 'là': 75, 'ces': 76, 'ma': 77, 'faire': 78, 'leur': 79, 't': 80, 'encore': 81, 'quand': 82, 'rien': 83, 'peu': 84, 'aussi': 85, 'tous': 86, 'autre': 87, 'homme': 88, 'ça': 89, 'peut': 90, 'sont': 91, 'temps': 92, 'non': 93, 'été': 94, 'jamais': 95, 'puis': 96, 'après': 97, 'suis': 98, 'dont': 99, 'avoir': 100}\n"
          ]
        }
      ],
      "source": [
        "# Afficher les 100 premiers éléments\n",
        "first_100 = {word: tokenizer.dict_word[word] for word in list(tokenizer.dict_word.keys())[:100]}\n",
        "print(first_100)"
      ]
    },
    {
      "cell_type": "markdown",
      "metadata": {},
      "source": [
        "### Training Data"
      ]
    },
    {
      "cell_type": "code",
      "execution_count": 17,
      "metadata": {
        "id": "NwFu_20zSujU"
      },
      "outputs": [
        {
          "name": "stdout",
          "output_type": "stream",
          "text": [
            "Progression : 0.12% complète\n",
            "Progression : 0.24% complète\n",
            "Progression : 0.37% complète\n",
            "Progression : 0.49% complète\n",
            "Progression : 0.61% complète\n",
            "Progression : 0.73% complète\n",
            "Progression : 0.85% complète\n",
            "Progression : 0.98% complète\n",
            "Progression : 1.10% complète\n",
            "Progression : 1.22% complète\n",
            "Progression : 1.34% complète\n",
            "Progression : 1.46% complète\n",
            "Progression : 1.59% complète\n",
            "Progression : 1.71% complète\n",
            "Progression : 1.83% complète\n",
            "Progression : 1.95% complète\n"
          ]
        },
        {
          "ename": "KeyboardInterrupt",
          "evalue": "",
          "output_type": "error",
          "traceback": [
            "\u001b[1;31m---------------------------------------------------------------------------\u001b[0m",
            "\u001b[1;31mKeyboardInterrupt\u001b[0m                         Traceback (most recent call last)",
            "Cell \u001b[1;32mIn[17], line 2\u001b[0m\n\u001b[0;32m      1\u001b[0m \u001b[38;5;66;03m# Transformation de chaque texte dans X_train en séquence\u001b[39;00m\n\u001b[1;32m----> 2\u001b[0m sequences_trainA,sequences_trainB,sequences_trainC \u001b[38;5;241m=\u001b[39m \u001b[43mtokenizer\u001b[49m\u001b[38;5;241;43m.\u001b[39;49m\u001b[43mtokenize\u001b[49m\u001b[43m(\u001b[49m\u001b[43mX_train\u001b[49m\u001b[43m)\u001b[49m\n",
            "Cell \u001b[1;32mIn[11], line 76\u001b[0m, in \u001b[0;36mWordTokenizer.tokenize\u001b[1;34m(self, list_of_texts)\u001b[0m\n\u001b[0;32m     73\u001b[0m \u001b[38;5;66;03m# Parcourt chaque texte dans la liste\u001b[39;00m\n\u001b[0;32m     74\u001b[0m \u001b[38;5;28;01mfor\u001b[39;00m i, text \u001b[38;5;129;01min\u001b[39;00m \u001b[38;5;28menumerate\u001b[39m(list_of_texts):\n\u001b[0;32m     75\u001b[0m     \u001b[38;5;66;03m# Tokenise le texte en mots individuels\u001b[39;00m\n\u001b[1;32m---> 76\u001b[0m     tokens \u001b[38;5;241m=\u001b[39m \u001b[43mword_tokenize\u001b[49m\u001b[43m(\u001b[49m\u001b[43mtext\u001b[49m\u001b[43m)\u001b[49m\n\u001b[0;32m     78\u001b[0m     \u001b[38;5;66;03m# Initialise un tableau pour stocker les informations sur chaque token\u001b[39;00m\n\u001b[0;32m     79\u001b[0m     token_array \u001b[38;5;241m=\u001b[39m np\u001b[38;5;241m.\u001b[39mempty((\u001b[38;5;28mlen\u001b[39m(tokens), ), dtype\u001b[38;5;241m=\u001b[39mnp\u001b[38;5;241m.\u001b[39mfloat32)\n",
            "File \u001b[1;32mc:\\Users\\doria\\anaconda3\\envs\\tf_gpu\\lib\\site-packages\\nltk\\tokenize\\__init__.py:130\u001b[0m, in \u001b[0;36mword_tokenize\u001b[1;34m(text, language, preserve_line)\u001b[0m\n\u001b[0;32m    115\u001b[0m \u001b[38;5;250m\u001b[39m\u001b[38;5;124;03m\"\"\"\u001b[39;00m\n\u001b[0;32m    116\u001b[0m \u001b[38;5;124;03mReturn a tokenized copy of *text*,\u001b[39;00m\n\u001b[0;32m    117\u001b[0m \u001b[38;5;124;03musing NLTK's recommended word tokenizer\u001b[39;00m\n\u001b[1;32m   (...)\u001b[0m\n\u001b[0;32m    127\u001b[0m \u001b[38;5;124;03m:type preserve_line: bool\u001b[39;00m\n\u001b[0;32m    128\u001b[0m \u001b[38;5;124;03m\"\"\"\u001b[39;00m\n\u001b[0;32m    129\u001b[0m sentences \u001b[38;5;241m=\u001b[39m [text] \u001b[38;5;28;01mif\u001b[39;00m preserve_line \u001b[38;5;28;01melse\u001b[39;00m sent_tokenize(text, language)\n\u001b[1;32m--> 130\u001b[0m \u001b[38;5;28;01mreturn\u001b[39;00m [\n\u001b[0;32m    131\u001b[0m     token \u001b[38;5;28;01mfor\u001b[39;00m sent \u001b[38;5;129;01min\u001b[39;00m sentences \u001b[38;5;28;01mfor\u001b[39;00m token \u001b[38;5;129;01min\u001b[39;00m _treebank_word_tokenizer\u001b[38;5;241m.\u001b[39mtokenize(sent)\n\u001b[0;32m    132\u001b[0m ]\n",
            "File \u001b[1;32mc:\\Users\\doria\\anaconda3\\envs\\tf_gpu\\lib\\site-packages\\nltk\\tokenize\\__init__.py:131\u001b[0m, in \u001b[0;36m<listcomp>\u001b[1;34m(.0)\u001b[0m\n\u001b[0;32m    115\u001b[0m \u001b[38;5;250m\u001b[39m\u001b[38;5;124;03m\"\"\"\u001b[39;00m\n\u001b[0;32m    116\u001b[0m \u001b[38;5;124;03mReturn a tokenized copy of *text*,\u001b[39;00m\n\u001b[0;32m    117\u001b[0m \u001b[38;5;124;03musing NLTK's recommended word tokenizer\u001b[39;00m\n\u001b[1;32m   (...)\u001b[0m\n\u001b[0;32m    127\u001b[0m \u001b[38;5;124;03m:type preserve_line: bool\u001b[39;00m\n\u001b[0;32m    128\u001b[0m \u001b[38;5;124;03m\"\"\"\u001b[39;00m\n\u001b[0;32m    129\u001b[0m sentences \u001b[38;5;241m=\u001b[39m [text] \u001b[38;5;28;01mif\u001b[39;00m preserve_line \u001b[38;5;28;01melse\u001b[39;00m sent_tokenize(text, language)\n\u001b[0;32m    130\u001b[0m \u001b[38;5;28;01mreturn\u001b[39;00m [\n\u001b[1;32m--> 131\u001b[0m     token \u001b[38;5;28;01mfor\u001b[39;00m sent \u001b[38;5;129;01min\u001b[39;00m sentences \u001b[38;5;28;01mfor\u001b[39;00m token \u001b[38;5;129;01min\u001b[39;00m \u001b[43m_treebank_word_tokenizer\u001b[49m\u001b[38;5;241;43m.\u001b[39;49m\u001b[43mtokenize\u001b[49m\u001b[43m(\u001b[49m\u001b[43msent\u001b[49m\u001b[43m)\u001b[49m\n\u001b[0;32m    132\u001b[0m ]\n",
            "File \u001b[1;32mc:\\Users\\doria\\anaconda3\\envs\\tf_gpu\\lib\\site-packages\\nltk\\tokenize\\destructive.py:160\u001b[0m, in \u001b[0;36mNLTKWordTokenizer.tokenize\u001b[1;34m(self, text, convert_parentheses, return_str)\u001b[0m\n\u001b[0;32m    157\u001b[0m     text \u001b[38;5;241m=\u001b[39m regexp\u001b[38;5;241m.\u001b[39msub(substitution, text)\n\u001b[0;32m    159\u001b[0m \u001b[38;5;28;01mfor\u001b[39;00m regexp, substitution \u001b[38;5;129;01min\u001b[39;00m \u001b[38;5;28mself\u001b[39m\u001b[38;5;241m.\u001b[39mPUNCTUATION:\n\u001b[1;32m--> 160\u001b[0m     text \u001b[38;5;241m=\u001b[39m \u001b[43mregexp\u001b[49m\u001b[38;5;241;43m.\u001b[39;49m\u001b[43msub\u001b[49m\u001b[43m(\u001b[49m\u001b[43msubstitution\u001b[49m\u001b[43m,\u001b[49m\u001b[43m \u001b[49m\u001b[43mtext\u001b[49m\u001b[43m)\u001b[49m\n\u001b[0;32m    162\u001b[0m \u001b[38;5;66;03m# Handles parentheses.\u001b[39;00m\n\u001b[0;32m    163\u001b[0m regexp, substitution \u001b[38;5;241m=\u001b[39m \u001b[38;5;28mself\u001b[39m\u001b[38;5;241m.\u001b[39mPARENS_BRACKETS\n",
            "File \u001b[1;32mc:\\Users\\doria\\anaconda3\\envs\\tf_gpu\\lib\\re.py:332\u001b[0m, in \u001b[0;36m_subx.<locals>.filter\u001b[1;34m(match, template)\u001b[0m\n\u001b[0;32m    331\u001b[0m \u001b[38;5;28;01mdef\u001b[39;00m \u001b[38;5;21mfilter\u001b[39m(match, template\u001b[38;5;241m=\u001b[39mtemplate):\n\u001b[1;32m--> 332\u001b[0m     \u001b[38;5;28;01mreturn\u001b[39;00m \u001b[43msre_parse\u001b[49m\u001b[38;5;241m.\u001b[39mexpand_template(template, match)\n",
            "\u001b[1;31mKeyboardInterrupt\u001b[0m: "
          ]
        }
      ],
      "source": [
        "# Transformation de chaque texte dans X_train en séquence\n",
        "sequences_trainA,sequences_trainB,sequences_trainC = tokenizer.tokenize(X_train)"
      ]
    },
    {
      "cell_type": "code",
      "execution_count": null,
      "metadata": {},
      "outputs": [
        {
          "name": "stdout",
          "output_type": "stream",
          "text": [
            "Nombre de séquences de données: 6085\n"
          ]
        }
      ],
      "source": [
        "# Division des données en séquences de longueur maximale max_len\n",
        "data_trainA,y_train,sequence_count_book_train = diviser_liste(sequences_trainA,y_train, max_len)\n",
        "data_trainB = diviser_liste2(sequences_trainB, max_len)\n",
        "data_trainC = diviser_liste2(sequences_trainC, max_len)\n",
        "\n",
        "# Affichage de la longueur des données\n",
        "print(\"Nombre de séquences de données:\", len(data_trainA))"
      ]
    },
    {
      "cell_type": "markdown",
      "metadata": {},
      "source": [
        "#### Save & Load"
      ]
    },
    {
      "cell_type": "code",
      "execution_count": null,
      "metadata": {},
      "outputs": [],
      "source": [
        "# np.save(\"Data/tokenized_train\",np.array(sequences_train))"
      ]
    },
    {
      "cell_type": "code",
      "execution_count": null,
      "metadata": {},
      "outputs": [],
      "source": [
        "# sequences_train = np.load(\"Data/tokenized_train.npy\", allow_pickle=True)"
      ]
    },
    {
      "cell_type": "code",
      "execution_count": null,
      "metadata": {},
      "outputs": [],
      "source": [
        "# np.save(\"Data/data_split_train\",data_train)\n",
        "# np.save(\"Data/y_split_train\",y_train)"
      ]
    },
    {
      "cell_type": "code",
      "execution_count": null,
      "metadata": {},
      "outputs": [],
      "source": [
        "# data_train = np.load(\"Data/data_split_train.npy\", allow_pickle=True)\n",
        "# y_train = np.load(\"Data/y_split_train.npy\", allow_pickle=True)"
      ]
    },
    {
      "cell_type": "markdown",
      "metadata": {},
      "source": [
        "### Validation Data"
      ]
    },
    {
      "cell_type": "code",
      "execution_count": null,
      "metadata": {},
      "outputs": [
        {
          "name": "stdout",
          "output_type": "stream",
          "text": [
            "Progression : 0.61% complète\n",
            "Progression : 1.23% complète\n",
            "Progression : 1.84% complète\n",
            "Progression : 2.45% complète\n",
            "Progression : 3.07% complète\n",
            "Progression : 3.68% complète\n",
            "Progression : 4.29% complète\n",
            "Progression : 4.91% complète\n",
            "Progression : 5.52% complète\n",
            "Progression : 6.13% complète\n",
            "Progression : 6.75% complète\n",
            "Progression : 7.36% complète\n",
            "Progression : 7.98% complète\n",
            "Progression : 8.59% complète\n",
            "Progression : 9.20% complète\n",
            "Progression : 9.82% complète\n",
            "Progression : 10.43% complète\n",
            "Progression : 11.04% complète\n",
            "Progression : 11.66% complète\n",
            "Progression : 12.27% complète\n",
            "Progression : 12.88% complète\n",
            "Progression : 13.50% complète\n",
            "Progression : 14.11% complète\n",
            "Progression : 14.72% complète\n",
            "Progression : 15.34% complète\n",
            "Progression : 15.95% complète\n",
            "Progression : 16.56% complète\n",
            "Progression : 17.18% complète\n",
            "Progression : 17.79% complète\n",
            "Progression : 18.40% complète\n",
            "Progression : 19.02% complète\n",
            "Progression : 19.63% complète\n",
            "Progression : 20.25% complète\n",
            "Progression : 20.86% complète\n",
            "Progression : 21.47% complète\n",
            "Progression : 22.09% complète\n",
            "Progression : 22.70% complète\n",
            "Progression : 23.31% complète\n",
            "Progression : 23.93% complète\n",
            "Progression : 24.54% complète\n",
            "Progression : 25.15% complète\n",
            "Progression : 25.77% complète\n",
            "Progression : 26.38% complète\n",
            "Progression : 26.99% complète\n",
            "Progression : 27.61% complète\n",
            "Progression : 28.22% complète\n",
            "Progression : 28.83% complète\n",
            "Progression : 29.45% complète\n",
            "Progression : 30.06% complète\n",
            "Progression : 30.67% complète\n",
            "Progression : 31.29% complète\n",
            "Progression : 31.90% complète\n",
            "Progression : 32.52% complète\n",
            "Progression : 33.13% complète\n",
            "Progression : 33.74% complète\n",
            "Progression : 34.36% complète\n",
            "Progression : 34.97% complète\n",
            "Progression : 35.58% complète\n",
            "Progression : 36.20% complète\n",
            "Progression : 36.81% complète\n",
            "Progression : 37.42% complète\n",
            "Progression : 38.04% complète\n",
            "Progression : 38.65% complète\n",
            "Progression : 39.26% complète\n",
            "Progression : 39.88% complète\n",
            "Progression : 40.49% complète\n",
            "Progression : 41.10% complète\n",
            "Progression : 41.72% complète\n",
            "Progression : 42.33% complète\n",
            "Progression : 42.94% complète\n",
            "Progression : 43.56% complète\n",
            "Progression : 44.17% complète\n",
            "Progression : 44.79% complète\n",
            "Progression : 45.40% complète\n",
            "Progression : 46.01% complète\n",
            "Progression : 46.63% complète\n",
            "Progression : 47.24% complète\n",
            "Progression : 47.85% complète\n",
            "Progression : 48.47% complète\n",
            "Progression : 49.08% complète\n",
            "Progression : 49.69% complète\n",
            "Progression : 50.31% complète\n",
            "Progression : 50.92% complète\n",
            "Progression : 51.53% complète\n",
            "Progression : 52.15% complète\n",
            "Progression : 52.76% complète\n",
            "Progression : 53.37% complète\n",
            "Progression : 53.99% complète\n",
            "Progression : 54.60% complète\n",
            "Progression : 55.21% complète\n",
            "Progression : 55.83% complète\n",
            "Progression : 56.44% complète\n",
            "Progression : 57.06% complète\n",
            "Progression : 57.67% complète\n",
            "Progression : 58.28% complète\n",
            "Progression : 58.90% complète\n",
            "Progression : 59.51% complète\n",
            "Progression : 60.12% complète\n",
            "Progression : 60.74% complète\n",
            "Progression : 61.35% complète\n",
            "Progression : 61.96% complète\n",
            "Progression : 62.58% complète\n",
            "Progression : 63.19% complète\n",
            "Progression : 63.80% complète\n",
            "Progression : 64.42% complète\n",
            "Progression : 65.03% complète\n",
            "Progression : 65.64% complète\n",
            "Progression : 66.26% complète\n",
            "Progression : 66.87% complète\n",
            "Progression : 67.48% complète\n",
            "Progression : 68.10% complète\n",
            "Progression : 68.71% complète\n",
            "Progression : 69.33% complète\n",
            "Progression : 69.94% complète\n",
            "Progression : 70.55% complète\n",
            "Progression : 71.17% complète\n",
            "Progression : 71.78% complète\n",
            "Progression : 72.39% complète\n",
            "Progression : 73.01% complète\n",
            "Progression : 73.62% complète\n",
            "Progression : 74.23% complète\n",
            "Progression : 74.85% complète\n",
            "Progression : 75.46% complète\n",
            "Progression : 76.07% complète\n",
            "Progression : 76.69% complète\n",
            "Progression : 77.30% complète\n",
            "Progression : 77.91% complète\n",
            "Progression : 78.53% complète\n",
            "Progression : 79.14% complète\n",
            "Progression : 79.75% complète\n",
            "Progression : 80.37% complète\n",
            "Progression : 80.98% complète\n",
            "Progression : 81.60% complète\n",
            "Progression : 82.21% complète\n",
            "Progression : 82.82% complète\n",
            "Progression : 83.44% complète\n",
            "Progression : 84.05% complète\n",
            "Progression : 84.66% complète\n",
            "Progression : 85.28% complète\n",
            "Progression : 85.89% complète\n",
            "Progression : 86.50% complète\n",
            "Progression : 87.12% complète\n",
            "Progression : 87.73% complète\n",
            "Progression : 88.34% complète\n",
            "Progression : 88.96% complète\n",
            "Progression : 89.57% complète\n",
            "Progression : 90.18% complète\n",
            "Progression : 90.80% complète\n",
            "Progression : 91.41% complète\n",
            "Progression : 92.02% complète\n",
            "Progression : 92.64% complète\n",
            "Progression : 93.25% complète\n",
            "Progression : 93.87% complète\n",
            "Progression : 94.48% complète\n",
            "Progression : 95.09% complète\n",
            "Progression : 95.71% complète\n",
            "Progression : 96.32% complète\n",
            "Progression : 96.93% complète\n",
            "Progression : 97.55% complète\n",
            "Progression : 98.16% complète\n",
            "Progression : 98.77% complète\n",
            "Progression : 99.39% complète\n",
            "Progression : 100.00% complète\n",
            "\n",
            "Tokenisation terminée.\n"
          ]
        }
      ],
      "source": [
        "sequences_valA,sequences_valB,sequences_valC = tokenizer.tokenize(X_val)"
      ]
    },
    {
      "cell_type": "code",
      "execution_count": null,
      "metadata": {},
      "outputs": [
        {
          "name": "stdout",
          "output_type": "stream",
          "text": [
            "Nombre de séquences de données: 1260\n"
          ]
        }
      ],
      "source": [
        "# Division des données en séquences de longueur maximale max_len\n",
        "data_valA,y_val,sequence_count_book_val = diviser_liste(sequences_valA,y_val, max_len)\n",
        "data_valB = diviser_liste2(sequences_valB, max_len)\n",
        "data_valC =diviser_liste2(sequences_valC, max_len)\n",
        "\n",
        "# Affichage de la longueur des données\n",
        "print(\"Nombre de séquences de données:\", len(data_valA))"
      ]
    },
    {
      "cell_type": "markdown",
      "metadata": {},
      "source": [
        "#### Save & Load"
      ]
    },
    {
      "cell_type": "code",
      "execution_count": null,
      "metadata": {},
      "outputs": [],
      "source": [
        "# np.save(\"Data/tokenized_val\",np.array(sequences_val))"
      ]
    },
    {
      "cell_type": "code",
      "execution_count": 26,
      "metadata": {},
      "outputs": [],
      "source": [
        "# sequences_val = np.load(\"Data/tokenized_val.npy\", allow_pickle=True)"
      ]
    },
    {
      "cell_type": "code",
      "execution_count": 27,
      "metadata": {},
      "outputs": [],
      "source": [
        "# np.save(\"Data/data_split_val\",data_val)\n",
        "# np.save(\"Data/y_split_val\",y_val)"
      ]
    },
    {
      "cell_type": "code",
      "execution_count": 28,
      "metadata": {},
      "outputs": [],
      "source": [
        "# data_val = np.load(\"Data/data_split_val.npy\", allow_pickle=True)\n",
        "# y_val = np.load(\"Data/y_split_val.npy\", allow_pickle=True)"
      ]
    },
    {
      "cell_type": "markdown",
      "metadata": {},
      "source": [
        "### Test Data"
      ]
    },
    {
      "cell_type": "code",
      "execution_count": 29,
      "metadata": {},
      "outputs": [
        {
          "name": "stdout",
          "output_type": "stream",
          "text": [
            "Progression : 1.45% complète\n",
            "Progression : 2.90% complète\n",
            "Progression : 4.35% complète\n",
            "Progression : 5.80% complète\n",
            "Progression : 7.25% complète\n",
            "Progression : 8.70% complète\n",
            "Progression : 10.14% complète\n",
            "Progression : 11.59% complète\n",
            "Progression : 13.04% complète\n",
            "Progression : 14.49% complète\n",
            "Progression : 15.94% complète\n",
            "Progression : 17.39% complète\n",
            "Progression : 18.84% complète\n",
            "Progression : 20.29% complète\n",
            "Progression : 21.74% complète\n",
            "Progression : 23.19% complète\n",
            "Progression : 24.64% complète\n",
            "Progression : 26.09% complète\n",
            "Progression : 27.54% complète\n",
            "Progression : 28.99% complète\n",
            "Progression : 30.43% complète\n",
            "Progression : 31.88% complète\n",
            "Progression : 33.33% complète\n",
            "Progression : 34.78% complète\n",
            "Progression : 36.23% complète\n",
            "Progression : 37.68% complète\n",
            "Progression : 39.13% complète\n",
            "Progression : 40.58% complète\n",
            "Progression : 42.03% complète\n",
            "Progression : 43.48% complète\n",
            "Progression : 44.93% complète\n",
            "Progression : 46.38% complète\n",
            "Progression : 47.83% complète\n",
            "Progression : 49.28% complète\n",
            "Progression : 50.72% complète\n",
            "Progression : 52.17% complète\n",
            "Progression : 53.62% complète\n",
            "Progression : 55.07% complète\n",
            "Progression : 56.52% complète\n",
            "Progression : 57.97% complète\n",
            "Progression : 59.42% complète\n",
            "Progression : 60.87% complète\n",
            "Progression : 62.32% complète\n",
            "Progression : 63.77% complète\n",
            "Progression : 65.22% complète\n",
            "Progression : 66.67% complète\n",
            "Progression : 68.12% complète\n",
            "Progression : 69.57% complète\n",
            "Progression : 71.01% complète\n",
            "Progression : 72.46% complète\n",
            "Progression : 73.91% complète\n",
            "Progression : 75.36% complète\n",
            "Progression : 76.81% complète\n",
            "Progression : 78.26% complète\n",
            "Progression : 79.71% complète\n",
            "Progression : 81.16% complète\n",
            "Progression : 82.61% complète\n",
            "Progression : 84.06% complète\n",
            "Progression : 85.51% complète\n",
            "Progression : 86.96% complète\n",
            "Progression : 88.41% complète\n",
            "Progression : 89.86% complète\n",
            "Progression : 91.30% complète\n",
            "Progression : 92.75% complète\n",
            "Progression : 94.20% complète\n",
            "Progression : 95.65% complète\n",
            "Progression : 97.10% complète\n",
            "Progression : 98.55% complète\n",
            "Progression : 100.00% complète\n",
            "\n",
            "Tokenisation terminée.\n"
          ]
        }
      ],
      "source": [
        "# Transformation de chaque texte dans X_test en une séquence d'entiers\n",
        "sequences_testA,sequences_testB,sequences_testC = tokenizer.tokenize(X_test)"
      ]
    },
    {
      "cell_type": "code",
      "execution_count": 121,
      "metadata": {},
      "outputs": [
        {
          "name": "stdout",
          "output_type": "stream",
          "text": [
            "Nombre de séquences de données: 533\n"
          ]
        }
      ],
      "source": [
        "# Division des données en séquences de longueur maximale max_len\n",
        "data_testA,y_test,sequence_count_book_test = diviser_liste(sequences_testA,y_test, max_len)\n",
        "data_testB = diviser_liste2(sequences_testB, max_len)\n",
        "data_testC = diviser_liste2(sequences_testC, max_len)\n",
        "\n",
        "# Affichage de la longueur des données\n",
        "print(\"Nombre de séquences de données:\", len(data_testA))"
      ]
    },
    {
      "cell_type": "markdown",
      "metadata": {},
      "source": [
        "#### Save & Load"
      ]
    },
    {
      "cell_type": "code",
      "execution_count": 31,
      "metadata": {},
      "outputs": [],
      "source": [
        "# np.save(\"Data/tokenized_test\",np.array(sequences_test))"
      ]
    },
    {
      "cell_type": "code",
      "execution_count": 32,
      "metadata": {},
      "outputs": [],
      "source": [
        "# sequences_test = np.load(\"Data/tokenized_test.npy\", allow_pickle=True)"
      ]
    },
    {
      "cell_type": "code",
      "execution_count": 33,
      "metadata": {},
      "outputs": [],
      "source": [
        "# np.save(\"Data/data_split_test\",data_test)\n",
        "# np.save(\"Data/y_split_test\",y_test)"
      ]
    },
    {
      "cell_type": "code",
      "execution_count": 34,
      "metadata": {},
      "outputs": [],
      "source": [
        "# data_test = np.load(\"Data/data_split_test.npy\", allow_pickle=True)\n",
        "# y_test = np.load(\"Data/y_split_test.npy\", allow_pickle=True)"
      ]
    },
    {
      "cell_type": "markdown",
      "metadata": {},
      "source": [
        "### Affichage informations"
      ]
    },
    {
      "cell_type": "code",
      "execution_count": 35,
      "metadata": {},
      "outputs": [
        {
          "name": "stdout",
          "output_type": "stream",
          "text": [
            "Nombre de séquences de données (Training): 1971\n",
            "Nombre de séquences de données (Validation): 413\n",
            "Nombre de séquences de données (Test): 166\n"
          ]
        }
      ],
      "source": [
        "print(\"Nombre de séquences de données (Training):\", len(data_trainA))\n",
        "print(\"Nombre de séquences de données (Validation):\", len(data_valA))\n",
        "print(\"Nombre de séquences de données (Test):\", len(data_testA))"
      ]
    },
    {
      "cell_type": "markdown",
      "metadata": {
        "id": "nquwvt_dB3hx"
      },
      "source": [
        "# Définition des architectures des modeles testés"
      ]
    },
    {
      "cell_type": "code",
      "execution_count": 216,
      "metadata": {
        "id": "RGosKjmyzmuW"
      },
      "outputs": [],
      "source": [
        "def define_multi_model(max_len, vocab_size):\n",
        "\n",
        "    inputA = Input(shape=(max_len,), name='input_tokens')  # Entrée pour les mots tokenisés\n",
        "    inputB = Input(shape=(max_len,), name='input_word_freq')  # Entrée pour les fréquences des mots dans le texte\n",
        "    inputC = Input(shape=(max_len,), name='input_word_pos')  # Entrée pour la position des mots\n",
        "\n",
        "    # Branche A\n",
        "    # Couche pour l'entrée des mots tokenisés\n",
        "    x1 = Embedding(input_dim=vocab_size, output_dim=40, input_length=max_len, name='embedding_tokens_A')(inputA)\n",
        "    for i in range(3):\n",
        "        x1 = Conv1D(filters=32, kernel_size=21, activation='relu', name='conv1d_A_'+str(i))(x1)\n",
        "        x1 = MaxPooling1D(pool_size=2, name='maxpooling_A_'+str(i))(x1)\n",
        "    x1 = Flatten(name='flatten_A')(x1)\n",
        "    x1 = Dropout(0.4, name='dropout_A')(x1)\n",
        "    x1 = Dense(32, activation=\"relu\", name='dense_A')(x1)\n",
        "\n",
        "    x2 = Embedding(input_dim=vocab_size, output_dim=40, input_length=max_len, name='embedding_tokens_A2')(inputA)\n",
        "    for i in range(3):\n",
        "        x2 = Conv1D(filters=32, kernel_size=3, activation='relu', name='conv1d_A2_'+str(i))(x2)\n",
        "        x2 = MaxPooling1D(pool_size=2, name='maxpooling_A2_'+str(i))(x2)\n",
        "    x2 = Flatten(name='flatten_A2')(x2)\n",
        "    x2 = Dropout(0.4, name='dropout_A2')(x2)\n",
        "    x2 = Dense(32, activation=\"relu\", name='dense_A2')(x2)\n",
        "\n",
        "\n",
        "    # Branche B\n",
        "    # Couches pour l'entrée des fréquences de mots\n",
        "    y1 = Embedding(input_dim=vocab_size, output_dim=40, input_length=max_len, name='embedding_tokens_B')(inputB)\n",
        "    for i in range(3):\n",
        "        y1 = Conv1D(filters=32, kernel_size=21, activation='relu', name='conv1d_B_'+str(i))(y1)\n",
        "        y1 = MaxPooling1D(pool_size=2, name='maxpooling_B_'+str(i))(y1)\n",
        "    y1 = Flatten(name='flatten_B')(y1)\n",
        "    y1 = Dropout(0.4, name='dropout_B')(y1)\n",
        "    y1 = Dense(32, activation=\"relu\", name='dense_B')(y1)\n",
        "\n",
        "    # Branche C\n",
        "    # Couches pour l'entrée de la position des mots\n",
        "    y2 = Embedding(input_dim=vocab_size, output_dim=40, input_length=max_len, name='embedding_tokens_C')(inputC)\n",
        "    for i in range(3):\n",
        "        y2 = Conv1D(filters=32, kernel_size=21, activation='relu', name='conv1d_C_'+str(i))(y2)\n",
        "        y2 = MaxPooling1D(pool_size=2, name='maxpooling_C_'+str(i))(y2)\n",
        "    y2 = Flatten(name='flatten_C')(y2)\n",
        "    y2 = Dropout(0.4, name='dropout_C')(y2)\n",
        "    y2 = Dense(32, activation=\"relu\", name='dense_C')(y2)\n",
        "    \n",
        "    # Concaténer les sorties de toutes les branches\n",
        "    combined = concatenate([x1,x2, y2], name='concatenated_features')\n",
        "\n",
        "    # Couches denses pour les sorties combinées\n",
        "    z = Dense(64, activation=\"relu\", name='dense_combined')(combined)\n",
        "    z = Dense(1, activation=\"linear\", name='output')(z)\n",
        "\n",
        "    # Combinez les entrées et les sorties en un modèle\n",
        "    model = Model(inputs=[inputA, inputB, inputC], outputs=z)\n",
        "    \n",
        "    return model\n",
        "\n",
        "# def archi(model_params,input_shape):\n",
        "#     # Pile linéaire de couches. \n",
        "#     # Dans ce modèle, les données passent à travers les couches dans l'ordre où elles ont été ajoutées.\n",
        "#     model = Sequential()\n",
        "    \n",
        "#     model.add(Input(shape=input_shape))\n",
        "\n",
        "#     model.add(Embedding(input_dim=token_number, output_dim=model_params['embedding_dim']))\n",
        "\n",
        "#     model.add(Reshape(target_shape=(max_len, model_params['embedding_dim'] * input_shape[1])))\n",
        "\n",
        "#     for i in range(model_params['count_conv1D']):\n",
        "#         # Couche de convolution à une dimension (1D) au modèle.\n",
        "#         model.add(Conv1D(filters=model_params['conv1D_1_filters'], kernel_size=model_params['conv1D_1_kernel'], activation='relu', kernel_regularizer=regularizers.l2(l=0.001)))\n",
        "\n",
        "#         if(model_params['pool_size'] != 0):\n",
        "#             # Réduction de dimension par l'opération de pooling.\n",
        "#             model.add(MaxPooling1D(pool_size=model_params['pool_size']))\n",
        "\n",
        "#     if(model_params['dense_units'] != 0):\n",
        "#         # Couche dense de neurones avec activation ReLU et régularisation L2.\n",
        "#         model.add(Dense(units=model_params['dense_units'],kernel_regularizer=regularizers.l2(l=0.001)))\n",
        "\n",
        "#     if(model_params['dropout'] != 0):\n",
        "#         # Dropout pour éviter le surapprentissage.\n",
        "#         model.add(Dropout(rate=model_params['dropout']))\n",
        "\n",
        "#     # Transformation des données en un format adapté à une couche Dense.\n",
        "#     model.add(Flatten())\n",
        "\n",
        "#     # Couche de sortie avec une seule sortie.\n",
        "#     model.add(Dense(units=1))\n",
        "\n",
        "#     return model\n",
        "\n",
        "# La fonction ReLU est couramment utilisée dans les réseaux de neurones en raison de sa simplicité et de sa capacité à introduire une non-linéarité dans le modèle,\n",
        "# ce qui permet au réseau de capturer des motifs complexes dans les données."
      ]
    },
    {
      "cell_type": "markdown",
      "metadata": {
        "id": "Tofi22Hb2KQQ"
      },
      "source": [
        "# Entrainement des models"
      ]
    },
    {
      "cell_type": "markdown",
      "metadata": {
        "id": "bIvj5MS82Q2D"
      },
      "source": [
        "## Ou en entrainer un seul"
      ]
    },
    {
      "cell_type": "markdown",
      "metadata": {},
      "source": [
        "### Un seul"
      ]
    },
    {
      "cell_type": "code",
      "execution_count": 217,
      "metadata": {},
      "outputs": [],
      "source": [
        "from keras import backend as K\n",
        "\n",
        "# Définition de la métrique personnalisée d'accuracy avec une tolérance de 20\n",
        "def accuracy_with_tolerance(tolerance=20):\n",
        "    def metric(y_true, y_pred):\n",
        "        # Calcul de la différence absolue entre la valeur prédite et la valeur réelle\n",
        "        diff = K.abs(y_pred - y_true)\n",
        "\n",
        "        # Compte le nombre de prédictions qui sont dans la tolérance\n",
        "        within_tolerance = K.less_equal(diff, tolerance)\n",
        "\n",
        "        # Retourne le pourcentage de prédictions correctes\n",
        "        return K.mean(K.cast(within_tolerance, 'float32'))\n",
        "\n",
        "    return metric"
      ]
    },
    {
      "cell_type": "code",
      "execution_count": 218,
      "metadata": {
        "colab": {
          "base_uri": "https://localhost:8080/"
        },
        "id": "xwx9k9Nc3Alv",
        "outputId": "4429e182-83ce-41d3-b151-a65d57bf6183"
      },
      "outputs": [
        {
          "name": "stdout",
          "output_type": "stream",
          "text": [
            "Model: \"model_25\"\n",
            "__________________________________________________________________________________________________\n",
            " Layer (type)                   Output Shape         Param #     Connected to                     \n",
            "==================================================================================================\n",
            " input_tokens (InputLayer)      [(None, 10000)]      0           []                               \n",
            "                                                                                                  \n",
            " input_word_pos (InputLayer)    [(None, 10000)]      0           []                               \n",
            "                                                                                                  \n",
            " embedding_tokens_A (Embedding)  (None, 10000, 40)   11655600    ['input_tokens[0][0]']           \n",
            "                                                                                                  \n",
            " embedding_tokens_A2 (Embedding  (None, 10000, 40)   11655600    ['input_tokens[0][0]']           \n",
            " )                                                                                                \n",
            "                                                                                                  \n",
            " embedding_tokens_C (Embedding)  (None, 10000, 40)   11655600    ['input_word_pos[0][0]']         \n",
            "                                                                                                  \n",
            " conv1d_A_0 (Conv1D)            (None, 9980, 32)     26912       ['embedding_tokens_A[0][0]']     \n",
            "                                                                                                  \n",
            " conv1d_A2_0 (Conv1D)           (None, 9998, 32)     3872        ['embedding_tokens_A2[0][0]']    \n",
            "                                                                                                  \n",
            " conv1d_C_0 (Conv1D)            (None, 9980, 32)     26912       ['embedding_tokens_C[0][0]']     \n",
            "                                                                                                  \n",
            " maxpooling_A_0 (MaxPooling1D)  (None, 4990, 32)     0           ['conv1d_A_0[0][0]']             \n",
            "                                                                                                  \n",
            " maxpooling_A2_0 (MaxPooling1D)  (None, 4999, 32)    0           ['conv1d_A2_0[0][0]']            \n",
            "                                                                                                  \n",
            " maxpooling_C_0 (MaxPooling1D)  (None, 4990, 32)     0           ['conv1d_C_0[0][0]']             \n",
            "                                                                                                  \n",
            " conv1d_A_1 (Conv1D)            (None, 4970, 32)     21536       ['maxpooling_A_0[0][0]']         \n",
            "                                                                                                  \n",
            " conv1d_A2_1 (Conv1D)           (None, 4997, 32)     3104        ['maxpooling_A2_0[0][0]']        \n",
            "                                                                                                  \n",
            " conv1d_C_1 (Conv1D)            (None, 4970, 32)     21536       ['maxpooling_C_0[0][0]']         \n",
            "                                                                                                  \n",
            " maxpooling_A_1 (MaxPooling1D)  (None, 2485, 32)     0           ['conv1d_A_1[0][0]']             \n",
            "                                                                                                  \n",
            " maxpooling_A2_1 (MaxPooling1D)  (None, 2498, 32)    0           ['conv1d_A2_1[0][0]']            \n",
            "                                                                                                  \n",
            " maxpooling_C_1 (MaxPooling1D)  (None, 2485, 32)     0           ['conv1d_C_1[0][0]']             \n",
            "                                                                                                  \n",
            " conv1d_A_2 (Conv1D)            (None, 2465, 32)     21536       ['maxpooling_A_1[0][0]']         \n",
            "                                                                                                  \n",
            " conv1d_A2_2 (Conv1D)           (None, 2496, 32)     3104        ['maxpooling_A2_1[0][0]']        \n",
            "                                                                                                  \n",
            " conv1d_C_2 (Conv1D)            (None, 2465, 32)     21536       ['maxpooling_C_1[0][0]']         \n",
            "                                                                                                  \n",
            " maxpooling_A_2 (MaxPooling1D)  (None, 1232, 32)     0           ['conv1d_A_2[0][0]']             \n",
            "                                                                                                  \n",
            " maxpooling_A2_2 (MaxPooling1D)  (None, 1248, 32)    0           ['conv1d_A2_2[0][0]']            \n",
            "                                                                                                  \n",
            " maxpooling_C_2 (MaxPooling1D)  (None, 1232, 32)     0           ['conv1d_C_2[0][0]']             \n",
            "                                                                                                  \n",
            " flatten_A (Flatten)            (None, 39424)        0           ['maxpooling_A_2[0][0]']         \n",
            "                                                                                                  \n",
            " flatten_A2 (Flatten)           (None, 39936)        0           ['maxpooling_A2_2[0][0]']        \n",
            "                                                                                                  \n",
            " flatten_C (Flatten)            (None, 39424)        0           ['maxpooling_C_2[0][0]']         \n",
            "                                                                                                  \n",
            " dropout_A (Dropout)            (None, 39424)        0           ['flatten_A[0][0]']              \n",
            "                                                                                                  \n",
            " dropout_A2 (Dropout)           (None, 39936)        0           ['flatten_A2[0][0]']             \n",
            "                                                                                                  \n",
            " dropout_C (Dropout)            (None, 39424)        0           ['flatten_C[0][0]']              \n",
            "                                                                                                  \n",
            " dense_A (Dense)                (None, 32)           1261600     ['dropout_A[0][0]']              \n",
            "                                                                                                  \n",
            " dense_A2 (Dense)               (None, 32)           1277984     ['dropout_A2[0][0]']             \n",
            "                                                                                                  \n",
            " dense_C (Dense)                (None, 32)           1261600     ['dropout_C[0][0]']              \n",
            "                                                                                                  \n",
            " concatenated_features (Concate  (None, 96)          0           ['dense_A[0][0]',                \n",
            " nate)                                                            'dense_A2[0][0]',               \n",
            "                                                                  'dense_C[0][0]']                \n",
            "                                                                                                  \n",
            " dense_combined (Dense)         (None, 64)           6208        ['concatenated_features[0][0]']  \n",
            "                                                                                                  \n",
            " input_word_freq (InputLayer)   [(None, 10000)]      0           []                               \n",
            "                                                                                                  \n",
            " output (Dense)                 (None, 1)            65          ['dense_combined[0][0]']         \n",
            "                                                                                                  \n",
            "==================================================================================================\n",
            "Total params: 38,924,305\n",
            "Trainable params: 38,924,305\n",
            "Non-trainable params: 0\n",
            "__________________________________________________________________________________________________\n",
            "Epoch 1/1000\n",
            "96/96 [==============================] - 29s 283ms/step - loss: 381084.5312 - mae: 338.4974 - metric: 0.1225 - val_loss: 3437.8738 - val_mae: 46.6574 - val_metric: 0.2668\n",
            "Epoch 2/1000\n",
            "96/96 [==============================] - 25s 257ms/step - loss: 2443.5911 - mae: 35.7276 - metric: 0.3784 - val_loss: 1828.8170 - val_mae: 32.5597 - val_metric: 0.3968\n",
            "Epoch 3/1000\n",
            "96/96 [==============================] - 24s 250ms/step - loss: 930.1954 - mae: 20.7078 - metric: 0.6228 - val_loss: 1077.2699 - val_mae: 24.2978 - val_metric: 0.5217\n",
            "Epoch 4/1000\n",
            "96/96 [==============================] - 24s 251ms/step - loss: 458.7742 - mae: 14.4830 - metric: 0.7709 - val_loss: 930.3928 - val_mae: 22.7776 - val_metric: 0.5418\n",
            "Epoch 5/1000\n",
            "96/96 [==============================] - 24s 252ms/step - loss: 262.9755 - mae: 11.3807 - metric: 0.8604 - val_loss: 925.3255 - val_mae: 22.8393 - val_metric: 0.5277\n",
            "Epoch 6/1000\n",
            "96/96 [==============================] - 28s 295ms/step - loss: 192.9142 - mae: 9.2779 - metric: 0.9191 - val_loss: 859.0789 - val_mae: 21.9319 - val_metric: 0.5456\n",
            "Epoch 7/1000\n",
            "96/96 [==============================] - 29s 307ms/step - loss: 136.4490 - mae: 8.1865 - metric: 0.9489 - val_loss: 843.2026 - val_mae: 21.7813 - val_metric: 0.5413\n",
            "Epoch 8/1000\n",
            "96/96 [==============================] - 30s 309ms/step - loss: 119.5543 - mae: 8.0189 - metric: 0.9530 - val_loss: 819.8403 - val_mae: 21.4704 - val_metric: 0.5561\n",
            "Epoch 9/1000\n",
            "96/96 [==============================] - 30s 312ms/step - loss: 107.2604 - mae: 7.4907 - metric: 0.9601 - val_loss: 840.9643 - val_mae: 21.8142 - val_metric: 0.5491\n",
            "Epoch 10/1000\n",
            "96/96 [==============================] - 30s 311ms/step - loss: 135.6185 - mae: 7.4641 - metric: 0.9645 - val_loss: 1188.4634 - val_mae: 26.7340 - val_metric: 0.4510\n",
            "Epoch 11/1000\n",
            "96/96 [==============================] - 30s 318ms/step - loss: 163.3895 - mae: 8.2810 - metric: 0.9466 - val_loss: 976.5712 - val_mae: 23.8225 - val_metric: 0.4924\n"
          ]
        },
        {
          "data": {
            "text/plain": [
              "{'loss': [381084.53125,\n",
              "  2443.591064453125,\n",
              "  930.1953735351562,\n",
              "  458.7742004394531,\n",
              "  262.9754943847656,\n",
              "  192.91419982910156,\n",
              "  136.44900512695312,\n",
              "  119.55428314208984,\n",
              "  107.2603759765625,\n",
              "  135.6184844970703,\n",
              "  163.38949584960938],\n",
              " 'mae': [338.4974365234375,\n",
              "  35.727638244628906,\n",
              "  20.707794189453125,\n",
              "  14.482983589172363,\n",
              "  11.380741119384766,\n",
              "  9.27787971496582,\n",
              "  8.186481475830078,\n",
              "  8.018945693969727,\n",
              "  7.490655899047852,\n",
              "  7.464077472686768,\n",
              "  8.281026840209961],\n",
              " 'metric': [0.12249348312616348,\n",
              "  0.37838542461395264,\n",
              "  0.6227864623069763,\n",
              "  0.7708659172058105,\n",
              "  0.8603515625,\n",
              "  0.9191080927848816,\n",
              "  0.9488932490348816,\n",
              "  0.9529948234558105,\n",
              "  0.9601237177848816,\n",
              "  0.9645182490348816,\n",
              "  0.9466145634651184],\n",
              " 'val_loss': [3437.873779296875,\n",
              "  1828.8170166015625,\n",
              "  1077.2698974609375,\n",
              "  930.3927612304688,\n",
              "  925.3255004882812,\n",
              "  859.078857421875,\n",
              "  843.2025756835938,\n",
              "  819.84033203125,\n",
              "  840.9642944335938,\n",
              "  1188.46337890625,\n",
              "  976.5712280273438],\n",
              " 'val_mae': [46.657432556152344,\n",
              "  32.5596923828125,\n",
              "  24.297752380371094,\n",
              "  22.7775936126709,\n",
              "  22.839296340942383,\n",
              "  21.9318790435791,\n",
              "  21.781286239624023,\n",
              "  21.470428466796875,\n",
              "  21.814218521118164,\n",
              "  26.73402214050293,\n",
              "  23.82251739501953],\n",
              " 'val_metric': [0.2667613625526428,\n",
              "  0.39680397510528564,\n",
              "  0.5216619372367859,\n",
              "  0.5418323874473572,\n",
              "  0.5276988744735718,\n",
              "  0.5455965995788574,\n",
              "  0.5412641763687134,\n",
              "  0.5561079382896423,\n",
              "  0.5490766763687134,\n",
              "  0.4509943127632141,\n",
              "  0.49240055680274963]}"
            ]
          },
          "execution_count": 218,
          "metadata": {},
          "output_type": "execute_result"
        }
      ],
      "source": [
        "from keras.utils.vis_utils import plot_model\n",
        "\n",
        "utils.set_random_seed(420)\n",
        "\n",
        "model_params = {'embedding_dim': 15,\n",
        "                'count_conv1D':1,\n",
        "                'conv1D_1_filters': 64,\n",
        "                'conv1D_1_kernel': 9,\n",
        "                'pool_size':2,\n",
        "                'dense_units': 32,\n",
        "                'dropout':0.4 }\n",
        "\n",
        "# Création du modèle en utilisant l'architecture spécifiée\n",
        "# input_shape = (max_len, embedding_dim+word_param_number)\n",
        "#model = archi(model_params,input_shape)\n",
        "model = define_multi_model(max_len, token_number)\n",
        "\n",
        "plot_model(model, show_shapes=True, to_file='multichannel.png')\n",
        "\n",
        "# Compilation du modèle avec l'optimiseur Adam, la fonction de perte 'mse' et la métrique 'mae'\n",
        "model.compile(optimizer='adam', loss='mean_squared_error', metrics=['mae',accuracy_with_tolerance(20)])\n",
        "# Affichage de la structure du modèle\n",
        "model.summary()\n",
        "\n",
        "# Création du callback EarlyStopping pour surveiller la perte d'entraînement\n",
        "early_stopping = EarlyStopping(monitor='loss', patience=3)\n",
        "\n",
        "# Création du callback EarlyStopping pour surveiller la perte de validation\n",
        "early_stopping_val = EarlyStopping(monitor='val_loss', patience=3)\n",
        "\n",
        "train = [data_trainA,data_trainB,data_trainC]\n",
        "val = [data_valA,data_valB,data_valC]\n",
        "test = [data_testA,data_testB,data_testC]\n",
        "\n",
        "# with tf.device('/cpu:0'):\n",
        "#    data_train_tensor = tf.convert_to_tensor(data_train, np.float32)\n",
        "#    y_train_tensor = tf.convert_to_tensor(y_train, np.float32)\n",
        "#    data_val_tensor = tf.convert_to_tensor(data_val, np.float32)\n",
        "#    y_val_tensor = tf.convert_to_tensor(y_val, np.float32)\n",
        "#    data_test_tensor = tf.convert_to_tensor(data_test, np.float32)\n",
        "#    y_test_tensor = tf.convert_to_tensor(y_test, np.float32)\n",
        "\n",
        "# Entraînement du modèle avec les données d'entraînement et de validation, en utilisant EarlyStopping pour éviter le surapprentissage\n",
        "history = model.fit(train, y_train, epochs=1000, batch_size=64, validation_data=(val, y_val), callbacks=[early_stopping, early_stopping_val])\n",
        "\n",
        "# L'historique de l'entraînement\n",
        "history.history"
      ]
    },
    {
      "cell_type": "markdown",
      "metadata": {},
      "source": [
        "# Evaluation du model"
      ]
    },
    {
      "cell_type": "markdown",
      "metadata": {},
      "source": [
        "## Evaluation par séquence"
      ]
    },
    {
      "cell_type": "code",
      "execution_count": 211,
      "metadata": {},
      "outputs": [
        {
          "name": "stdout",
          "output_type": "stream",
          "text": [
            "Évaluation sur les données de test :\n",
            "17/17 [==============================] - 3s 154ms/step - loss: 968.1437 - mae: 23.2527 - metric: 0.5170\n",
            "\n",
            "Évaluation sur les données d'entraînement :\n",
            "191/191 [==============================] - 23s 122ms/step - loss: 102.5547 - mae: 8.1279 - metric: 0.9720\n",
            "\n",
            "Évaluation sur les données de validation :\n",
            "40/40 [==============================] - 5s 120ms/step - loss: 918.7557 - mae: 22.7627 - metric: 0.5492\n",
            "\n"
          ]
        }
      ],
      "source": [
        "# Évaluer le modèle sur les données de test\n",
        "print(\"Évaluation sur les données de test :\")\n",
        "perte_test, mae_test,accuracy_test = model.evaluate(test, y_test)\n",
        "print()\n",
        "\n",
        "# Évaluer le modèle sur les données d'entraînement\n",
        "print(\"Évaluation sur les données d'entraînement :\")\n",
        "perte_entrainement, mae_entrainement,accuracy_entrainement = model.evaluate(train, y_train)\n",
        "print()\n",
        "\n",
        "# Évaluer le modèle sur les données de validation\n",
        "print(\"Évaluation sur les données de validation :\")\n",
        "perte_validation, mae_validation,accuracy_validation = model.evaluate(val, y_val)\n",
        "print()"
      ]
    },
    {
      "cell_type": "code",
      "execution_count": 212,
      "metadata": {},
      "outputs": [
        {
          "name": "stdout",
          "output_type": "stream",
          "text": [
            "17/17 [==============================] - 2s 136ms/step\n",
            "Accuracy within tolerance: 53.283302063789876 %\n"
          ]
        }
      ],
      "source": [
        "# Prédiction des dates\n",
        "y_pred = model.predict(test)\n",
        "\n",
        "error_samples = []  # Liste pour stocker les échantillons en dehors de la tolérance\n",
        "tolerance = 20  # Tolérance définie pour considérer les prédictions comme correctes\n",
        "within_tolerance_count = 0  # Compteur pour les prédictions dans la tolérance\n",
        "\n",
        "# Parcours de chaque échantillon dans les données de test\n",
        "for i in range(len(y_test)):\n",
        "    # Vérification si la différence entre la valeur prédite et la valeur réelle est dans la tolérance\n",
        "    if abs(round(y_pred[i][0]) - y_test[i]) <= tolerance:\n",
        "        within_tolerance_count += 1\n",
        "\n",
        "# Calcul de l'exactitude dans la tolérance\n",
        "accuracy_within_tolerance = (within_tolerance_count / len(y_test)) * 100\n",
        "\n",
        "print(\"Accuracy within tolerance:\", accuracy_within_tolerance, \"%\")"
      ]
    },
    {
      "cell_type": "markdown",
      "metadata": {},
      "source": [
        "## Evaluation par livre"
      ]
    },
    {
      "cell_type": "code",
      "execution_count": 213,
      "metadata": {},
      "outputs": [
        {
          "name": "stdout",
          "output_type": "stream",
          "text": [
            "17/17 [==============================] - 4s 224ms/step\n",
            "Evaluation on Test Data, MAE (Mean Absolute Error): 24.950944131879663\n",
            "17/17 [==============================] - 3s 169ms/step\n",
            "Accuracy within tolerance: 55.223880597014926 %\n"
          ]
        }
      ],
      "source": [
        "import statistics\n",
        "\n",
        "# Prédiction des dates\n",
        "y_pred = model.predict(test)  \n",
        "y_pred = y_pred.flatten()  \n",
        "\n",
        "current = 0\n",
        "diff_total = 0\n",
        "\n",
        "predicted_book_date = np.zeros(len(sequence_count_book_test)) # Liste pour stocker les dates de prédites pour chaque livre\n",
        "true_book_date = np.zeros(len(sequence_count_book_test))  # Liste pour stocker les dates réelles\n",
        "\n",
        "ind = 0\n",
        "\n",
        "for nb in sequence_count_book_test: \n",
        "    dates = []  # Liste pour stocker les dates prédites pour chaque séquence\n",
        "    # Parcours de séquence\n",
        "    for i in range(nb):\n",
        "        dates.append(y_pred[current])  # Ajouter la prédiction actuelle à la liste des dates\n",
        "        current += 1  # Incrémenter l'indice pour obtenir la prochaine prédiction\n",
        "\n",
        "    # Calculer la moyenne des dates prédites dans cette séquence\n",
        "    # date = sum(dates) / len(dates)\n",
        "    date = statistics.median(dates)\n",
        "    predicted_book_date[ind] = date\n",
        "    true_book_date[ind] = y_test[current-1]\n",
        "    # Calculer la différence absolue entre la moyenne prédite et la vérité terrain\n",
        "    diff = abs(date - y_test[current-1])\n",
        "    diff_total += diff\n",
        "\n",
        "    ind += 1\n",
        "\n",
        "# Calculer la MAE pour les livres\n",
        "mae_book = diff_total / len(sequence_count_book_test)\n",
        "\n",
        "print(\"Evaluation on Test Data, MAE (Mean Absolute Error):\", mae_book)\n",
        "\n",
        "\n",
        "# Prédiction des dates\n",
        "y_pred = model.predict(test)\n",
        "\n",
        "error_samples = []  # Liste pour stocker les échantillons en dehors de la tolérance\n",
        "tolerance = 20  # Tolérance définie pour considérer les prédictions comme correctes\n",
        "within_tolerance_count = 0  # Compteur pour les prédictions dans la tolérance\n",
        "\n",
        "for i in range(len(predicted_book_date)):\n",
        "    # Vérification si la différence entre la date réelle et la date prédite est dans la tolérance\n",
        "    if abs(round(true_book_date[i]) - predicted_book_date[i]) <= tolerance:\n",
        "        within_tolerance_count += 1\n",
        "\n",
        "# Calcul de l'exactitude dans la tolérance\n",
        "accuracy_within_tolerance = (within_tolerance_count / len(predicted_book_date)) * 100\n",
        "\n",
        "print(\"Accuracy within tolerance:\", accuracy_within_tolerance, \"%\")"
      ]
    },
    {
      "cell_type": "markdown",
      "metadata": {},
      "source": [
        "# Save in Datas"
      ]
    },
    {
      "cell_type": "markdown",
      "metadata": {},
      "source": [
        "## Create file"
      ]
    },
    {
      "cell_type": "code",
      "execution_count": 47,
      "metadata": {},
      "outputs": [],
      "source": [
        "# df_models = pd.DataFrame()\n",
        "\n",
        "# df_models['Model Name'] = [\"Model 1\"]\n",
        "# df_models['MAE'] = [mae_test]\n",
        "# df_models['MSE'] = [loss_test]\n",
        "# df_models['Accuracy with tolerance 15 (%)'] = [accuracy_within_tolerance]\n",
        "# # df_models['Train_MAE'] = [mae_train]\n",
        "# # df_models['Train_MSE'] = [loss_train]\n",
        "# # df_models['Val_MAE'] = [mae_validation]\n",
        "# # df_models['Val_MSE'] = [loss_validation]\n",
        "\n",
        "# # Add columns for each element in model_params\n",
        "# for key, value in model_params.items():\n",
        "#     df_models[key] = value\n",
        "\n",
        "# df_models.to_csv('df_models.csv', index=False)\n",
        "\n",
        "# # Afficher les données\n",
        "# display(df_models)"
      ]
    },
    {
      "cell_type": "markdown",
      "metadata": {},
      "source": [
        "## Add data"
      ]
    },
    {
      "cell_type": "code",
      "execution_count": 48,
      "metadata": {},
      "outputs": [],
      "source": [
        "# # Pour supprimer une mauvaise ligne\n",
        "# # Charger les données à partir du fichier CSV\n",
        "# df_models = pd.read_csv('df_models.csv')\n",
        "# df_models.drop(len(df_models)-1, inplace=True)\n",
        "# display(df_models)\n",
        "# df_models.to_csv('df_models.csv', index=False)"
      ]
    },
    {
      "cell_type": "code",
      "execution_count": null,
      "metadata": {},
      "outputs": [],
      "source": [
        "# Charger les données à partir du fichier CSV\n",
        "df_models = pd.read_csv('df_models.csv')\n",
        "model_name = \"Model \"+str(len(df_models)+1)\n",
        "nouvelle_ligne = [model_name,\n",
        "                  mae_test,\n",
        "                  loss_test,\n",
        "                  accuracy_within_tolerance,\n",
        "                  model_params['embedding_dim'],\n",
        "                  model_params['conv1D_1_filters'],\n",
        "                  model_params['conv1D_1_kernel'],\n",
        "                  model_params['pool_size'],\n",
        "                  model_params['dense_units'],\n",
        "                  model_params['dropout']]\n",
        "\n",
        "# Ajouter la nouvelle ligne à la DataFrame\n",
        "df_models.loc[len(df_models)] = nouvelle_ligne\n",
        "\n",
        "df_models.to_csv('df_models.csv', index=False)\n",
        "\n",
        "# Afficher les données mises à jour\n",
        "display(df_models)"
      ]
    },
    {
      "cell_type": "markdown",
      "metadata": {},
      "source": [
        "# Predictions"
      ]
    },
    {
      "cell_type": "code",
      "execution_count": 214,
      "metadata": {},
      "outputs": [
        {
          "name": "stdout",
          "output_type": "stream",
          "text": [
            "17/17 [==============================] - 2s 133ms/step\n",
            "Dates prédites :\n",
            "[1976.2003]\n",
            "[1985.2179]\n",
            "[1976.247]\n",
            "[1977.8011]\n",
            "[1982.0353]\n",
            "[1984.8822]\n",
            "[1990.8021]\n",
            "[1970.4888]\n",
            "[2002.7533]\n",
            "[1988.9814]\n",
            "[2005.4554]\n",
            "[1979.0804]\n",
            "[1980.9313]\n",
            "[1982.4136]\n",
            "[1981.2598]\n",
            "[1982.7142]\n",
            "[2005.3187]\n",
            "[2016.9235]\n",
            "[1977.1256]\n",
            "[1839.6941]\n",
            "[1848.9401]\n",
            "[1862.4363]\n",
            "[1869.5242]\n",
            "[1885.649]\n",
            "[1874.5784]\n",
            "[1884.4537]\n",
            "[1874.6908]\n",
            "[1880.9434]\n",
            "[1890.3478]\n",
            "[1880.8055]\n",
            "[1877.4913]\n",
            "[1879.0177]\n",
            "[1845.4084]\n",
            "[1855.4023]\n",
            "[1852.5543]\n",
            "[1869.0062]\n",
            "[1864.5431]\n",
            "[1858.3778]\n",
            "[1879.5559]\n",
            "[1864.6517]\n",
            "[1829.17]\n",
            "[1851.4257]\n",
            "[1877.7748]\n",
            "[1839.5189]\n",
            "[1852.2775]\n",
            "[1852.3849]\n",
            "[1865.7766]\n",
            "[1856.7062]\n",
            "[1853.7361]\n",
            "[1855.8247]\n",
            "[1864.1588]\n",
            "[1848.7548]\n",
            "[1857.7675]\n",
            "[1903.5415]\n",
            "[1897.0153]\n",
            "[1885.2983]\n",
            "[1890.0109]\n",
            "[1907.7389]\n",
            "[1915.5883]\n",
            "[1903.3075]\n",
            "[1918.2777]\n",
            "[1907.2051]\n",
            "[1915.966]\n",
            "[1907.7354]\n",
            "[1913.5925]\n",
            "[1965.8488]\n",
            "[1969.3458]\n",
            "[1984.8722]\n",
            "[1986.482]\n",
            "[1994.0917]\n",
            "[1971.5693]\n",
            "[1994.6912]\n",
            "[1989.285]\n",
            "[1989.336]\n",
            "[1931.0361]\n",
            "[1930.788]\n",
            "[1931.3083]\n",
            "[1913.4268]\n",
            "[1908.7898]\n",
            "[1931.016]\n",
            "[1932.518]\n",
            "[1923.3005]\n",
            "[1911.3307]\n",
            "[1893.9681]\n",
            "[1903.693]\n",
            "[1900.731]\n",
            "[1903.4685]\n",
            "[1890.5911]\n",
            "[1916.8538]\n",
            "[1916.4083]\n",
            "[1889.5208]\n",
            "[1880.0171]\n",
            "[1915.3948]\n",
            "[1918.4657]\n",
            "[1929.169]\n",
            "[1908.9015]\n",
            "[1915.922]\n",
            "[1903.5465]\n",
            "[1900.8914]\n",
            "[1893.7466]\n",
            "[1903.8402]\n",
            "[1888.588]\n",
            "[1944.5339]\n",
            "[1938.6552]\n",
            "[1943.2462]\n",
            "[1941.9291]\n",
            "[1868.7993]\n",
            "[1859.6698]\n",
            "[1986.2485]\n",
            "[1996.7861]\n",
            "[1991.6968]\n",
            "[1990.6198]\n",
            "[1977.3961]\n",
            "[1997.5431]\n",
            "[1998.3741]\n",
            "[1987.43]\n",
            "[2009.8069]\n",
            "[2009.7715]\n",
            "[1994.267]\n",
            "[1990.0253]\n",
            "[1989.0607]\n",
            "[1928.2124]\n",
            "[1915.247]\n",
            "[1958.4614]\n",
            "[1950.8994]\n",
            "[1915.7231]\n",
            "[1940.4661]\n",
            "[1918.0695]\n",
            "[1879.8872]\n",
            "[1870.7042]\n",
            "[1874.2415]\n",
            "[1882.0513]\n",
            "[1893.9025]\n",
            "[1899.0426]\n",
            "[1892.675]\n",
            "[1885.3712]\n",
            "[1878.464]\n",
            "[1868.2528]\n",
            "[1871.9696]\n",
            "[1893.3643]\n",
            "[1885.3969]\n",
            "[1880.2025]\n",
            "[1887.1346]\n",
            "[1880.7803]\n",
            "[1900.3002]\n",
            "[1897.0707]\n",
            "[1884.1783]\n",
            "[1841.4501]\n",
            "[1846.056]\n",
            "[1837.1066]\n",
            "[1908.1302]\n",
            "[1920.6909]\n",
            "[1917.8749]\n",
            "[1909.19]\n",
            "[1917.9022]\n",
            "[1908.056]\n",
            "[1909.0276]\n",
            "[1912.1313]\n",
            "[1909.9467]\n",
            "[1991.8717]\n",
            "[2012.4308]\n",
            "[2003.1221]\n",
            "[2007.5554]\n",
            "[2006.9036]\n",
            "[2007.7789]\n",
            "[2011.8606]\n",
            "[2010.8645]\n",
            "[1960.8566]\n",
            "[1964.8873]\n",
            "[1965.5455]\n",
            "[1949.4209]\n",
            "[1942.245]\n",
            "[1955.9467]\n",
            "[1962.6727]\n",
            "[1952.8512]\n",
            "[1939.2177]\n",
            "[1944.2784]\n",
            "[1959.1095]\n",
            "[1958.1743]\n",
            "[1954.421]\n",
            "[1957.1127]\n",
            "[1958.8044]\n",
            "[1968.2225]\n",
            "[1962.984]\n",
            "[1974.3942]\n",
            "[1964.5386]\n",
            "[1963.5651]\n",
            "[1943.52]\n",
            "[1965.0728]\n",
            "[1986.4054]\n",
            "[2053.7717]\n",
            "[2006.6538]\n",
            "[1946.124]\n",
            "[1931.9718]\n",
            "[1932.313]\n",
            "[1933.097]\n",
            "[1903.8031]\n",
            "[1888.2583]\n",
            "[1900.4625]\n",
            "[1885.3138]\n",
            "[1901.1102]\n",
            "[1897.6846]\n",
            "[1894.6385]\n",
            "[1895.5369]\n",
            "[1934.2211]\n",
            "[1887.8964]\n",
            "[1921.0607]\n",
            "[1956.3705]\n",
            "[1982.1786]\n",
            "[1962.1967]\n",
            "[1973.1243]\n",
            "[1958.802]\n",
            "[1993.8319]\n",
            "[2006.1091]\n",
            "[2003.1946]\n",
            "[1988.4456]\n",
            "[1993.0193]\n",
            "[2008.6676]\n",
            "[2007.5013]\n",
            "[1992.9413]\n",
            "[1990.792]\n",
            "[2013.9314]\n",
            "[2017.5072]\n",
            "[2006.3076]\n",
            "[2003.3922]\n",
            "[2009.7527]\n",
            "[2008.1388]\n",
            "[2004.2844]\n",
            "[2010.1172]\n",
            "[2002.6608]\n",
            "[2002.6427]\n",
            "[2001.589]\n",
            "[2010.4028]\n",
            "[2019.985]\n",
            "[2018.8163]\n",
            "[2008.4193]\n",
            "[2024.4161]\n",
            "[2011.2966]\n",
            "[2019.8308]\n",
            "[2006.1398]\n",
            "[2009.6871]\n",
            "[2008.1509]\n",
            "[2024.5867]\n",
            "[2027.4874]\n",
            "[2018.0433]\n",
            "[2010.5643]\n",
            "[1940.199]\n",
            "[1942.6049]\n",
            "[1945.3665]\n",
            "[1958.7069]\n",
            "[1970.6111]\n",
            "[1938.896]\n",
            "[1953.2924]\n",
            "[1939.8146]\n",
            "[1942.8795]\n",
            "[1932.1328]\n",
            "[1946.2147]\n",
            "[1949.3297]\n",
            "[1954.1063]\n",
            "[1949.3054]\n",
            "[1960.862]\n",
            "[1966.7865]\n",
            "[1948.9574]\n",
            "[1957.9768]\n",
            "[1951.7517]\n",
            "[1954.6874]\n",
            "[1981.2178]\n",
            "[1996.1044]\n",
            "[2005.6986]\n",
            "[1951.557]\n",
            "[1970.3314]\n",
            "[1962.8584]\n",
            "[1993.4961]\n",
            "[1983.7842]\n",
            "[1967.2953]\n",
            "[1983.0583]\n",
            "[1994.0692]\n",
            "[1972.4012]\n",
            "[1977.0515]\n",
            "[1970.0387]\n",
            "[1967.2338]\n",
            "[1950.358]\n",
            "[1950.6519]\n",
            "[1956.685]\n",
            "[1983.9504]\n",
            "[1994.8492]\n",
            "[1975.4497]\n",
            "[1975.2767]\n",
            "[1998.3961]\n",
            "[1961.2843]\n",
            "[1986.2084]\n",
            "[1910.4673]\n",
            "[1926.4388]\n",
            "[1916.9255]\n",
            "[1927.0392]\n",
            "[1762.2843]\n",
            "[1787.2926]\n",
            "[1934.5552]\n",
            "[1933.6642]\n",
            "[1918.347]\n",
            "[1904.6951]\n",
            "[1915.8939]\n",
            "[1888.321]\n",
            "[1906.0934]\n",
            "[1939.4738]\n",
            "[1887.9691]\n",
            "[1921.7968]\n",
            "[1825.5397]\n",
            "[1839.0453]\n",
            "[1837.1676]\n",
            "[1828.6407]\n",
            "[1839.1993]\n",
            "[1828.1382]\n",
            "[1852.9535]\n",
            "[1819.1692]\n",
            "[1831.7478]\n",
            "[1835.9669]\n",
            "[1836.861]\n",
            "[1819.5938]\n",
            "[1833.9106]\n",
            "[1836.1777]\n",
            "[1850.4015]\n",
            "[1848.9052]\n",
            "[1847.9338]\n",
            "[1860.3483]\n",
            "[1861.3087]\n",
            "[1843.5846]\n",
            "[1845.7794]\n",
            "[1997.0356]\n",
            "[1992.6138]\n",
            "[2000.1888]\n",
            "[1992.5883]\n",
            "[2015.422]\n",
            "[1998.2203]\n",
            "[2002.2281]\n",
            "[1869.0532]\n",
            "[1859.5414]\n",
            "[1867.3267]\n",
            "[1881.106]\n",
            "[1868.9645]\n",
            "[1939.6287]\n",
            "[1912.0292]\n",
            "[1920.4391]\n",
            "[1930.9318]\n",
            "[1918.1599]\n",
            "[1924.2954]\n",
            "[1927.6373]\n",
            "[1923.3802]\n",
            "[1918.2395]\n",
            "[1904.711]\n",
            "[1898.5302]\n",
            "[1928.702]\n",
            "[1993.8286]\n",
            "[1933.6884]\n",
            "[1918.139]\n",
            "[1911.993]\n",
            "[1800.1266]\n",
            "[1793.5482]\n",
            "[1818.1835]\n",
            "[1806.3403]\n",
            "[1845.8387]\n",
            "[1849.5128]\n",
            "[1839.5775]\n",
            "[1839.381]\n",
            "[1855.9857]\n",
            "[1850.9445]\n",
            "[1844.3081]\n",
            "[1836.6162]\n",
            "[1863.1593]\n",
            "[1842.8922]\n",
            "[1846.0951]\n",
            "[1820.355]\n",
            "[1838.3123]\n",
            "[1837.143]\n",
            "[1819.5667]\n",
            "[1865.7761]\n",
            "[1861.6742]\n",
            "[1844.981]\n",
            "[1841.2344]\n",
            "[1842.6486]\n",
            "[1837.8208]\n",
            "[1840.0371]\n",
            "[1989.1222]\n",
            "[1993.7599]\n",
            "[1978.6671]\n",
            "[1981.4288]\n",
            "[1978.7899]\n",
            "[1994.9825]\n",
            "[1993.2384]\n",
            "[1987.1178]\n",
            "[1992.4581]\n",
            "[1995.4012]\n",
            "[1992.387]\n",
            "[1975.1495]\n",
            "[1989.7173]\n",
            "[1981.9618]\n",
            "[1982.1223]\n",
            "[1987.8115]\n",
            "[1986.0305]\n",
            "[1979.6189]\n",
            "[1982.982]\n",
            "[1982.1974]\n",
            "[1971.7482]\n",
            "[2030.5311]\n",
            "[2022.0642]\n",
            "[1980.5337]\n",
            "[1975.4752]\n",
            "[1868.7092]\n",
            "[1884.0404]\n",
            "[1860.5793]\n",
            "[1862.4175]\n",
            "[1870.4062]\n",
            "[1871.3881]\n",
            "[1884.183]\n",
            "[1887.2338]\n",
            "[1886.5972]\n",
            "[1902.1807]\n",
            "[1884.3922]\n",
            "[1869.0728]\n",
            "[1874.4196]\n",
            "[1875.9086]\n",
            "[1866.734]\n",
            "[1879.5703]\n",
            "[1855.6913]\n",
            "[1865.5698]\n",
            "[1884.8995]\n",
            "[1882.2223]\n",
            "[1883.1271]\n",
            "[1870.3667]\n",
            "[1876.2125]\n",
            "[1857.0891]\n",
            "[1857.9818]\n",
            "[1861.2952]\n",
            "[1887.195]\n",
            "[1877.4401]\n",
            "[1881.1063]\n",
            "[1868.1687]\n",
            "[1898.3992]\n",
            "[1877.023]\n",
            "[1870.4935]\n",
            "[1847.9092]\n",
            "[1877.3356]\n",
            "[1865.3464]\n",
            "[1855.2633]\n",
            "[1855.7911]\n",
            "[1866.4938]\n",
            "[1968.7625]\n",
            "[1954.7129]\n",
            "[1965.4242]\n",
            "[1974.3096]\n",
            "[1966.8123]\n",
            "[1969.6422]\n",
            "[1965.2692]\n",
            "[1853.1731]\n",
            "[1826.2245]\n",
            "[1830.75]\n",
            "[1821.916]\n",
            "[1925.3042]\n",
            "[1933.0795]\n",
            "[1921.2101]\n",
            "[1922.0225]\n",
            "[1710.1849]\n",
            "[1704.2765]\n",
            "[1701.6521]\n",
            "[1697.3448]\n",
            "[1712.3416]\n",
            "[1757.5648]\n",
            "[1714.9341]\n",
            "[1705.708]\n",
            "[1753.5929]\n",
            "[1721.8639]\n",
            "[1732.6198]\n",
            "[1725.2982]\n",
            "[1705.4191]\n",
            "[1929.1447]\n",
            "[1921.1263]\n",
            "[1918.5262]\n",
            "[1943.4626]\n",
            "[1880.7578]\n",
            "[1897.4122]\n",
            "[1886.9149]\n",
            "[1889.676]\n",
            "[1884.172]\n",
            "[1881.5189]\n",
            "[1883.9438]\n",
            "[1966.5435]\n",
            "[1982.1152]\n",
            "[1981.5193]\n",
            "[1998.5511]\n",
            "[1989.7357]\n",
            "[1972.0853]\n",
            "[1964.4736]\n",
            "[1974.8243]\n",
            "[1954.1815]\n",
            "[1988.5924]\n",
            "[1966.3118]\n",
            "[1872.9086]\n",
            "[1853.3715]\n",
            "[1859.1401]\n",
            "[1849.1637]\n",
            "[1860.841]\n",
            "[1868.2029]\n",
            "[1840.745]\n",
            "[1835.6831]\n",
            "[1945.2098]\n",
            "[1957.3451]\n",
            "[1946.8658]\n",
            "[1858.5264]\n",
            "[1855.5214]\n",
            "[1871.4489]\n",
            "[1868.7917]\n",
            "[1892.2137]\n",
            "[1911.4485]\n",
            "[1878.353]\n",
            "[1903.6859]\n",
            "[1775.7848]\n",
            "[1757.3201]\n",
            "[1757.0239]\n",
            "[1780.7054]\n",
            "[1775.7943]\n",
            "[1776.0414]\n",
            "[1759.3888]\n",
            "[1957.6649]\n",
            "[1977.5682]\n",
            "[1984.4601]\n",
            "[1982.3087]\n",
            "[1965.5374]\n",
            "[1966.3375]\n",
            "[1972.7631]\n",
            "[1988.3324]\n",
            "[1959.0634]\n",
            "[1955.6455]\n",
            "[1947.5317]\n",
            "max:  [2053.7717]\n",
            "min:  [1697.3448]\n"
          ]
        }
      ],
      "source": [
        "# Utiliser le modèle pour prédire les dates sur les données de test\n",
        "predictions = model.predict(test)\n",
        "\n",
        "# Afficher les dates prédites\n",
        "print(\"Dates prédites :\")\n",
        "for prediction in predictions:\n",
        "    print(prediction)\n",
        "\n",
        "print(\"max: \",max(predictions))\n",
        "print(\"min: \",min(predictions))"
      ]
    },
    {
      "cell_type": "markdown",
      "metadata": {},
      "source": [
        "# Graphes"
      ]
    },
    {
      "cell_type": "code",
      "execution_count": 215,
      "metadata": {},
      "outputs": [
        {
          "data": {
            "image/png": "[encoded data removed]",
            "text/plain": [
              "<Figure size 640x480 with 1 Axes>"
            ]
          },
          "metadata": {},
          "output_type": "display_data"
        },
        {
          "data": {
            "image/png": "[encoded data removed]",
            "text/plain": [
              "<Figure size 640x480 with 1 Axes>"
            ]
          },
          "metadata": {},
          "output_type": "display_data"
        },
        {
          "data": {
            "image/png": "[encoded data removed]",
            "text/plain": [
              "<Figure size 640x480 with 1 Axes>"
            ]
          },
          "metadata": {},
          "output_type": "display_data"
        },
        {
          "name": "stdout",
          "output_type": "stream",
          "text": [
            "17/17 [==============================] - 3s 164ms/step\n"
          ]
        },
        {
          "data": {
            "image/png": "[encoded data removed]",
            "text/plain": [
              "<Figure size 640x480 with 1 Axes>"
            ]
          },
          "metadata": {},
          "output_type": "display_data"
        },
        {
          "data": {
            "image/png": "[encoded data removed]",
            "text/plain": [
              "<Figure size 640x480 with 1 Axes>"
            ]
          },
          "metadata": {},
          "output_type": "display_data"
        },
        {
          "name": "stdout",
          "output_type": "stream",
          "text": [
            "17/17 [==============================] - 2s 116ms/step\n",
            "Accuracy avec exacte matching: 0.5628517823639775 %\n",
            "Accuracy avec tolerance de 15 est: 43.71482176360225 %\n"
          ]
        },
        {
          "data": {
            "image/png": "[encoded data removed]",
            "text/plain": [
              "<Figure size 640x480 with 1 Axes>"
            ]
          },
          "metadata": {},
          "output_type": "display_data"
        }
      ],
      "source": [
        "# Plot training & validation accuracy with tolerance 20\n",
        "plt.plot(history.history['metric'][0:])\n",
        "plt.plot(history.history['val_metric'][0:])\n",
        "plt.title('Model Accuracy Tolerance 20')\n",
        "plt.ylabel('Accuracy')\n",
        "plt.xlabel('Epoch')\n",
        "plt.legend(['Train', 'Validation'], loc='upper right')\n",
        "plt.show()\n",
        "\n",
        "# Plot training & validation loss values\n",
        "plt.plot(history.history['loss'][0:])\n",
        "plt.plot(history.history['val_loss'][0:])\n",
        "plt.title('Model loss')\n",
        "plt.ylabel('Loss')\n",
        "plt.xlabel('Epoch')\n",
        "plt.legend(['Train', 'Validation'], loc='upper right')\n",
        "plt.show()\n",
        "\n",
        "#Plot MAE\n",
        "plt.plot(history.history['mae'][0:]) \n",
        "plt.plot(history.history['val_mae'][0:]) \n",
        "plt.title('Model Mean Absolute Error') \n",
        "plt.ylabel('MAE') \n",
        "plt.xlabel('Epoch') \n",
        "plt.legend(['Train', 'Validation'], loc='upper right') \n",
        "plt.show()\n",
        "\n",
        "#Calcul de la différence entre les années prédites et les années réelles\n",
        "y_pred = model.predict(test) \n",
        "diff = np.abs(y_test - y_pred.flatten())\n",
        "diff2 = np.abs(predicted_book_date - true_book_date)\n",
        "\n",
        "# Calcul des limites maximales des différences pour les deux jeux de données\n",
        "max_diff = max(np.max(diff), np.max(diff2))\n",
        "\n",
        "# Plot de l'histogramme des différences entre les années prédites et réelles pour la séquence\n",
        "plt.hist(diff, bins=20, color='skyblue', edgecolor='black') \n",
        "plt.xlabel('Difference entre années prédites et réelles') \n",
        "plt.ylabel('Nombre de prédictions') \n",
        "plt.title('Répartition des différences entre les années prédites et réelles (séquence)') \n",
        "plt.xlim(0, max_diff)  # Limite des axes pour les deux graphiques\n",
        "plt.show()\n",
        "\n",
        "# Plot de l'histogramme des différences entre les années prédites et réelles pour le livre\n",
        "plt.hist(diff2, bins=20, color='orange', edgecolor='black') \n",
        "plt.xlabel('Difference entre années prédites et réelles') \n",
        "plt.ylabel('Nombre de prédictions') \n",
        "plt.title('Répartition des différences entre les années prédites et réelles (livre)') \n",
        "plt.xlim(0, max_diff)  # Limite des axes pour les deux graphiques\n",
        "plt.show()\n",
        "\n",
        "\n",
        "\n",
        "#-----------------------------------voir quelle année est la plus dure----------------------------------#\n",
        "y_pred = model.predict(test)\n",
        "error_samples = []\n",
        "exact_matches_count = 0\n",
        "\n",
        "for i in range(len(y_test)):\n",
        "    if round(y_pred[i][0]) != y_test[i]:\n",
        "        error_samples.append(y_test[i])\n",
        "    else:\n",
        "        exact_matches_count += 1\n",
        "\n",
        "accuracy_exact_matches = (exact_matches_count / len(y_test)) * 100\n",
        "\n",
        "print(\"Accuracy avec exacte matching:\", accuracy_exact_matches, \"%\")\n",
        "\n",
        "\n",
        "#------------------------voir quelle année est la plus dure (tolerance de 15)---------------------------#\n",
        "error_samples = []\n",
        "tolerance = 15\n",
        "within_tolerance_count = 0\n",
        "\n",
        "for i in range(len(y_test)):\n",
        "    if abs(round(y_pred[i][0]) - y_test[i]) > tolerance:\n",
        "        error_samples.append(y_test[i])\n",
        "    else:\n",
        "        within_tolerance_count += 1\n",
        "\n",
        "accuracy_within_tolerance = (within_tolerance_count / len(y_test)) * 100\n",
        "\n",
        "print(\"Accuracy avec tolerance de\", tolerance, \"est:\", accuracy_within_tolerance, \"%\")\n",
        "\n",
        "\n",
        "# Créer un histogramme des années d'erreur\n",
        "plt.hist(error_samples, bins=max(y_test)-min(y_test)+1, color='skyblue')\n",
        "plt.xlabel('Année')\n",
        "plt.ylabel('Nombre d\\'échantillons mal prédits')\n",
        "plt.title('Histogramme des années d\\'erreur')\n",
        "plt.show()"
      ]
    },
    {
      "cell_type": "markdown",
      "metadata": {},
      "source": [
        "# Load & Save Model"
      ]
    },
    {
      "cell_type": "code",
      "execution_count": 43,
      "metadata": {},
      "outputs": [],
      "source": [
        "# #Sauvegarder le modèle complet au format HDF5\n",
        "# model.save('model/20_04/model_to_show_3.h5')"
      ]
    },
    {
      "cell_type": "code",
      "execution_count": 73,
      "metadata": {},
      "outputs": [
        {
          "name": "stdout",
          "output_type": "stream",
          "text": [
            "Model: \"model_2\"\n",
            "__________________________________________________________________________________________________\n",
            " Layer (type)                   Output Shape         Param #     Connected to                     \n",
            "==================================================================================================\n",
            " input_tokens (InputLayer)      [(None, 30000)]      0           []                               \n",
            "                                                                                                  \n",
            " input_word_pos (InputLayer)    [(None, 30000)]      0           []                               \n",
            "                                                                                                  \n",
            " embedding_tokens_A1 (Embedding  (None, 30000, 40)   11655600    ['input_tokens[0][0]']           \n",
            " )                                                                                                \n",
            "                                                                                                  \n",
            " embedding_tokens_C (Embedding)  (None, 30000, 40)   11655600    ['input_word_pos[0][0]']         \n",
            "                                                                                                  \n",
            " conv1d_A1_1 (Conv1D)           (None, 29980, 32)    26912       ['embedding_tokens_A1[0][0]']    \n",
            "                                                                                                  \n",
            " conv1d_C_1 (Conv1D)            (None, 29980, 32)    26912       ['embedding_tokens_C[0][0]']     \n",
            "                                                                                                  \n",
            " maxpooling_A1_1 (MaxPooling1D)  (None, 14990, 32)   0           ['conv1d_A1_1[0][0]']            \n",
            "                                                                                                  \n",
            " maxpooling_C_1 (MaxPooling1D)  (None, 14990, 32)    0           ['conv1d_C_1[0][0]']             \n",
            "                                                                                                  \n",
            " conv1d_A1_2 (Conv1D)           (None, 14970, 32)    21536       ['maxpooling_A1_1[0][0]']        \n",
            "                                                                                                  \n",
            " conv1d_C_2 (Conv1D)            (None, 14970, 32)    21536       ['maxpooling_C_1[0][0]']         \n",
            "                                                                                                  \n",
            " maxpooling_A1_2 (MaxPooling1D)  (None, 7485, 32)    0           ['conv1d_A1_2[0][0]']            \n",
            "                                                                                                  \n",
            " maxpooling_C_2 (MaxPooling1D)  (None, 7485, 32)     0           ['conv1d_C_2[0][0]']             \n",
            "                                                                                                  \n",
            " conv1d_A1_3 (Conv1D)           (None, 7465, 32)     21536       ['maxpooling_A1_2[0][0]']        \n",
            "                                                                                                  \n",
            " conv1d_C_3 (Conv1D)            (None, 7465, 32)     21536       ['maxpooling_C_2[0][0]']         \n",
            "                                                                                                  \n",
            " maxpooling_A1_3 (MaxPooling1D)  (None, 3732, 32)    0           ['conv1d_A1_3[0][0]']            \n",
            "                                                                                                  \n",
            " maxpooling_C_3 (MaxPooling1D)  (None, 3732, 32)     0           ['conv1d_C_3[0][0]']             \n",
            "                                                                                                  \n",
            " flatten_A1 (Flatten)           (None, 119424)       0           ['maxpooling_A1_3[0][0]']        \n",
            "                                                                                                  \n",
            " flatten_C (Flatten)            (None, 119424)       0           ['maxpooling_C_3[0][0]']         \n",
            "                                                                                                  \n",
            " dropout_A1 (Dropout)           (None, 119424)       0           ['flatten_A1[0][0]']             \n",
            "                                                                                                  \n",
            " dropout_C1 (Dropout)           (None, 119424)       0           ['flatten_C[0][0]']              \n",
            "                                                                                                  \n",
            " dense_A1 (Dense)               (None, 32)           3821600     ['dropout_A1[0][0]']             \n",
            "                                                                                                  \n",
            " dense_C (Dense)                (None, 32)           3821600     ['dropout_C1[0][0]']             \n",
            "                                                                                                  \n",
            " concatenated_features (Concate  (None, 64)          0           ['dense_A1[0][0]',               \n",
            " nate)                                                            'dense_C[0][0]']                \n",
            "                                                                                                  \n",
            " dense_combined (Dense)         (None, 64)           4160        ['concatenated_features[0][0]']  \n",
            "                                                                                                  \n",
            " input_word_freq (InputLayer)   [(None, 30000)]      0           []                               \n",
            "                                                                                                  \n",
            " output (Dense)                 (None, 1)            65          ['dense_combined[0][0]']         \n",
            "                                                                                                  \n",
            "==================================================================================================\n",
            "Total params: 31,098,593\n",
            "Trainable params: 31,098,593\n",
            "Non-trainable params: 0\n",
            "__________________________________________________________________________________________________\n"
          ]
        }
      ],
      "source": [
        "# # Charger le modèle complet\n",
        "# from keras.models import load_model\n",
        "# model = load_model('model/model_to_show_2.h5')\n",
        "\n",
        "# model.summary()"
      ]
    },
    {
      "cell_type": "code",
      "execution_count": null,
      "metadata": {},
      "outputs": [],
      "source": []
    }
  ],
  "metadata": {
    "accelerator": "GPU",
    "colab": {
      "collapsed_sections": [
        "5CK1OPbMz2vm",
        "bIvj5MS82Q2D",
        "s71plxAN2fbA"
      ],
      "gpuType": "T4",
      "provenance": []
    },
    "kernelspec": {
      "display_name": "Python 3",
      "name": "python3"
    },
    "language_info": {
      "codemirror_mode": {
        "name": "ipython",
        "version": 3
      },
      "file_extension": ".py",
      "mimetype": "text/x-python",
      "name": "python",
      "nbconvert_exporter": "python",
      "pygments_lexer": "ipython3",
      "version": "3.9.18"
    }
  },
  "nbformat": 4,
  "nbformat_minor": 0
}
