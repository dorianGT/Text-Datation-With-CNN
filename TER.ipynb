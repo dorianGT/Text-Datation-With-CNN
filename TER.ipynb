{
  "cells": [
    {
      "cell_type": "markdown",
      "metadata": {
        "id": "5CK1OPbMz2vm"
      },
      "source": [
        "# Util"
      ]
    },
    {
      "cell_type": "code",
      "execution_count": 2,
      "metadata": {},
      "outputs": [],
      "source": [
        "# !python -m pip install tensorflow keras\n",
        "# !python -m pip install scikit-learn\n",
        "# !python -m pip install nltk"
      ]
    },
    {
      "cell_type": "code",
      "execution_count": 3,
      "metadata": {
        "id": "r13TuBJFtvXQ"
      },
      "outputs": [],
      "source": [
        "# !pip install tensorflow==2.8.2"
      ]
    },
    {
      "cell_type": "code",
      "execution_count": 4,
      "metadata": {
        "id": "BQAuZrHDwSLL"
      },
      "outputs": [],
      "source": [
        "# !pip install --upgrade tensorflow scikeras keras"
      ]
    },
    {
      "cell_type": "code",
      "execution_count": 5,
      "metadata": {},
      "outputs": [],
      "source": [
        "# import tensorflow as tf\n",
        "# print(\"Version de TensorFlow:\", tf.__version__)\n",
        "\n",
        "# tf.config.list_physical_devices()"
      ]
    },
    {
      "cell_type": "code",
      "execution_count": 6,
      "metadata": {},
      "outputs": [],
      "source": [
        "# import tensorflow as tf\n",
        "# tf.config.experimental.list_physical_devices()\n",
        "# tf.config.list_physical_devices()\n",
        "# tf.test.gpu_device_name()"
      ]
    },
    {
      "cell_type": "code",
      "execution_count": 7,
      "metadata": {},
      "outputs": [],
      "source": [
        "# import tensorflow as tf\n",
        "# print(\"Num GPUs Available: \", len(tf.config.list_physical_devices('GPU')))"
      ]
    },
    {
      "cell_type": "markdown",
      "metadata": {
        "id": "4qgV6HWc0CBC"
      },
      "source": [
        "# Import"
      ]
    },
    {
      "cell_type": "code",
      "execution_count": 1,
      "metadata": {
        "id": "Ql2XMCihytNu"
      },
      "outputs": [
        {
          "name": "stderr",
          "output_type": "stream",
          "text": [
            "[nltk_data] Downloading package punkt to\n",
            "[nltk_data]     C:\\Users\\doria\\AppData\\Roaming\\nltk_data...\n",
            "[nltk_data]   Package punkt is already up-to-date!\n"
          ]
        },
        {
          "data": {
            "text/plain": [
              "True"
            ]
          },
          "execution_count": 1,
          "metadata": {},
          "output_type": "execute_result"
        }
      ],
      "source": [
        "import numpy as np\n",
        "import tensorflow as tf\n",
        "import numpy as np\n",
        "import pandas as pd\n",
        "import fasttext.util\n",
        "\n",
        "from keras.models import Sequential\n",
        "from keras.layers import Embedding, Conv1D, GlobalMaxPooling1D,Reshape, Dense, Dropout, Flatten,BatchNormalization,MaxPooling1D,SpatialDropout1D, Input\n",
        "from keras import regularizers\n",
        "from keras import utils\n",
        "from keras.callbacks import EarlyStopping\n",
        "\n",
        "import re\n",
        "import os\n",
        "import matplotlib.pyplot as plt\n",
        "\n",
        "import nltk\n",
        "from nltk.tokenize import word_tokenize\n",
        "nltk.download('punkt')"
      ]
    },
    {
      "cell_type": "markdown",
      "metadata": {
        "id": "aE7LmOth00nu"
      },
      "source": [
        "# Coder le texte"
      ]
    },
    {
      "cell_type": "markdown",
      "metadata": {
        "id": "6HyXdOTf0H4c"
      },
      "source": [
        "## Récupération des textes et des années de publications (labels)"
      ]
    },
    {
      "cell_type": "code",
      "execution_count": 22,
      "metadata": {},
      "outputs": [],
      "source": [
        "def GetDataBooks(chemin):\n",
        "    # Récupérer la liste des noms de fichiers dans le dossier\n",
        "    fichiers = os.listdir(chemin)\n",
        "    \n",
        "    # Initialiser une liste pour stocker les textes\n",
        "    books = []\n",
        "\n",
        "    # Initialiser une liste pour stocker les années extraites des noms de fichiers\n",
        "    y = []\n",
        "\n",
        "    # Parcourir les fichiers et lire leur contenu\n",
        "    for fichier in fichiers:\n",
        "        chemin_fichier = os.path.join(chemin, fichier)\n",
        "        with open(chemin_fichier, 'r', encoding='utf-8') as f:\n",
        "\n",
        "            texte = f.read()\n",
        "\n",
        "            # Extraire l'année du nom de fichier\n",
        "            annee = re.search(r'\\((\\d{4})\\)', fichier)  # Utilisation d'une expression régulière pour trouver l'année entre parenthèses\n",
        "            # Si une année est trouvée, alors nous pouvons étudier le livre, nous l'ajoutons ainsi que son label dans les listes associées\n",
        "            if annee:\n",
        "                books.append(texte)\n",
        "                annee_int = int(annee.group(1)) # Récupérer l'année\n",
        "                y.append(annee_int)  # Ajouter l'année extraite à la liste des labels\n",
        "    return books,y"
      ]
    },
    {
      "cell_type": "code",
      "execution_count": 23,
      "metadata": {
        "colab": {
          "base_uri": "https://localhost:8080/"
        },
        "id": "shbqFxbaboYN",
        "outputId": "e204a37b-37e5-401c-e6be-fd2aa84d648b"
      },
      "outputs": [],
      "source": [
        "# Définition de la seed pour la reproductibilité des résultats\n",
        "utils.set_random_seed(42)\n",
        "\n",
        "# Chemin des dossier contenant les textes\n",
        "dossier_train = 'train'\n",
        "dossier_test = 'test'\n",
        "dossier_val = 'validation'\n",
        "\n",
        "X_train,y_train = GetDataBooks(dossier_train)\n",
        "X_val,y_val = GetDataBooks(dossier_val)\n",
        "X_test,y_test = GetDataBooks(dossier_test)"
      ]
    },
    {
      "cell_type": "code",
      "execution_count": 11,
      "metadata": {},
      "outputs": [
        {
          "data": {
            "image/png": "[encoded data removed]",
            "text/plain": [
              "<Figure size 1500x500 with 3 Axes>"
            ]
          },
          "metadata": {},
          "output_type": "display_data"
        }
      ],
      "source": [
        "# Calculer la plage maximale des valeurs Y sur les trois ensembles de données\n",
        "max_y = max(max(y_train), max(y_val), max(y_test))\n",
        "min_y = min(min(y_train), min(y_val), min(y_test))\n",
        "\n",
        "# Créer des sous-graphiques avec 1 ligne et 3 colonnes\n",
        "fig, axs = plt.subplots(1, 3, figsize=(15, 5), sharey=True)\n",
        "\n",
        "# Tracer l'histogramme pour les données d'entraînement\n",
        "axs[0].hist(y_train, bins=range(min_y, max_y + 1), alpha=0.5, color='skyblue')\n",
        "axs[0].grid(axis='y', linestyle='--')\n",
        "axs[0].set_xlabel('Année')\n",
        "axs[0].set_ylabel('Nombre de textes')\n",
        "axs[0].set_title('Répartition des textes par année (Entraînement)')\n",
        "\n",
        "# Tracer l'histogramme pour les données de validation\n",
        "axs[1].hist(y_val, bins=range(min_y, max_y + 1), alpha=0.5, color='salmon')\n",
        "axs[1].grid(axis='y', linestyle='--')\n",
        "axs[1].set_xlabel('Année')\n",
        "axs[1].set_ylabel('Nombre de textes')\n",
        "axs[1].set_title('Répartition des textes par année (Validation)')\n",
        "\n",
        "# Tracer l'histogramme pour les données de test\n",
        "axs[2].hist(y_test, bins=range(min_y, max_y + 1), alpha=0.5, color='green')\n",
        "axs[2].grid(axis='y', linestyle='--')\n",
        "axs[2].set_xlabel('Année')\n",
        "axs[2].set_ylabel('Nombre de textes')\n",
        "axs[2].set_title('Répartition des textes par année (Test)')\n",
        "\n",
        "# Ajuster la disposition pour éviter les chevauchements\n",
        "plt.tight_layout()\n",
        "\n",
        "# Afficher les graphiques\n",
        "plt.show()\n"
      ]
    },
    {
      "cell_type": "markdown",
      "metadata": {
        "id": "8qr1HZfr0gkd"
      },
      "source": [
        "## Tokenization + Embedding + division en sequence"
      ]
    },
    {
      "cell_type": "code",
      "execution_count": 4,
      "metadata": {},
      "outputs": [],
      "source": [
        "# Longueur maximale des séquences\n",
        "max_len = 30000\n",
        "# Le nombre de caracteristique en plus de la taille d'embedding\n",
        "# 3 éléments: le token unique + la frequence locale + la fréquence globale\n",
        "word_param_number = 3"
      ]
    },
    {
      "cell_type": "code",
      "execution_count": 5,
      "metadata": {},
      "outputs": [],
      "source": [
        "embedding_dim = 10"
      ]
    },
    {
      "cell_type": "markdown",
      "metadata": {},
      "source": [
        "### Embedding"
      ]
    },
    {
      "cell_type": "code",
      "execution_count": 12,
      "metadata": {},
      "outputs": [],
      "source": [
        "# #Pout télécharger le model\n",
        "# fasttext.util.download_model('fr', if_exists='ignore')"
      ]
    },
    {
      "cell_type": "code",
      "execution_count": 13,
      "metadata": {},
      "outputs": [
        {
          "name": "stderr",
          "output_type": "stream",
          "text": [
            "Warning : `load_model` does not return WordVectorModel or SupervisedModel any more, but a `FastText` object which is very similar.\n"
          ]
        }
      ],
      "source": [
        "# Récupérer le model\n",
        "ft = fasttext.load_model('cc.fr.300.bin')"
      ]
    },
    {
      "cell_type": "code",
      "execution_count": 14,
      "metadata": {},
      "outputs": [
        {
          "data": {
            "text/plain": [
              "<fasttext.FastText._FastText at 0x1f25a8f8190>"
            ]
          },
          "execution_count": 14,
          "metadata": {},
          "output_type": "execute_result"
        }
      ],
      "source": [
        "# Changer la taille du model (on passe à un embedding de dimension 25)\n",
        "fasttext.util.reduce_model(ft, embedding_dim)"
      ]
    },
    {
      "cell_type": "code",
      "execution_count": 15,
      "metadata": {},
      "outputs": [],
      "source": [
        "# Récupération de la matrice contenant les embedding de chaque mot\n",
        "input_matrix = ft.get_input_matrix()"
      ]
    },
    {
      "cell_type": "markdown",
      "metadata": {},
      "source": [
        "### Classe Fonction et Variable"
      ]
    },
    {
      "cell_type": "code",
      "execution_count": 6,
      "metadata": {
        "id": "_7PvkrqXQRxl"
      },
      "outputs": [],
      "source": [
        "class WordTokenizer:\n",
        "    def __init__(self, dict_word=None, dict_word_frequence=None):\n",
        "        if dict_word is None:\n",
        "            self.dict_word = {}\n",
        "            self.word_freq = {}\n",
        "            self.index = 1\n",
        "        else:\n",
        "            self.dict_word = dict_word\n",
        "            self.index = len(dict_word) + 1\n",
        "            self.word_freq = dict_word_frequence\n",
        "\n",
        "    def fit(self, list_of_texts):\n",
        "        # If dict_word_frequence is None, initialize word_freq\n",
        "        if self.word_freq is None:\n",
        "            self.word_freq = {}\n",
        "\n",
        "        # Calculate word frequency\n",
        "        for text in list_of_texts:\n",
        "            tokens = word_tokenize(text)\n",
        "            for token in tokens:\n",
        "                if token in self.word_freq:\n",
        "                    self.word_freq[token] += 1\n",
        "                else:\n",
        "                    self.word_freq[token] = 1\n",
        "\n",
        "        # Sort words by frequency in descending order\n",
        "        sorted_words = sorted(self.word_freq.items(), key=lambda x: x[1], reverse=True)\n",
        "\n",
        "        # Assign indices based on frequency\n",
        "        for _, (word, _) in enumerate(sorted_words):\n",
        "            if word not in self.dict_word:\n",
        "                self.dict_word[word] = self.index\n",
        "                self.index += 1\n",
        "\n",
        "        print(\"\\nTokenization complete.\")\n",
        "\n",
        "    def get_local_word_freq(self, tokens):\n",
        "        # Initialise un dictionnaire pour stocker la fréquence locale des mots\n",
        "        local_word_freq = {}\n",
        "        # Parcourt tous les tokens dans la liste\n",
        "        for token in tokens:\n",
        "            # Vérifie si le token n'est pas déjà présent dans le dictionnaire\n",
        "            if token not in local_word_freq:\n",
        "                # Si le token n'est pas présent, initialise sa fréquence à 1\n",
        "                local_word_freq[token] = 1\n",
        "            else:\n",
        "                # Si le token est déjà présent, incrémente sa fréquence de 1\n",
        "                local_word_freq[token] += 1\n",
        "        # Retourne le dictionnaire de fréquence locale des mots\n",
        "        return local_word_freq\n",
        "\n",
        "    def tokenize(self, list_of_texts):\n",
        "        total_texts = len(list_of_texts)\n",
        "        # Initialise un tableau pour stocker les tokens de chaque texte\n",
        "        token_arrays = np.empty((total_texts,), dtype=object)\n",
        "\n",
        "        # Parcourt chaque texte dans la liste\n",
        "        for i, text in enumerate(list_of_texts):\n",
        "            # Tokenise le texte en mots individuels\n",
        "            tokens = word_tokenize(text)\n",
        "\n",
        "            # Trouve l'embedding pour chaque mot dans le texte\n",
        "            vector_id_list = [ft.get_word_id(word) for word in tokens]\n",
        "            embedding = input_matrix[vector_id_list]\n",
        "\n",
        "            # Initialise un tableau pour stocker les informations sur chaque token\n",
        "            token_array = np.empty((len(tokens), embedding_dim + word_param_number), dtype=np.float32)\n",
        "            # Calcule la fréquence locale des mots dans le texte\n",
        "            local_word_freq = self.get_local_word_freq(tokens)\n",
        "\n",
        "            # Parcourt chaque token dans le texte\n",
        "            for j, token in enumerate(tokens):\n",
        "                # Vérifie si le token n'est pas dans le dictionnaire des mots\n",
        "                if token not in self.dict_word:\n",
        "                    # Si le token n'est pas dans le dictionnaire, utilise des valeurs par défaut\n",
        "                    token_array[j] = np.array([0, local_word_freq[token], 0] + embedding[j].tolist(), dtype=np.float32)\n",
        "                else:\n",
        "                    # The unique token of the word + the local word frequence + the global word frequence + the embedding\n",
        "                    token_array[j] = np.array([self.dict_word[token], local_word_freq[token], self.word_freq[token]] + embedding[j].tolist(), dtype=np.float32)\n",
        "\n",
        "            token_arrays[i] = token_array\n",
        "            percentage = (i + 1) / total_texts * 100\n",
        "            print(f\"Progression : {percentage:.2f}% complète\")\n",
        "\n",
        "        print(\"\\nTokenisation terminée.\")\n",
        "        return token_arrays"
      ]
    },
    {
      "cell_type": "code",
      "execution_count": 21,
      "metadata": {
        "id": "zj_poLDZfP0F"
      },
      "outputs": [],
      "source": [
        "def diviser_liste(liste,labels, taille):\n",
        "    resultats = []\n",
        "    res_labels = []\n",
        "    ind = 0\n",
        "    # Parcours de chaque sous-liste dans la liste principale\n",
        "    for sous_liste in liste:\n",
        "        longueur = len(sous_liste)\n",
        "        if(longueur<taille):\n",
        "            ind+=1\n",
        "            continue\n",
        "        nbtour = round(longueur/taille)\n",
        "        lastpos=0\n",
        "        # Division de la sous-liste en morceaux de taille spécifiée\n",
        "        for i in range(nbtour):\n",
        "            if(lastpos + taille > longueur):\n",
        "              if((lastpos + taille)-longueur < max_len/2):\n",
        "                  continue\n",
        "              lastpos -= (lastpos + taille)-longueur\n",
        "\n",
        "            # Ajout du morceau à la liste de résultats\n",
        "            resultat = sous_liste[lastpos:lastpos + taille]\n",
        "            lastpos = lastpos + taille\n",
        "            resultats.append(resultat)\n",
        "\n",
        "            # A chaque fois que je divisie, jajoute le label au meme indice\n",
        "            res_labels.append(labels[ind])\n",
        "        ind+=1\n",
        "\n",
        "    # Convertir resultats et res_labels en tableaux numpy\n",
        "    resultats = np.array(resultats)\n",
        "    res_labels = np.array(res_labels)\n",
        "\n",
        "    return resultats,res_labels"
      ]
    },
    {
      "cell_type": "markdown",
      "metadata": {},
      "source": [
        "### Création du tokenizer + sauvegarde du dictionnaire"
      ]
    },
    {
      "cell_type": "code",
      "execution_count": 19,
      "metadata": {},
      "outputs": [],
      "source": [
        "# tokenizer = WordTokenizer()\n",
        "# tokenizer.fit(X_train)\n",
        "# tokenizer.fit(X_val)"
      ]
    },
    {
      "cell_type": "code",
      "execution_count": 20,
      "metadata": {},
      "outputs": [],
      "source": [
        "# import json\n",
        "\n",
        "# # Chemin du fichier de sauvegarde\n",
        "# path_dict_word = \"dict_word.json\"\n",
        "# path_dict_word_freq = \"dict_word_freq.json\"\n",
        "\n",
        "# # Sauvegarde du dictionnaire en JSON dans un fichier\n",
        "# with open(path_dict_word, \"w\") as json_file:\n",
        "#     json.dump(tokenizer.dict_word, json_file)\n",
        "# with open(path_dict_word_freq, \"w\") as json_file:\n",
        "#     json.dump(tokenizer.word_freq, json_file)"
      ]
    },
    {
      "cell_type": "markdown",
      "metadata": {},
      "source": [
        "### Récupération dico + Création du tokenizer "
      ]
    },
    {
      "cell_type": "code",
      "execution_count": 7,
      "metadata": {},
      "outputs": [],
      "source": [
        "import json\n",
        "\n",
        "# Chemin du fichier JSON à lire\n",
        "path_dict_word = \"dict_word.json\"\n",
        "path_dict_word_freq = \"dict_word_freq.json\"\n",
        "\n",
        "ditc_word = {}\n",
        "word_freq = {}\n",
        "\n",
        "# Lecture du fichier JSON\n",
        "with open(path_dict_word, \"r\") as json_file:\n",
        "    ditc_word = json.load(json_file)\n",
        "with open(path_dict_word_freq, \"r\") as json_file:\n",
        "    word_freq = json.load(json_file)\n",
        "tokenizer = WordTokenizer(dict_word=ditc_word,dict_word_frequence=word_freq)\n",
        "\n",
        "token_number = tokenizer.index"
      ]
    },
    {
      "cell_type": "code",
      "execution_count": 37,
      "metadata": {},
      "outputs": [
        {
          "name": "stdout",
          "output_type": "stream",
          "text": [
            "{',': 1, '.': 2, 'de': 3, 'la': 4, 'et': 5, 'le': 6, 'à': 7, 'il': 8, 'l': 9, 'les': 10, 'un': 11, 'que': 12, 'd': 13, 'en': 14, 'je': 15, 'une': 16, 'elle': 17, 'des': 18, 'qui': 19, 'pas': 20, 'est': 21, 'qu': 22, 'ne': 23, 'dans': 24, '!': 25, 'se': 26, 'ce': 27, 'vous': 28, 'pour': 29, 'du': 30, 'n': 31, 's': 32, '?': 33, 'son': 34, 'était': 35, 'au': 36, 'lui': 37, 'plus': 38, 'avait': 39, 'mais': 40, ';': 41, 'a': 42, 'sur': 43, 'on': 44, ':': 45, 'c': 46, 'sa': 47, 'avec': 48, 'par': 49, 'nous': 50, 'j': 51, 'tout': 52, 'me': 53, 'comme': 54, 'ses': 55, 'si': 56, 'bien': 57, 'm': 58, 'y': 59, 'cette': 60, 'tu': 61, 'dit': 62, 'ils': 63, 'mon': 64, 'ai': 65, 'même': 66, 'sans': 67, 'moi': 68, 'être': 69, 'où': 70, 'ou': 71, 'fait': 72, 'deux': 73, 'aux': 74, 'là': 75, 'ces': 76, 'ma': 77, 'faire': 78, 'leur': 79, 't': 80, 'encore': 81, 'quand': 82, 'rien': 83, 'peu': 84, 'aussi': 85, 'tous': 86, 'autre': 87, 'homme': 88, 'ça': 89, 'peut': 90, 'sont': 91, 'temps': 92, 'non': 93, 'été': 94, 'jamais': 95, 'puis': 96, 'après': 97, 'suis': 98, 'dont': 99, 'avoir': 100}\n"
          ]
        }
      ],
      "source": [
        "# Afficher les 100 premiers éléments\n",
        "first_100 = {word: tokenizer.dict_word[word] for word in list(tokenizer.dict_word.keys())[:100]}\n",
        "print(first_100)"
      ]
    },
    {
      "cell_type": "markdown",
      "metadata": {},
      "source": [
        "### Training Data"
      ]
    },
    {
      "cell_type": "code",
      "execution_count": null,
      "metadata": {
        "id": "NwFu_20zSujU"
      },
      "outputs": [],
      "source": [
        "# Transformation de chaque texte dans X_train en une séquence de float\n",
        "sequences_train = tokenizer.tokenize(X_train)"
      ]
    },
    {
      "cell_type": "code",
      "execution_count": 58,
      "metadata": {},
      "outputs": [
        {
          "name": "stdout",
          "output_type": "stream",
          "text": [
            "[ 3.85000000e+02  3.00000000e+00  1.48180000e+04 -6.85014248e-01\n",
            "  1.40340775e-01 -2.21627504e-01 -3.68927747e-01 -6.10482275e-01\n",
            " -8.40818137e-02  1.34036332e-01  7.66361654e-01  3.95374864e-01\n",
            " -1.06654726e-01]\n"
          ]
        }
      ],
      "source": [
        "print(sequences_train[0][10])"
      ]
    },
    {
      "cell_type": "code",
      "execution_count": 24,
      "metadata": {},
      "outputs": [
        {
          "name": "stdout",
          "output_type": "stream",
          "text": [
            "Nombre de séquences de données: 1640\n"
          ]
        }
      ],
      "source": [
        "# Division des données en séquences de longueur maximale max_len\n",
        "data_train, y_train = diviser_liste(sequences_train, y_train, max_len)\n",
        "\n",
        "# Affichage de la longueur des données\n",
        "print(\"Nombre de séquences de données:\", len(data_train))"
      ]
    },
    {
      "cell_type": "markdown",
      "metadata": {},
      "source": [
        "#### Save & Load"
      ]
    },
    {
      "cell_type": "code",
      "execution_count": 60,
      "metadata": {},
      "outputs": [],
      "source": [
        "np.save(\"Data/tokenized_train\",np.array(sequences_train))"
      ]
    },
    {
      "cell_type": "code",
      "execution_count": 18,
      "metadata": {},
      "outputs": [],
      "source": [
        "sequences_train = np.load(\"Data/tokenized_train.npy\", allow_pickle=True)"
      ]
    },
    {
      "cell_type": "code",
      "execution_count": 27,
      "metadata": {},
      "outputs": [],
      "source": [
        "np.save(\"Data/data_split_train\",data_train)\n",
        "np.save(\"Data/y_split_train\",y_train)"
      ]
    },
    {
      "cell_type": "code",
      "execution_count": 8,
      "metadata": {},
      "outputs": [],
      "source": [
        "data_train = np.load(\"Data/data_split_train.npy\", allow_pickle=True)\n",
        "y_train = np.load(\"Data/y_split_train.npy\", allow_pickle=True)"
      ]
    },
    {
      "cell_type": "markdown",
      "metadata": {},
      "source": [
        "### Validation Data"
      ]
    },
    {
      "cell_type": "code",
      "execution_count": null,
      "metadata": {},
      "outputs": [],
      "source": [
        "sequences_val = tokenizer.tokenize(X_val)"
      ]
    },
    {
      "cell_type": "code",
      "execution_count": 48,
      "metadata": {},
      "outputs": [
        {
          "name": "stdout",
          "output_type": "stream",
          "text": [
            "Nombre de séquences de données: 334\n"
          ]
        }
      ],
      "source": [
        "data_val,y_val = diviser_liste(sequences_val,y_val,max_len)\n",
        "\n",
        "# Affichage de la longueur des données\n",
        "print(\"Nombre de séquences de données:\", len(data_val))"
      ]
    },
    {
      "cell_type": "markdown",
      "metadata": {},
      "source": [
        "#### Save & Load"
      ]
    },
    {
      "cell_type": "code",
      "execution_count": 50,
      "metadata": {},
      "outputs": [],
      "source": [
        "np.save(\"Data/tokenized_val\",np.array(sequences_val))"
      ]
    },
    {
      "cell_type": "code",
      "execution_count": 51,
      "metadata": {},
      "outputs": [],
      "source": [
        "sequences_val = np.load(\"Data/tokenized_val.npy\", allow_pickle=True)"
      ]
    },
    {
      "cell_type": "code",
      "execution_count": 52,
      "metadata": {},
      "outputs": [],
      "source": [
        "np.save(\"Data/data_split_val\",data_val)\n",
        "np.save(\"Data/y_split_val\",y_val)"
      ]
    },
    {
      "cell_type": "code",
      "execution_count": 9,
      "metadata": {},
      "outputs": [],
      "source": [
        "data_val = np.load(\"Data/data_split_val.npy\", allow_pickle=True)\n",
        "y_val = np.load(\"Data/y_split_val.npy\", allow_pickle=True)"
      ]
    },
    {
      "cell_type": "markdown",
      "metadata": {},
      "source": [
        "### Test Data"
      ]
    },
    {
      "cell_type": "code",
      "execution_count": null,
      "metadata": {},
      "outputs": [],
      "source": [
        "# Transformation de chaque texte dans X_test en une séquence d'entiers\n",
        "sequences_test = tokenizer.tokenize(X_test)"
      ]
    },
    {
      "cell_type": "code",
      "execution_count": 44,
      "metadata": {},
      "outputs": [
        {
          "name": "stdout",
          "output_type": "stream",
          "text": [
            "Nombre de séquences de données: 144\n"
          ]
        }
      ],
      "source": [
        "data_test,y_test = diviser_liste(sequences_test,y_test,max_len)\n",
        "\n",
        "# Affichage de la longueur des données\n",
        "print(\"Nombre de séquences de données:\", len(data_test))"
      ]
    },
    {
      "cell_type": "markdown",
      "metadata": {},
      "source": [
        "#### Save & Load"
      ]
    },
    {
      "cell_type": "code",
      "execution_count": 54,
      "metadata": {},
      "outputs": [],
      "source": [
        "np.save(\"Data/tokenized_test\",np.array(sequences_test))"
      ]
    },
    {
      "cell_type": "code",
      "execution_count": 43,
      "metadata": {},
      "outputs": [],
      "source": [
        "sequences_test = np.load(\"Data/tokenized_test.npy\", allow_pickle=True)"
      ]
    },
    {
      "cell_type": "code",
      "execution_count": 55,
      "metadata": {},
      "outputs": [],
      "source": [
        "np.save(\"Data/data_split_test\",data_test)\n",
        "np.save(\"Data/y_split_test\",y_test)"
      ]
    },
    {
      "cell_type": "code",
      "execution_count": 10,
      "metadata": {},
      "outputs": [],
      "source": [
        "data_test = np.load(\"Data/data_split_test.npy\", allow_pickle=True)\n",
        "y_test = np.load(\"Data/y_split_test.npy\", allow_pickle=True)"
      ]
    },
    {
      "cell_type": "markdown",
      "metadata": {},
      "source": [
        "### Affichage informations"
      ]
    },
    {
      "cell_type": "code",
      "execution_count": 11,
      "metadata": {},
      "outputs": [
        {
          "name": "stdout",
          "output_type": "stream",
          "text": [
            "Nombre de séquences de données (Training): 1640\n",
            "Nombre de séquences de données (Validation): 334\n",
            "Nombre de séquences de données (Test): 144\n"
          ]
        }
      ],
      "source": [
        "print(\"Nombre de séquences de données (Training):\", len(data_train))\n",
        "print(\"Nombre de séquences de données (Validation):\", len(data_val))\n",
        "print(\"Nombre de séquences de données (Test):\", len(data_test))"
      ]
    },
    {
      "cell_type": "markdown",
      "metadata": {
        "id": "nquwvt_dB3hx"
      },
      "source": [
        "# Définition des architectures des modeles testés"
      ]
    },
    {
      "cell_type": "code",
      "execution_count": 17,
      "metadata": {
        "id": "RGosKjmyzmuW"
      },
      "outputs": [],
      "source": [
        "def archi(model_params,input_shape):\n",
        "    # Pile linéaire de couches. \n",
        "    # Dans ce modèle, les données passent à travers les couches dans l'ordre où elles ont été ajoutées.\n",
        "    model = Sequential()\n",
        "    \n",
        "    model.add(Input(shape=input_shape))\n",
        "\n",
        "    model.add(Embedding(input_dim=token_number, output_dim=model_params['embedding_dim']))\n",
        "\n",
        "    model.add(Reshape(target_shape=(max_len, model_params['embedding_dim'] * input_shape[1])))\n",
        "\n",
        "    for i in range(model_params['count_conv1D']):\n",
        "        # Couche de convolution à une dimension (1D) au modèle.\n",
        "        model.add(Conv1D(filters=model_params['conv1D_1_filters'], kernel_size=model_params['conv1D_1_kernel'], activation='relu', kernel_regularizer=regularizers.l2(l=0.001)))\n",
        "\n",
        "        if(model_params['pool_size'] != 0):\n",
        "            # Réduction de dimension par l'opération de pooling.\n",
        "            model.add(MaxPooling1D(pool_size=model_params['pool_size']))\n",
        "\n",
        "    if(model_params['dense_units'] != 0):\n",
        "        # Couche dense de neurones avec activation ReLU et régularisation L2.\n",
        "        model.add(Dense(units=model_params['dense_units'],kernel_regularizer=regularizers.l2(l=0.001)))\n",
        "\n",
        "    if(model_params['dropout'] != 0):\n",
        "        # Dropout pour éviter le surapprentissage.\n",
        "        model.add(Dropout(rate=model_params['dropout']))\n",
        "\n",
        "    # Transformation des données en un format adapté à une couche Dense.\n",
        "    model.add(Flatten())\n",
        "\n",
        "    # Couche de sortie avec une seule sortie.\n",
        "    model.add(Dense(units=1))\n",
        "\n",
        "    return model\n",
        "\n",
        "# La fonction ReLU est couramment utilisée dans les réseaux de neurones en raison de sa simplicité et de sa capacité à introduire une non-linéarité dans le modèle,\n",
        "# ce qui permet au réseau de capturer des motifs complexes dans les données."
      ]
    },
    {
      "cell_type": "markdown",
      "metadata": {
        "id": "Tofi22Hb2KQQ"
      },
      "source": [
        "# Entrainement des models"
      ]
    },
    {
      "cell_type": "markdown",
      "metadata": {
        "id": "bIvj5MS82Q2D"
      },
      "source": [
        "## Ou en entrainer un seul"
      ]
    },
    {
      "cell_type": "markdown",
      "metadata": {},
      "source": [
        "### Un seul"
      ]
    },
    {
      "cell_type": "code",
      "execution_count": 27,
      "metadata": {
        "colab": {
          "base_uri": "https://localhost:8080/"
        },
        "id": "xwx9k9Nc3Alv",
        "outputId": "4429e182-83ce-41d3-b151-a65d57bf6183"
      },
      "outputs": [
        {
          "name": "stdout",
          "output_type": "stream",
          "text": [
            "Model: \"sequential_4\"\n",
            "_________________________________________________________________\n",
            " Layer (type)                Output Shape              Param #   \n",
            "=================================================================\n",
            " embedding_4 (Embedding)     (None, 30000, 13, 10)     2913900   \n",
            "                                                                 \n",
            " reshape_4 (Reshape)         (None, 30000, 130)        0         \n",
            "                                                                 \n",
            " conv1d_4 (Conv1D)           (None, 29900, 64)         840384    \n",
            "                                                                 \n",
            " max_pooling1d_4 (MaxPooling  (None, 14950, 64)        0         \n",
            " 1D)                                                             \n",
            "                                                                 \n",
            " dense_4 (Dense)             (None, 14950, 32)         2080      \n",
            "                                                                 \n",
            " dropout_2 (Dropout)         (None, 14950, 32)         0         \n",
            "                                                                 \n",
            " flatten_2 (Flatten)         (None, 478400)            0         \n",
            "                                                                 \n",
            " dense_5 (Dense)             (None, 1)                 478401    \n",
            "                                                                 \n",
            "=================================================================\n",
            "Total params: 4,234,765\n",
            "Trainable params: 4,234,765\n",
            "Non-trainable params: 0\n",
            "_________________________________________________________________\n",
            "Epoch 1/200\n",
            "26/26 [==============================] - 198s 5s/step - loss: 594434.2500 - mae: 578.5522 - val_loss: 59015.0312 - val_mae: 232.7183\n",
            "Epoch 2/200\n",
            "26/26 [==============================] - 77s 3s/step - loss: 21913.1992 - mae: 120.3635 - val_loss: 6076.0347 - val_mae: 64.0723\n",
            "Epoch 3/200\n",
            "26/26 [==============================] - 78s 3s/step - loss: 6839.6909 - mae: 61.7866 - val_loss: 6105.0312 - val_mae: 64.1165\n",
            "Epoch 4/200\n",
            "26/26 [==============================] - 80s 3s/step - loss: 5099.1509 - mae: 53.5952 - val_loss: 6883.1362 - val_mae: 69.8334\n",
            "Epoch 5/200\n",
            "26/26 [==============================] - 77s 3s/step - loss: 3002.0339 - mae: 39.7555 - val_loss: 7406.0825 - val_mae: 73.0755\n"
          ]
        },
        {
          "data": {
            "text/plain": [
              "{'loss': [594434.25,\n",
              "  21913.19921875,\n",
              "  6839.69091796875,\n",
              "  5099.15087890625,\n",
              "  3002.033935546875],\n",
              " 'mae': [578.5521850585938,\n",
              "  120.36346435546875,\n",
              "  61.78657150268555,\n",
              "  53.595237731933594,\n",
              "  39.75547409057617],\n",
              " 'val_loss': [59015.03125,\n",
              "  6076.03466796875,\n",
              "  6105.03125,\n",
              "  6883.13623046875,\n",
              "  7406.08251953125],\n",
              " 'val_mae': [232.71826171875,\n",
              "  64.07231903076172,\n",
              "  64.11647033691406,\n",
              "  69.83340454101562,\n",
              "  73.07553100585938]}"
            ]
          },
          "execution_count": 27,
          "metadata": {},
          "output_type": "execute_result"
        }
      ],
      "source": [
        "utils.set_random_seed(1)\n",
        "\n",
        "model_params = {'embedding_dim': embedding_dim,\n",
        "                'count_conv1D':1,\n",
        "                'conv1D_1_filters': 64,\n",
        "                'conv1D_1_kernel': 101,\n",
        "                'pool_size':2,\n",
        "                'dense_units': 32,\n",
        "                'dropout':0.4 }\n",
        "\n",
        "# Création du modèle en utilisant l'architecture spécifiée\n",
        "input_shape = (max_len, embedding_dim+word_param_number)\n",
        "model = archi(model_params,input_shape)\n",
        "\n",
        "# Compilation du modèle avec l'optimiseur Adam, la fonction de perte 'mse' et la métrique 'mae'\n",
        "model.compile(optimizer='adam', loss='mean_squared_error', metrics=['mae'])\n",
        "# Affichage de la structure du modèle\n",
        "model.summary()\n",
        "\n",
        "# Création du callback EarlyStopping pour surveiller la perte d'entraînement\n",
        "early_stopping = EarlyStopping(monitor='loss', patience=3)\n",
        "\n",
        "# Création du callback EarlyStopping pour surveiller la perte de validation\n",
        "early_stopping_val = EarlyStopping(monitor='val_loss', patience=3)\n",
        "\n",
        "with tf.device('/cpu:0'):\n",
        "   data_train_tensor = tf.convert_to_tensor(data_train, np.float32)\n",
        "   y_train_tensor = tf.convert_to_tensor(y_train, np.float32)\n",
        "   data_val_tensor = tf.convert_to_tensor(data_val, np.float32)\n",
        "   y_val_tensor = tf.convert_to_tensor(y_val, np.float32)\n",
        "   data_test_tensor = tf.convert_to_tensor(data_test, np.float32)\n",
        "   y_test_tensor = tf.convert_to_tensor(y_test, np.float32)\n",
        "\n",
        "# Entraînement du modèle avec les données d'entraînement et de validation, en utilisant EarlyStopping pour éviter le surapprentissage\n",
        "history = model.fit(data_train_tensor, y_train_tensor, epochs=200, batch_size=64, validation_data=(data_val_tensor, y_val_tensor), callbacks=[early_stopping, early_stopping_val])\n",
        "\n",
        "# L'historique de l'entraînement\n",
        "history.history"
      ]
    },
    {
      "cell_type": "markdown",
      "metadata": {},
      "source": [
        "# Evaluation du model"
      ]
    },
    {
      "cell_type": "code",
      "execution_count": 28,
      "metadata": {},
      "outputs": [
        {
          "name": "stdout",
          "output_type": "stream",
          "text": [
            "Evaluation on Test Data:\n",
            "5/5 [==============================] - 6s 721ms/step - loss: 5498.3760 - mae: 63.3273\n",
            "\n",
            "Evaluation on Training Data:\n",
            "52/52 [==============================] - 28s 531ms/step - loss: 1284.7983 - mae: 23.8053\n",
            "\n",
            "Evaluation on Validation Data:\n",
            "11/11 [==============================] - 6s 512ms/step - loss: 7406.0845 - mae: 73.0756\n",
            "\n"
          ]
        }
      ],
      "source": [
        "# Evaluate the model on the test data\n",
        "print(\"Evaluation on Test Data:\")\n",
        "loss_test,mae_test = model.evaluate(data_test_tensor, y_test_tensor)\n",
        "print()\n",
        "\n",
        "# Evaluate the model on the training data\n",
        "print(\"Evaluation on Training Data:\")\n",
        "loss_train,mae_train = model.evaluate(data_train_tensor, y_train_tensor)\n",
        "print()\n",
        "\n",
        "# Evaluate the model on the validation data\n",
        "print(\"Evaluation on Validation Data:\")\n",
        "loss_validation,mae_validation = model.evaluate(data_val_tensor, y_val_tensor)\n",
        "print()"
      ]
    },
    {
      "cell_type": "code",
      "execution_count": 29,
      "metadata": {},
      "outputs": [
        {
          "name": "stdout",
          "output_type": "stream",
          "text": [
            "5/5 [==============================] - 4s 632ms/step\n",
            "Accuracy within tolerance: 13.88888888888889 %\n"
          ]
        }
      ],
      "source": [
        "y_pred = model.predict(data_test_tensor)\n",
        "\n",
        "error_samples = []\n",
        "tolerance = 15\n",
        "within_tolerance_count = 0\n",
        "\n",
        "for i in range(len(y_test)):\n",
        "    if abs(round(y_pred[i][0]) - y_test[i]) <= tolerance:\n",
        "        within_tolerance_count += 1\n",
        "\n",
        "accuracy_within_tolerance = (within_tolerance_count / len(y_test)) * 100\n",
        "\n",
        "print(\"Accuracy within tolerance:\", accuracy_within_tolerance, \"%\")"
      ]
    },
    {
      "cell_type": "markdown",
      "metadata": {},
      "source": [
        "# Save in Datas"
      ]
    },
    {
      "cell_type": "markdown",
      "metadata": {},
      "source": [
        "## Create file"
      ]
    },
    {
      "cell_type": "code",
      "execution_count": 86,
      "metadata": {},
      "outputs": [
        {
          "data": {
            "text/html": [
              "<div>\n",
              "<style scoped>\n",
              "    .dataframe tbody tr th:only-of-type {\n",
              "        vertical-align: middle;\n",
              "    }\n",
              "\n",
              "    .dataframe tbody tr th {\n",
              "        vertical-align: top;\n",
              "    }\n",
              "\n",
              "    .dataframe thead th {\n",
              "        text-align: right;\n",
              "    }\n",
              "</style>\n",
              "<table border=\"1\" class=\"dataframe\">\n",
              "  <thead>\n",
              "    <tr style=\"text-align: right;\">\n",
              "      <th></th>\n",
              "      <th>Model Name</th>\n",
              "      <th>MAE</th>\n",
              "      <th>MSE</th>\n",
              "      <th>Accuracy with tolerance 15 (%)</th>\n",
              "      <th>embedding_dim</th>\n",
              "      <th>conv1D_1_filters</th>\n",
              "      <th>conv1D_1_kernel</th>\n",
              "      <th>pool_size</th>\n",
              "      <th>dense_units</th>\n",
              "      <th>dropout</th>\n",
              "    </tr>\n",
              "  </thead>\n",
              "  <tbody>\n",
              "    <tr>\n",
              "      <th>0</th>\n",
              "      <td>Model 1</td>\n",
              "      <td>22.06307</td>\n",
              "      <td>950.560364</td>\n",
              "      <td>48.173077</td>\n",
              "      <td>10</td>\n",
              "      <td>64</td>\n",
              "      <td>9</td>\n",
              "      <td>2</td>\n",
              "      <td>32</td>\n",
              "      <td>0.4</td>\n",
              "    </tr>\n",
              "  </tbody>\n",
              "</table>\n",
              "</div>"
            ],
            "text/plain": [
              "  Model Name       MAE         MSE  Accuracy with tolerance 15 (%)  \\\n",
              "0    Model 1  22.06307  950.560364                       48.173077   \n",
              "\n",
              "   embedding_dim  conv1D_1_filters  conv1D_1_kernel  pool_size  dense_units  \\\n",
              "0             10                64                9          2           32   \n",
              "\n",
              "   dropout  \n",
              "0      0.4  "
            ]
          },
          "metadata": {},
          "output_type": "display_data"
        }
      ],
      "source": [
        "# df_models = pd.DataFrame()\n",
        "\n",
        "# df_models['Model Name'] = [\"Model 1\"]\n",
        "# df_models['MAE'] = [mae_test]\n",
        "# df_models['MSE'] = [loss_test]\n",
        "# df_models['Accuracy with tolerance 15 (%)'] = [accuracy_within_tolerance]\n",
        "# # df_models['Train_MAE'] = [mae_train]\n",
        "# # df_models['Train_MSE'] = [loss_train]\n",
        "# # df_models['Val_MAE'] = [mae_validation]\n",
        "# # df_models['Val_MSE'] = [loss_validation]\n",
        "\n",
        "# # Add columns for each element in model_params\n",
        "# for key, value in model_params.items():\n",
        "#     df_models[key] = value\n",
        "\n",
        "# df_models.to_csv('df_models.csv', index=False)\n",
        "\n",
        "# # Afficher les données\n",
        "# display(df_models)"
      ]
    },
    {
      "cell_type": "markdown",
      "metadata": {},
      "source": [
        "## Add data"
      ]
    },
    {
      "cell_type": "code",
      "execution_count": 105,
      "metadata": {},
      "outputs": [
        {
          "data": {
            "text/html": [
              "<div>\n",
              "<style scoped>\n",
              "    .dataframe tbody tr th:only-of-type {\n",
              "        vertical-align: middle;\n",
              "    }\n",
              "\n",
              "    .dataframe tbody tr th {\n",
              "        vertical-align: top;\n",
              "    }\n",
              "\n",
              "    .dataframe thead th {\n",
              "        text-align: right;\n",
              "    }\n",
              "</style>\n",
              "<table border=\"1\" class=\"dataframe\">\n",
              "  <thead>\n",
              "    <tr style=\"text-align: right;\">\n",
              "      <th></th>\n",
              "      <th>Model Name</th>\n",
              "      <th>MAE</th>\n",
              "      <th>MSE</th>\n",
              "      <th>Accuracy with tolerance 15 (%)</th>\n",
              "      <th>embedding_dim</th>\n",
              "      <th>conv1D_1_filters</th>\n",
              "      <th>conv1D_1_kernel</th>\n",
              "      <th>pool_size</th>\n",
              "      <th>dense_units</th>\n",
              "      <th>dropout</th>\n",
              "    </tr>\n",
              "  </thead>\n",
              "  <tbody>\n",
              "    <tr>\n",
              "      <th>0</th>\n",
              "      <td>Model 1</td>\n",
              "      <td>22.063070</td>\n",
              "      <td>950.560364</td>\n",
              "      <td>48.173077</td>\n",
              "      <td>10</td>\n",
              "      <td>64</td>\n",
              "      <td>9</td>\n",
              "      <td>2</td>\n",
              "      <td>32</td>\n",
              "      <td>0.4</td>\n",
              "    </tr>\n",
              "    <tr>\n",
              "      <th>1</th>\n",
              "      <td>Model 2</td>\n",
              "      <td>22.810202</td>\n",
              "      <td>1014.273804</td>\n",
              "      <td>44.519231</td>\n",
              "      <td>10</td>\n",
              "      <td>64</td>\n",
              "      <td>9</td>\n",
              "      <td>0</td>\n",
              "      <td>32</td>\n",
              "      <td>0.0</td>\n",
              "    </tr>\n",
              "  </tbody>\n",
              "</table>\n",
              "</div>"
            ],
            "text/plain": [
              "  Model Name        MAE          MSE  Accuracy with tolerance 15 (%)  \\\n",
              "0    Model 1  22.063070   950.560364                       48.173077   \n",
              "1    Model 2  22.810202  1014.273804                       44.519231   \n",
              "\n",
              "   embedding_dim  conv1D_1_filters  conv1D_1_kernel  pool_size  dense_units  \\\n",
              "0             10                64                9          2           32   \n",
              "1             10                64                9          0           32   \n",
              "\n",
              "   dropout  \n",
              "0      0.4  \n",
              "1      0.0  "
            ]
          },
          "metadata": {},
          "output_type": "display_data"
        }
      ],
      "source": [
        "# # Pour supprimer une mauvaise ligne\n",
        "# # Charger les données à partir du fichier CSV\n",
        "# df_models = pd.read_csv('df_models.csv')\n",
        "# df_models.drop(len(df_models)-1, inplace=True)\n",
        "# display(df_models)\n",
        "# df_models.to_csv('df_models.csv', index=False)"
      ]
    },
    {
      "cell_type": "code",
      "execution_count": 56,
      "metadata": {},
      "outputs": [
        {
          "data": {
            "text/html": [
              "<div>\n",
              "<style scoped>\n",
              "    .dataframe tbody tr th:only-of-type {\n",
              "        vertical-align: middle;\n",
              "    }\n",
              "\n",
              "    .dataframe tbody tr th {\n",
              "        vertical-align: top;\n",
              "    }\n",
              "\n",
              "    .dataframe thead th {\n",
              "        text-align: right;\n",
              "    }\n",
              "</style>\n",
              "<table border=\"1\" class=\"dataframe\">\n",
              "  <thead>\n",
              "    <tr style=\"text-align: right;\">\n",
              "      <th></th>\n",
              "      <th>Model Name</th>\n",
              "      <th>MAE</th>\n",
              "      <th>MSE</th>\n",
              "      <th>Accuracy with tolerance 15 (%)</th>\n",
              "      <th>embedding_dim</th>\n",
              "      <th>conv1D_1_filters</th>\n",
              "      <th>conv1D_1_kernel</th>\n",
              "      <th>pool_size</th>\n",
              "      <th>dense_units</th>\n",
              "      <th>dropout</th>\n",
              "    </tr>\n",
              "  </thead>\n",
              "  <tbody>\n",
              "    <tr>\n",
              "      <th>0</th>\n",
              "      <td>Model 1</td>\n",
              "      <td>22.063070</td>\n",
              "      <td>950.560364</td>\n",
              "      <td>48.173077</td>\n",
              "      <td>10</td>\n",
              "      <td>64</td>\n",
              "      <td>9</td>\n",
              "      <td>2</td>\n",
              "      <td>32</td>\n",
              "      <td>0.4</td>\n",
              "    </tr>\n",
              "    <tr>\n",
              "      <th>1</th>\n",
              "      <td>Model 2</td>\n",
              "      <td>22.810202</td>\n",
              "      <td>1014.273804</td>\n",
              "      <td>44.519231</td>\n",
              "      <td>10</td>\n",
              "      <td>64</td>\n",
              "      <td>9</td>\n",
              "      <td>0</td>\n",
              "      <td>32</td>\n",
              "      <td>0.0</td>\n",
              "    </tr>\n",
              "    <tr>\n",
              "      <th>2</th>\n",
              "      <td>Model 3</td>\n",
              "      <td>23.583460</td>\n",
              "      <td>1128.512939</td>\n",
              "      <td>44.134615</td>\n",
              "      <td>10</td>\n",
              "      <td>64</td>\n",
              "      <td>21</td>\n",
              "      <td>2</td>\n",
              "      <td>32</td>\n",
              "      <td>0.4</td>\n",
              "    </tr>\n",
              "    <tr>\n",
              "      <th>3</th>\n",
              "      <td>Model 4</td>\n",
              "      <td>28.019279</td>\n",
              "      <td>1690.051880</td>\n",
              "      <td>38.461538</td>\n",
              "      <td>10</td>\n",
              "      <td>64</td>\n",
              "      <td>101</td>\n",
              "      <td>2</td>\n",
              "      <td>32</td>\n",
              "      <td>0.4</td>\n",
              "    </tr>\n",
              "    <tr>\n",
              "      <th>4</th>\n",
              "      <td>Model 5</td>\n",
              "      <td>21.885794</td>\n",
              "      <td>1028.734985</td>\n",
              "      <td>47.980769</td>\n",
              "      <td>10</td>\n",
              "      <td>256</td>\n",
              "      <td>9</td>\n",
              "      <td>2</td>\n",
              "      <td>32</td>\n",
              "      <td>0.4</td>\n",
              "    </tr>\n",
              "    <tr>\n",
              "      <th>5</th>\n",
              "      <td>Model 6</td>\n",
              "      <td>22.424904</td>\n",
              "      <td>898.838074</td>\n",
              "      <td>42.692308</td>\n",
              "      <td>10</td>\n",
              "      <td>64</td>\n",
              "      <td>9</td>\n",
              "      <td>2</td>\n",
              "      <td>256</td>\n",
              "      <td>0.4</td>\n",
              "    </tr>\n",
              "    <tr>\n",
              "      <th>6</th>\n",
              "      <td>Model 7</td>\n",
              "      <td>22.706444</td>\n",
              "      <td>1007.537842</td>\n",
              "      <td>46.634615</td>\n",
              "      <td>10</td>\n",
              "      <td>64</td>\n",
              "      <td>9</td>\n",
              "      <td>2</td>\n",
              "      <td>32</td>\n",
              "      <td>0.6</td>\n",
              "    </tr>\n",
              "    <tr>\n",
              "      <th>7</th>\n",
              "      <td>Model 8</td>\n",
              "      <td>21.387081</td>\n",
              "      <td>918.364624</td>\n",
              "      <td>48.365385</td>\n",
              "      <td>10</td>\n",
              "      <td>64</td>\n",
              "      <td>9</td>\n",
              "      <td>2</td>\n",
              "      <td>32</td>\n",
              "      <td>0.8</td>\n",
              "    </tr>\n",
              "    <tr>\n",
              "      <th>8</th>\n",
              "      <td>Model 9</td>\n",
              "      <td>40.718819</td>\n",
              "      <td>2948.271729</td>\n",
              "      <td>20.480769</td>\n",
              "      <td>10</td>\n",
              "      <td>256</td>\n",
              "      <td>101</td>\n",
              "      <td>2</td>\n",
              "      <td>256</td>\n",
              "      <td>0.8</td>\n",
              "    </tr>\n",
              "    <tr>\n",
              "      <th>9</th>\n",
              "      <td>Model 10</td>\n",
              "      <td>32.127167</td>\n",
              "      <td>2087.925781</td>\n",
              "      <td>35.247525</td>\n",
              "      <td>10</td>\n",
              "      <td>256</td>\n",
              "      <td>9</td>\n",
              "      <td>2</td>\n",
              "      <td>320</td>\n",
              "      <td>0.4</td>\n",
              "    </tr>\n",
              "    <tr>\n",
              "      <th>10</th>\n",
              "      <td>Model 11</td>\n",
              "      <td>36.622826</td>\n",
              "      <td>2927.973389</td>\n",
              "      <td>29.504950</td>\n",
              "      <td>10</td>\n",
              "      <td>256</td>\n",
              "      <td>9</td>\n",
              "      <td>2</td>\n",
              "      <td>32</td>\n",
              "      <td>0.4</td>\n",
              "    </tr>\n",
              "    <tr>\n",
              "      <th>11</th>\n",
              "      <td>Model 12</td>\n",
              "      <td>34.672729</td>\n",
              "      <td>2323.478760</td>\n",
              "      <td>27.128713</td>\n",
              "      <td>10</td>\n",
              "      <td>256</td>\n",
              "      <td>9</td>\n",
              "      <td>2</td>\n",
              "      <td>640</td>\n",
              "      <td>0.4</td>\n",
              "    </tr>\n",
              "    <tr>\n",
              "      <th>12</th>\n",
              "      <td>Model 13</td>\n",
              "      <td>77.118279</td>\n",
              "      <td>14406.686523</td>\n",
              "      <td>14.257426</td>\n",
              "      <td>10</td>\n",
              "      <td>64</td>\n",
              "      <td>9</td>\n",
              "      <td>2</td>\n",
              "      <td>64</td>\n",
              "      <td>0.4</td>\n",
              "    </tr>\n",
              "  </tbody>\n",
              "</table>\n",
              "</div>"
            ],
            "text/plain": [
              "   Model Name        MAE           MSE  Accuracy with tolerance 15 (%)  \\\n",
              "0     Model 1  22.063070    950.560364                       48.173077   \n",
              "1     Model 2  22.810202   1014.273804                       44.519231   \n",
              "2     Model 3  23.583460   1128.512939                       44.134615   \n",
              "3     Model 4  28.019279   1690.051880                       38.461538   \n",
              "4     Model 5  21.885794   1028.734985                       47.980769   \n",
              "5     Model 6  22.424904    898.838074                       42.692308   \n",
              "6     Model 7  22.706444   1007.537842                       46.634615   \n",
              "7     Model 8  21.387081    918.364624                       48.365385   \n",
              "8     Model 9  40.718819   2948.271729                       20.480769   \n",
              "9    Model 10  32.127167   2087.925781                       35.247525   \n",
              "10   Model 11  36.622826   2927.973389                       29.504950   \n",
              "11   Model 12  34.672729   2323.478760                       27.128713   \n",
              "12   Model 13  77.118279  14406.686523                       14.257426   \n",
              "\n",
              "    embedding_dim  conv1D_1_filters  conv1D_1_kernel  pool_size  dense_units  \\\n",
              "0              10                64                9          2           32   \n",
              "1              10                64                9          0           32   \n",
              "2              10                64               21          2           32   \n",
              "3              10                64              101          2           32   \n",
              "4              10               256                9          2           32   \n",
              "5              10                64                9          2          256   \n",
              "6              10                64                9          2           32   \n",
              "7              10                64                9          2           32   \n",
              "8              10               256              101          2          256   \n",
              "9              10               256                9          2          320   \n",
              "10             10               256                9          2           32   \n",
              "11             10               256                9          2          640   \n",
              "12             10                64                9          2           64   \n",
              "\n",
              "    dropout  \n",
              "0       0.4  \n",
              "1       0.0  \n",
              "2       0.4  \n",
              "3       0.4  \n",
              "4       0.4  \n",
              "5       0.4  \n",
              "6       0.6  \n",
              "7       0.8  \n",
              "8       0.8  \n",
              "9       0.4  \n",
              "10      0.4  \n",
              "11      0.4  \n",
              "12      0.4  "
            ]
          },
          "metadata": {},
          "output_type": "display_data"
        }
      ],
      "source": [
        "# Charger les données à partir du fichier CSV\n",
        "df_models = pd.read_csv('df_models.csv')\n",
        "model_name = \"Model \"+str(len(df_models)+1)\n",
        "nouvelle_ligne = [model_name,\n",
        "                  mae_test,\n",
        "                  loss_test,\n",
        "                  accuracy_within_tolerance,\n",
        "                  model_params['embedding_dim'],\n",
        "                  model_params['conv1D_1_filters'],\n",
        "                  model_params['conv1D_1_kernel'],\n",
        "                  model_params['pool_size'],\n",
        "                  model_params['dense_units'],\n",
        "                  model_params['dropout']]\n",
        "\n",
        "# Ajouter la nouvelle ligne à la DataFrame\n",
        "df_models.loc[len(df_models)] = nouvelle_ligne\n",
        "\n",
        "df_models.to_csv('df_models.csv', index=False)\n",
        "\n",
        "# Afficher les données mises à jour\n",
        "display(df_models)"
      ]
    },
    {
      "cell_type": "markdown",
      "metadata": {},
      "source": [
        "# Predictions"
      ]
    },
    {
      "cell_type": "code",
      "execution_count": 30,
      "metadata": {},
      "outputs": [
        {
          "name": "stdout",
          "output_type": "stream",
          "text": [
            "5/5 [==============================] - 4s 630ms/step\n",
            "Dates prédites :\n",
            "[1947.5366]\n",
            "[1946.1206]\n",
            "[1938.9203]\n",
            "[1938.2603]\n",
            "[1935.1598]\n",
            "[1872.4703]\n",
            "[1874.3296]\n",
            "[1872.1633]\n",
            "[1870.8301]\n",
            "[1872.7074]\n",
            "[1871.1674]\n",
            "[1895.6199]\n",
            "[1895.9286]\n",
            "[1890.2664]\n",
            "[1891.2178]\n",
            "[1939.3579]\n",
            "[1938.2491]\n",
            "[1993.8948]\n",
            "[1913.3043]\n",
            "[1941.2227]\n",
            "[1954.05]\n",
            "[1954.9441]\n",
            "[1958.4216]\n",
            "[1959.5588]\n",
            "[1958.7076]\n",
            "[1962.5526]\n",
            "[1962.2213]\n",
            "[1953.1002]\n",
            "[1954.6305]\n",
            "[1896.1321]\n",
            "[1953.395]\n",
            "[1953.2131]\n",
            "[1953.9967]\n",
            "[1954.3533]\n",
            "[1928.5911]\n",
            "[1929.2992]\n",
            "[1915.7651]\n",
            "[1913.8369]\n",
            "[1911.682]\n",
            "[1907.3492]\n",
            "[1910.0974]\n",
            "[1891.9155]\n",
            "[1899.7826]\n",
            "[1892.364]\n",
            "[1889.9211]\n",
            "[1945.8372]\n",
            "[1950.8223]\n",
            "[1936.5269]\n",
            "[1935.0839]\n",
            "[1941.2759]\n",
            "[1938.3196]\n",
            "[1922.7458]\n",
            "[1917.7722]\n",
            "[1924.9241]\n",
            "[1869.1742]\n",
            "[1924.7372]\n",
            "[1918.1814]\n",
            "[1883.1115]\n",
            "[1912.5863]\n",
            "[1914.2507]\n",
            "[1915.9702]\n",
            "[1915.1018]\n",
            "[1957.5587]\n",
            "[1954.3037]\n",
            "[1953.964]\n",
            "[1957.2074]\n",
            "[1955.5986]\n",
            "[1954.616]\n",
            "[1955.5615]\n",
            "[1918.5281]\n",
            "[1916.0927]\n",
            "[1917.7162]\n",
            "[1892.8331]\n",
            "[1904.2996]\n",
            "[1904.3969]\n",
            "[1905.5172]\n",
            "[1910.5894]\n",
            "[1887.2501]\n",
            "[1885.585]\n",
            "[1885.0908]\n",
            "[1886.0485]\n",
            "[1980.5697]\n",
            "[1942.0947]\n",
            "[1936.5239]\n",
            "[1940.1094]\n",
            "[1892.6195]\n",
            "[1934.6614]\n",
            "[1934.1178]\n",
            "[1941.9073]\n",
            "[1936.205]\n",
            "[1932.5854]\n",
            "[1897.6893]\n",
            "[1913.1555]\n",
            "[1908.2771]\n",
            "[1909.2753]\n",
            "[1913.6293]\n",
            "[1913.3054]\n",
            "[1936.7261]\n",
            "[1903.4482]\n",
            "[1899.0345]\n",
            "[1895.036]\n",
            "[1893.602]\n",
            "[1945.4625]\n",
            "[1939.208]\n",
            "[1899.9254]\n",
            "[1900.4067]\n",
            "[1902.3608]\n",
            "[1905.4825]\n",
            "[1903.4347]\n",
            "[1902.1051]\n",
            "[1914.5095]\n",
            "[1906.8832]\n",
            "[1913.8657]\n",
            "[1910.287]\n",
            "[1912.2734]\n",
            "[1924.2897]\n",
            "[1927.1036]\n",
            "[1900.6044]\n",
            "[1892.3008]\n",
            "[1875.2404]\n",
            "[1877.7781]\n",
            "[1930.9564]\n",
            "[1936.7947]\n",
            "[1891.9755]\n",
            "[1866.7521]\n",
            "[1880.3856]\n",
            "[1874.4955]\n",
            "[1878.3563]\n",
            "[1875.6616]\n",
            "[1912.2228]\n",
            "[1919.2505]\n",
            "[1912.6594]\n",
            "[1898.2521]\n",
            "[1896.4077]\n",
            "[1941.6567]\n",
            "[1933.7421]\n",
            "[1914.6958]\n",
            "[1928.9052]\n",
            "[1947.2725]\n",
            "[1935.8274]\n",
            "[1935.0963]\n",
            "[1904.2437]\n",
            "[1902.1874]\n",
            "[1900.8494]\n"
          ]
        }
      ],
      "source": [
        "# Utiliser le modèle pour prédire les dates sur les données de test\n",
        "predictions = model.predict(data_test_tensor)\n",
        "\n",
        "# Afficher les dates prédites\n",
        "print(\"Dates prédites :\")\n",
        "for prediction in predictions:\n",
        "    print(prediction)"
      ]
    },
    {
      "cell_type": "markdown",
      "metadata": {},
      "source": [
        "# Graphes"
      ]
    },
    {
      "cell_type": "code",
      "execution_count": 31,
      "metadata": {},
      "outputs": [
        {
          "data": {
            "image/png": "[encoded data removed]",
            "text/plain": [
              "<Figure size 640x480 with 1 Axes>"
            ]
          },
          "metadata": {},
          "output_type": "display_data"
        },
        {
          "data": {
            "image/png": "[encoded data removed]",
            "text/plain": [
              "<Figure size 640x480 with 1 Axes>"
            ]
          },
          "metadata": {},
          "output_type": "display_data"
        },
        {
          "name": "stdout",
          "output_type": "stream",
          "text": [
            "5/5 [==============================] - 4s 633ms/step\n"
          ]
        },
        {
          "data": {
            "image/png": "[encoded data removed]",
            "text/plain": [
              "<Figure size 640x480 with 1 Axes>"
            ]
          },
          "metadata": {},
          "output_type": "display_data"
        },
        {
          "name": "stdout",
          "output_type": "stream",
          "text": [
            "5/5 [==============================] - 4s 637ms/step\n",
            "Accuracy avec exacte matching: 0.6944444444444444 %\n",
            "Accuracy avec tolerance de 15 est: 13.88888888888889 %\n"
          ]
        },
        {
          "data": {
            "image/png": "[encoded data removed]",
            "text/plain": [
              "<Figure size 640x480 with 1 Axes>"
            ]
          },
          "metadata": {},
          "output_type": "display_data"
        }
      ],
      "source": [
        "# Plot training & validation loss values\n",
        "plt.plot(history.history['loss'][1:])\n",
        "plt.plot(history.history['val_loss'][1:])\n",
        "plt.title('Model loss')\n",
        "plt.ylabel('Loss')\n",
        "plt.xlabel('Epoch')\n",
        "plt.legend(['Train', 'Validation'], loc='upper right')\n",
        "plt.show()\n",
        "\n",
        "#Plot MAE\n",
        "plt.plot(history.history['mae'][1:]) \n",
        "plt.plot(history.history['val_mae'][1:]) \n",
        "plt.title('Model Mean Absolute Error') \n",
        "plt.ylabel('MAE') \n",
        "plt.xlabel('Epoch') \n",
        "plt.legend(['Train', 'Validation'], loc='upper right') \n",
        "plt.show()\n",
        "\n",
        "#Calcul de la différence entre les années prédites et les années réelles\n",
        "y_pred = model.predict(data_test) \n",
        "diff = np.abs(y_test - y_pred.flatten())\n",
        "\n",
        "#le dernier bin\n",
        "max_diff = np.max(diff)\n",
        "\n",
        "#Plot de l'histogramme des différences entre les années prédites et réelles\n",
        "plt.hist(diff, bins=np.arange(0,max_diff,1)) \n",
        "plt.xlabel('Difference entre années prédites et réelles') \n",
        "plt.ylabel('Nombre de prédictions') \n",
        "plt.title('Répartition des différences entre les années prédites et réelles') \n",
        "plt.show()\n",
        "\n",
        "\n",
        "#-----------------------------------voir quelle année est la plus dure----------------------------------#\n",
        "y_pred = model.predict(data_test)\n",
        "error_samples = []\n",
        "exact_matches_count = 0\n",
        "\n",
        "for i in range(len(y_test)):\n",
        "    if round(y_pred[i][0]) != y_test[i]:\n",
        "        error_samples.append(y_test[i])\n",
        "    else:\n",
        "        exact_matches_count += 1\n",
        "\n",
        "accuracy_exact_matches = (exact_matches_count / len(y_test)) * 100\n",
        "\n",
        "print(\"Accuracy avec exacte matching:\", accuracy_exact_matches, \"%\")\n",
        "\n",
        "\n",
        "#------------------------voir quelle année est la plus dure (tolerance de 15)---------------------------#\n",
        "error_samples = []\n",
        "tolerance = 15\n",
        "within_tolerance_count = 0\n",
        "\n",
        "for i in range(len(y_test)):\n",
        "    if abs(round(y_pred[i][0]) - y_test[i]) > tolerance:\n",
        "        error_samples.append(y_test[i])\n",
        "    else:\n",
        "        within_tolerance_count += 1\n",
        "\n",
        "accuracy_within_tolerance = (within_tolerance_count / len(y_test)) * 100\n",
        "\n",
        "print(\"Accuracy avec tolerance de\", tolerance, \"est:\", accuracy_within_tolerance, \"%\")\n",
        "\n",
        "\n",
        "# Créer un histogramme des années d'erreur\n",
        "plt.hist(error_samples, bins=max(y_test)-min(y_test)+1, color='skyblue')\n",
        "plt.xlabel('Année')\n",
        "plt.ylabel('Nombre d\\'échantillons mal prédits')\n",
        "plt.title('Histogramme des années d\\'erreur')\n",
        "plt.show()"
      ]
    },
    {
      "cell_type": "markdown",
      "metadata": {},
      "source": [
        "# Load & Save Model"
      ]
    },
    {
      "cell_type": "code",
      "execution_count": 40,
      "metadata": {},
      "outputs": [],
      "source": [
        "# Sauvegarder le modèle complet au format HDF5\n",
        "#model.save('modelV5.h5')"
      ]
    },
    {
      "cell_type": "code",
      "execution_count": 41,
      "metadata": {},
      "outputs": [],
      "source": [
        "# Charger le modèle complet\n",
        "# from keras.models import load_model\n",
        "# model = load_model('modelV4.h5')\n",
        "\n",
        "# model.summary()"
      ]
    }
  ],
  "metadata": {
    "accelerator": "GPU",
    "colab": {
      "collapsed_sections": [
        "5CK1OPbMz2vm",
        "bIvj5MS82Q2D",
        "s71plxAN2fbA"
      ],
      "gpuType": "T4",
      "provenance": []
    },
    "kernelspec": {
      "display_name": "Python 3",
      "name": "python3"
    },
    "language_info": {
      "codemirror_mode": {
        "name": "ipython",
        "version": 3
      },
      "file_extension": ".py",
      "mimetype": "text/x-python",
      "name": "python",
      "nbconvert_exporter": "python",
      "pygments_lexer": "ipython3",
      "version": "3.9.18"
    }
  },
  "nbformat": 4,
  "nbformat_minor": 0
}
