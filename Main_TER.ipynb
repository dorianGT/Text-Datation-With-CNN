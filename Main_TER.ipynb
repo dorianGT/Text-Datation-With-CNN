{
  "cells": [
    {
      "cell_type": "markdown",
      "metadata": {
        "id": "5CK1OPbMz2vm"
      },
      "source": [
        "# Util"
      ]
    },
    {
      "cell_type": "code",
      "execution_count": 111,
      "metadata": {},
      "outputs": [],
      "source": [
        "# !python -m pip install tensorflow keras\n",
        "# !python -m pip install scikit-learn\n",
        "# !python -m pip install nltk"
      ]
    },
    {
      "cell_type": "code",
      "execution_count": 112,
      "metadata": {
        "id": "r13TuBJFtvXQ"
      },
      "outputs": [],
      "source": [
        "# !pip install tensorflow==2.8.2"
      ]
    },
    {
      "cell_type": "code",
      "execution_count": 113,
      "metadata": {
        "id": "BQAuZrHDwSLL"
      },
      "outputs": [],
      "source": [
        "# !pip install --upgrade tensorflow scikeras keras"
      ]
    },
    {
      "cell_type": "code",
      "execution_count": 114,
      "metadata": {},
      "outputs": [],
      "source": [
        "# import tensorflow as tf\n",
        "# print(\"Version de TensorFlow:\", tf.__version__)\n",
        "\n",
        "# tf.config.list_physical_devices()"
      ]
    },
    {
      "cell_type": "code",
      "execution_count": 115,
      "metadata": {},
      "outputs": [],
      "source": [
        "# import tensorflow as tf\n",
        "# tf.config.experimental.list_physical_devices()\n",
        "# tf.config.list_physical_devices()\n",
        "# tf.test.gpu_device_name()"
      ]
    },
    {
      "cell_type": "code",
      "execution_count": 116,
      "metadata": {},
      "outputs": [],
      "source": [
        "# import tensorflow as tf\n",
        "# print(\"Num GPUs Available: \", len(tf.config.list_physical_devices('GPU')))"
      ]
    },
    {
      "cell_type": "markdown",
      "metadata": {
        "id": "4qgV6HWc0CBC"
      },
      "source": [
        "# Import"
      ]
    },
    {
      "cell_type": "code",
      "execution_count": 117,
      "metadata": {
        "id": "Ql2XMCihytNu"
      },
      "outputs": [
        {
          "name": "stderr",
          "output_type": "stream",
          "text": [
            "[nltk_data] Downloading package punkt to\n",
            "[nltk_data]     C:\\Users\\doria\\AppData\\Roaming\\nltk_data...\n",
            "[nltk_data]   Package punkt is already up-to-date!\n"
          ]
        },
        {
          "data": {
            "text/plain": [
              "True"
            ]
          },
          "execution_count": 117,
          "metadata": {},
          "output_type": "execute_result"
        }
      ],
      "source": [
        "import numpy as np\n",
        "import tensorflow as tf\n",
        "import numpy as np\n",
        "import pandas as pd\n",
        "import fasttext.util\n",
        "import string\n",
        "import json\n",
        "from keras.models import Sequential\n",
        "from keras.layers import Embedding, Conv1D, GlobalMaxPooling1D,Reshape, Dense, Dropout, Flatten,BatchNormalization,MaxPooling1D,SpatialDropout1D, Input, concatenate\n",
        "from keras import regularizers\n",
        "from keras import utils\n",
        "from keras.callbacks import EarlyStopping\n",
        "from keras.models import Model\n",
        "import ast\n",
        "from keras.utils.vis_utils import plot_model\n",
        "import re\n",
        "import os\n",
        "import matplotlib.pyplot as plt\n",
        "import pickle\n",
        "\n",
        "import nltk\n",
        "from nltk.tokenize import word_tokenize\n",
        "nltk.download('punkt')"
      ]
    },
    {
      "cell_type": "markdown",
      "metadata": {
        "id": "aE7LmOth00nu"
      },
      "source": [
        "# Coder le texte"
      ]
    },
    {
      "cell_type": "markdown",
      "metadata": {
        "id": "6HyXdOTf0H4c"
      },
      "source": [
        "## Récupération des textes et des années de publications (labels)"
      ]
    },
    {
      "cell_type": "code",
      "execution_count": 118,
      "metadata": {},
      "outputs": [],
      "source": [
        "def GetDataBooks(chemin,df):\n",
        "    # Récupérer la liste des noms de fichiers dans le dossier\n",
        "    fichiers = os.listdir(chemin)\n",
        "    \n",
        "    # Initialiser une liste pour stocker les textes\n",
        "    books = []\n",
        "\n",
        "    # Initialiser une liste pour stocker les années extraites des noms de fichiers\n",
        "    y = []\n",
        "    correct_fichiers = []\n",
        "    # Parcourir les fichiers et lire leur contenu\n",
        "    for fichier in fichiers:\n",
        "        chemin_fichier = os.path.join(chemin, fichier)\n",
        "        with open(chemin_fichier, 'r', encoding='utf-8') as f:\n",
        "\n",
        "            texte = f.read()\n",
        "\n",
        "            # Extraire l'année du nom de fichier\n",
        "            annee = re.search(r'\\((\\d{4})\\)', fichier)  # Utilisation d'une expression régulière pour trouver l'année entre parenthèses\n",
        "            \n",
        "            # Si une année est trouvée, alors nous pouvons étudier le livre, nous l'ajoutons ainsi que son label dans les listes associées\n",
        "            if annee:\n",
        "                annee = int(annee.group(1)) # Récupérer l'année\n",
        "                books.append(texte)   \n",
        "                y.append(annee)  # Ajouter l'année extraite à la liste des labels\n",
        "                correct_fichiers.append(fichier)\n",
        "            else:\n",
        "                print(f\"Impossible de lire la date pour le fichier: {fichier}\")\n",
        "    fichiersframe = pd.DataFrame({'Filename': correct_fichiers})\n",
        "    df['Filename'] = fichiersframe['Filename']\n",
        "    yearframe = pd.DataFrame({'Year': y})\n",
        "    df['Year'] = yearframe['Year']\n",
        "    booksframe = pd.DataFrame({'Text': books})\n",
        "    df['Text'] = booksframe['Text']"
      ]
    },
    {
      "cell_type": "code",
      "execution_count": 119,
      "metadata": {
        "colab": {
          "base_uri": "https://localhost:8080/"
        },
        "id": "shbqFxbaboYN",
        "outputId": "e204a37b-37e5-401c-e6be-fd2aa84d648b"
      },
      "outputs": [
        {
          "name": "stdout",
          "output_type": "stream",
          "text": [
            "Impossible de lire la date pour le fichier: desktop.ini\n"
          ]
        }
      ],
      "source": [
        "# Définition de la seed pour la reproductibilité des résultats\n",
        "utils.set_random_seed(42)\n",
        "df_train = pd.DataFrame()\n",
        "df_val = pd.DataFrame()\n",
        "df_test = pd.DataFrame()\n",
        "\n",
        "# Chemin des dossier contenant les textes\n",
        "dossier_train = 'train'\n",
        "dossier_test = 'test'\n",
        "dossier_val = 'validation'\n",
        "\n",
        "GetDataBooks(dossier_train,df_train)\n",
        "GetDataBooks(dossier_val,df_val)\n",
        "GetDataBooks(dossier_test,df_test)\n",
        "#pd.set_option('display.max_rows', None)\n",
        "# display(df_train)\n",
        "# display(df_val)\n",
        "# display(df_test)"
      ]
    },
    {
      "cell_type": "code",
      "execution_count": 120,
      "metadata": {},
      "outputs": [
        {
          "data": {
            "image/png": "[encoded data removed]",
            "text/plain": [
              "<Figure size 1500x500 with 3 Axes>"
            ]
          },
          "metadata": {},
          "output_type": "display_data"
        }
      ],
      "source": [
        "# Stocker les listes des valeurs 'Year'\n",
        "train_years = df_train[\"Year\"].tolist()\n",
        "val_years = df_val[\"Year\"].tolist()\n",
        "test_years = df_test[\"Year\"].tolist()\n",
        "\n",
        "# Calculer la plage maximale des valeurs 'Year'\n",
        "max_y = max(max(train_years), max(val_years), max(test_years))\n",
        "min_y = min(min(train_years), min(train_years), min(test_years))\n",
        "\n",
        "# Créer des sous-graphiques avec 1 ligne et 3 colonnes\n",
        "fig, axs = plt.subplots(1, 3, figsize=(15, 5), sharey=True)\n",
        "\n",
        "# Tracer l'histogramme pour les données d'entraînement\n",
        "axs[0].hist(train_years, bins=range(min_y, max_y + 1), alpha=0.5, color='skyblue')\n",
        "axs[0].grid(axis='y', linestyle='--')\n",
        "axs[0].set_xlabel('Année')\n",
        "axs[0].set_ylabel('Nombre de textes')\n",
        "axs[0].set_title('Répartition des textes par année (Entraînement)')\n",
        "\n",
        "# Tracer l'histogramme pour les données de trainidation\n",
        "axs[1].hist(train_years, bins=range(min_y, max_y + 1), alpha=0.5, color='salmon')\n",
        "axs[1].grid(axis='y', linestyle='--')\n",
        "axs[1].set_xlabel('Année')\n",
        "axs[1].set_ylabel('Nombre de textes')\n",
        "axs[1].set_title('Répartition des textes par année (trainidation)')\n",
        "\n",
        "# Tracer l'histogramme pour les données de test\n",
        "axs[2].hist(test_years, bins=range(min_y, max_y + 1), alpha=0.5, color='green')\n",
        "axs[2].grid(axis='y', linestyle='--')\n",
        "axs[2].set_xlabel('Année')\n",
        "axs[2].set_ylabel('Nombre de textes')\n",
        "axs[2].set_title('Répartition des textes par année (Test)')\n",
        "\n",
        "# Ajuster la disposition pour éviter les chevauchements\n",
        "plt.tight_layout()\n",
        "\n",
        "# Afficher les graphiques\n",
        "plt.show()"
      ]
    },
    {
      "cell_type": "markdown",
      "metadata": {
        "id": "8qr1HZfr0gkd"
      },
      "source": [
        "## Tokenization + Embedding + division en sequence"
      ]
    },
    {
      "cell_type": "code",
      "execution_count": 121,
      "metadata": {},
      "outputs": [],
      "source": [
        "# Longueur maximale des séquences\n",
        "max_len = 5000"
      ]
    },
    {
      "cell_type": "markdown",
      "metadata": {},
      "source": [
        "### Classe Fonction et Variable"
      ]
    },
    {
      "cell_type": "code",
      "execution_count": 122,
      "metadata": {
        "id": "_7PvkrqXQRxl"
      },
      "outputs": [],
      "source": [
        "class WordTokenizer:\n",
        "    def __init__(self, dict_word=None, dict_word_frequence=None):\n",
        "        if dict_word is None:\n",
        "            self.dict_word = {}\n",
        "            self.word_freq = {}\n",
        "            self.index = 1\n",
        "        else:\n",
        "            self.dict_word = dict_word\n",
        "            self.index = len(dict_word) + 1\n",
        "            self.word_freq = dict_word_frequence\n",
        "\n",
        "    def fit(self, list_of_texts):\n",
        "        # Si dict_word_frequence est None, initialiser word_freq\n",
        "        if self.word_freq is None:\n",
        "            self.word_freq = {}\n",
        "\n",
        "        # Calculer la fréquence des mots\n",
        "        for text in list_of_texts:\n",
        "            tokens = word_tokenize(text)\n",
        "            for token in tokens:\n",
        "                if token in self.word_freq:\n",
        "                    self.word_freq[token] += 1\n",
        "                else:\n",
        "                    self.word_freq[token] = 1\n",
        "\n",
        "        # Trier les mots par fréquence dans l'ordre décroissant\n",
        "        sorted_words = sorted(self.word_freq.items(), key=lambda x: x[1], reverse=True)\n",
        "\n",
        "        # Attribuer des indices en fonction de la fréquence\n",
        "        for _, (word, _) in enumerate(sorted_words):\n",
        "            if word not in self.dict_word:\n",
        "                self.dict_word[word] = self.index\n",
        "                self.index += 1\n",
        "\n",
        "        print(\"\\nTokenization complete.\")\n",
        "\n",
        "    def get_local_word_freq(self, tokens):\n",
        "        # Initialise un dictionnaire pour stocker la fréquence locale des mots\n",
        "        local_word_freq = {}\n",
        "        # Parcourt tous les tokens dans la liste\n",
        "        for token in tokens:\n",
        "            # Vérifie si le token n'est pas déjà présent dans le dictionnaire\n",
        "            if token not in local_word_freq:\n",
        "                # Si le token n'est pas présent, initialise sa fréquence à 1\n",
        "                local_word_freq[token] = 1\n",
        "            else:\n",
        "                # Si le token est déjà présent, incrémente sa fréquence de 1\n",
        "                local_word_freq[token] += 1\n",
        "        sorted_words = sorted(local_word_freq.items(), key=lambda x: x[1], reverse=True)\n",
        "\n",
        "        dict_local_word_freq = {}\n",
        "        ind = 0\n",
        "        # Attribuer des indices en fonction de la fréquence\n",
        "        for _, (word, _) in enumerate(sorted_words):\n",
        "            if word not in dict_local_word_freq:\n",
        "                dict_local_word_freq[word] = ind\n",
        "                ind += 1\n",
        "                \n",
        "        # Retourne le dictionnaire de fréquence locale des mots\n",
        "        return dict_local_word_freq\n",
        "\n",
        "    def tokenize(self, list_of_texts):\n",
        "        total_texts = len(list_of_texts)\n",
        "        # Initialise un tableau pour stocker les tokens de chaque texte\n",
        "        token_arrays = np.empty((total_texts,), dtype=object)\n",
        "        local_occs = np.empty((total_texts,), dtype=object)\n",
        "        token_pos = np.empty((total_texts,), dtype=object)\n",
        "        token_size = np.empty((total_texts,), dtype=object)\n",
        "        # Parcourt chaque texte dans la liste\n",
        "        for i, text in enumerate(list_of_texts):\n",
        "            # Tokenise le texte en mots individuels\n",
        "            tokens = word_tokenize(text)\n",
        "\n",
        "            # Initialise un tableau pour stocker les informations sur chaque token\n",
        "            token_array = np.empty((len(tokens), ), dtype=np.float32)\n",
        "            local_occ = np.empty((len(tokens), ), dtype=np.float32)\n",
        "            token_pos_arr = np.empty((len(tokens), ), dtype=np.float32)\n",
        "            token_size_arr = np.empty((len(tokens), ), dtype=np.float32)\n",
        "            # Calcule la fréquence locale des mots dans le texte\n",
        "            local_word_freq = self.get_local_word_freq(tokens)\n",
        "\n",
        "            position = 1\n",
        "            # Parcourt chaque token dans le texte\n",
        "            for j, token in enumerate(tokens):\n",
        "                # Position du token\n",
        "                if token == '.':\n",
        "                    position = 0\n",
        "                token_pos_arr[j] = position\n",
        "                position +=1\n",
        "\n",
        "                # Si le token est une ponctuation, on définit la taille à 0, sinon on prend la longueur du token\n",
        "                if token in string.punctuation:\n",
        "                    token_size_arr[j] = 0\n",
        "                else:\n",
        "                    token_size_arr[j] = len(token)\n",
        "\n",
        "                # Vérifie si le token n'est pas dans le dictionnaire des mots\n",
        "                if token not in self.dict_word:\n",
        "                    token_array[j] = 0\n",
        "                    local_occ[j] = local_word_freq[token]\n",
        "                else:\n",
        "                    token_array[j] = self.dict_word[token]\n",
        "                    local_occ[j] = local_word_freq[token]\n",
        "            \n",
        "            token_arrays[i] = token_array\n",
        "            local_occs[i] = local_occ\n",
        "            token_pos[i] = token_pos_arr\n",
        "            token_size[i] = token_size_arr\n",
        "\n",
        "            percentage = (i + 1) / total_texts * 100\n",
        "            print(f\"Progression : {percentage:.2f}% complète\")\n",
        "\n",
        "        print(\"\\nTokenisation terminée.\")\n",
        "        return token_arrays,local_occs, token_pos,token_size"
      ]
    },
    {
      "cell_type": "code",
      "execution_count": 123,
      "metadata": {
        "id": "zj_poLDZfP0F"
      },
      "outputs": [],
      "source": [
        "from math import ceil\n",
        "\n",
        "# Fonction pour diviser une liste en segments avec padding\n",
        "def diviser_liste(liste, labels, taille):\n",
        "    resultats = []\n",
        "    res_labels = []\n",
        "    nb_sequence_per_book = []\n",
        "    ind = 0\n",
        "\n",
        "    # Parcours de chaque sous-liste dans la liste principale\n",
        "    for sous_liste in liste:\n",
        "        longueur = len(sous_liste)\n",
        "        if longueur < taille:\n",
        "            padding = [0] * (taille - longueur) \n",
        "            sous_liste = np.concatenate((sous_liste, padding))\n",
        "            longueur = taille\n",
        "\n",
        "        nbtour = ceil(longueur / taille)\n",
        "        lastpos = 0\n",
        "        nb_sequence = 0\n",
        "        # Division de la sous-liste en morceaux de taille spécifiée\n",
        "        for i in range(nbtour):\n",
        "            if lastpos + taille > longueur:\n",
        "                if lastpos + taille - longueur > taille / 2:\n",
        "                    break\n",
        "                lastpos -= lastpos + taille - longueur\n",
        "\n",
        "            # Ajout du morceau à la liste de résultats\n",
        "            resultat = sous_liste[lastpos:lastpos + taille]\n",
        "            lastpos += taille\n",
        "            resultats.append(resultat)\n",
        "            # A chaque fois que je divisie, jajoute le label au meme indice\n",
        "            res_labels.append(labels[ind])\n",
        "            nb_sequence += 1\n",
        "        \n",
        "        ind += 1\n",
        "        nb_sequence_per_book.append(nb_sequence)\n",
        "\n",
        "    # Convertir resultats et res_labels en tableaux numpy\n",
        "    resultats = np.array(resultats)\n",
        "    res_labels = np.array(res_labels)\n",
        "\n",
        "    return resultats, res_labels, nb_sequence_per_book\n",
        "\n",
        "# Fonction pour diviser une liste sans étiquettes\n",
        "def diviser_liste2(liste,taille):\n",
        "    resultats = []\n",
        "    ind = 0\n",
        "    # Parcours de chaque sous-liste dans la liste principale\n",
        "    for sous_liste in liste:\n",
        "        longueur = len(sous_liste)\n",
        "        if longueur < taille:\n",
        "            padding = [0] * (taille - longueur) \n",
        "            sous_liste = np.concatenate((sous_liste, padding))\n",
        "            longueur = taille\n",
        "        nbtour = ceil(longueur / taille)\n",
        "        lastpos=0\n",
        "        # Division de la sous-liste en morceaux de taille spécifiée\n",
        "        for i in range(nbtour):\n",
        "            if(lastpos + taille > longueur):\n",
        "              if((lastpos + taille)-longueur > taille/2):\n",
        "                  break\n",
        "              lastpos -= (lastpos + taille)-longueur\n",
        "\n",
        "            # Ajout du morceau à la liste de résultats\n",
        "            resultat = sous_liste[lastpos:lastpos + taille]\n",
        "            lastpos = lastpos + taille\n",
        "            resultats.append(resultat)\n",
        "        ind+=1\n",
        "\n",
        "    # Convertir resultats et res_labels en tableaux numpy\n",
        "    resultats = np.array(resultats)\n",
        "\n",
        "    return resultats"
      ]
    },
    {
      "cell_type": "markdown",
      "metadata": {},
      "source": [
        "### Création du tokenizer + sauvegarde du dictionnaire"
      ]
    },
    {
      "cell_type": "code",
      "execution_count": 124,
      "metadata": {},
      "outputs": [],
      "source": [
        "# tokenizer = WordTokenizer()\n",
        "# tokenizer.fit(df_train[\"Text\"].to_list())\n",
        "# tokenizer.fit(X_val)"
      ]
    },
    {
      "cell_type": "code",
      "execution_count": 125,
      "metadata": {},
      "outputs": [],
      "source": [
        "# import json\n",
        "\n",
        "# # Chemin du fichier de sauvegarde\n",
        "# path_dict_word = \"dict_word.json\"\n",
        "# path_dict_word_freq = \"dict_word_freq.json\"\n",
        "\n",
        "# # Sauvegarde du dictionnaire en JSON dans un fichier\n",
        "# with open(path_dict_word, \"w\") as json_file:\n",
        "#     json.dump(tokenizer.dict_word, json_file)\n",
        "# with open(path_dict_word_freq, \"w\") as json_file:\n",
        "#     json.dump(tokenizer.word_freq, json_file)"
      ]
    },
    {
      "cell_type": "markdown",
      "metadata": {},
      "source": [
        "### Récupération dico + Création du tokenizer "
      ]
    },
    {
      "cell_type": "code",
      "execution_count": 126,
      "metadata": {},
      "outputs": [],
      "source": [
        "import json\n",
        "\n",
        "# Chemin du fichier JSON à lire\n",
        "path_dict_word = \"dict_word.json\"\n",
        "path_dict_word_freq = \"dict_word_freq.json\"\n",
        "\n",
        "ditc_word = {}\n",
        "word_freq = {}\n",
        "\n",
        "# Lecture du fichier JSON\n",
        "with open(path_dict_word, \"r\") as json_file:\n",
        "    ditc_word = json.load(json_file)\n",
        "with open(path_dict_word_freq, \"r\") as json_file:\n",
        "    word_freq = json.load(json_file)\n",
        "tokenizer = WordTokenizer(dict_word=ditc_word,dict_word_frequence=word_freq)\n",
        "\n",
        "token_number = tokenizer.index"
      ]
    },
    {
      "cell_type": "code",
      "execution_count": 127,
      "metadata": {},
      "outputs": [
        {
          "name": "stdout",
          "output_type": "stream",
          "text": [
            "{',': 1, '.': 2, 'de': 3, 'la': 4, 'et': 5, 'le': 6, 'à': 7, 'il': 8, 'l': 9, 'les': 10, 'un': 11, 'que': 12, 'd': 13, 'en': 14, 'je': 15, 'une': 16, 'elle': 17, 'des': 18, 'qui': 19, 'pas': 20, 'est': 21, 'qu': 22, 'ne': 23, 'dans': 24, '!': 25, 'se': 26, 'ce': 27, 'vous': 28, 'pour': 29, 'du': 30, 'n': 31, 's': 32, '?': 33, 'son': 34, 'était': 35, 'au': 36, 'lui': 37, 'plus': 38, 'avait': 39, 'mais': 40, ';': 41, 'a': 42, 'sur': 43, 'on': 44, ':': 45, 'c': 46, 'sa': 47, 'avec': 48, 'par': 49, 'nous': 50, 'j': 51, 'tout': 52, 'me': 53, 'comme': 54, 'ses': 55, 'si': 56, 'bien': 57, 'm': 58, 'y': 59, 'cette': 60, 'tu': 61, 'dit': 62, 'ils': 63, 'mon': 64, 'ai': 65, 'même': 66, 'sans': 67, 'moi': 68, 'être': 69, 'où': 70, 'ou': 71, 'fait': 72, 'deux': 73, 'aux': 74, 'là': 75, 'ces': 76, 'ma': 77, 'faire': 78, 'leur': 79, 't': 80, 'encore': 81, 'quand': 82, 'rien': 83, 'peu': 84, 'aussi': 85, 'tous': 86, 'autre': 87, 'homme': 88, 'ça': 89, 'peut': 90, 'sont': 91, 'temps': 92, 'non': 93, 'été': 94, 'jamais': 95, 'puis': 96, 'après': 97, 'suis': 98, 'dont': 99, 'avoir': 100}\n"
          ]
        }
      ],
      "source": [
        "# Afficher les 100 premiers éléments\n",
        "first_100 = {word: tokenizer.dict_word[word] for word in list(tokenizer.dict_word.keys())[:100]}\n",
        "print(first_100)"
      ]
    },
    {
      "cell_type": "markdown",
      "metadata": {},
      "source": [
        "### Training Data"
      ]
    },
    {
      "cell_type": "code",
      "execution_count": 128,
      "metadata": {
        "id": "NwFu_20zSujU"
      },
      "outputs": [],
      "source": [
        "# # Transformation de chaque texte dans train en séquence\n",
        "# sequences_trainA,sequences_trainB,sequences_trainC,sequences_trainD = tokenizer.tokenize(df_train[\"Text\"].tolist())"
      ]
    },
    {
      "cell_type": "code",
      "execution_count": 129,
      "metadata": {},
      "outputs": [],
      "source": [
        "# seqA = pd.DataFrame({'Sequence A': sequences_trainA})\n",
        "# df_train['Sequence A'] = seqA['Sequence A']\n",
        "# seqB = pd.DataFrame({'Sequence B': sequences_trainB})\n",
        "# df_train['Sequence B'] = seqB['Sequence B']\n",
        "# seqC = pd.DataFrame({'Sequence C': sequences_trainC})\n",
        "# df_train['Sequence C'] = seqC['Sequence C']\n",
        "# seqD = pd.DataFrame({'Sequence D': sequences_trainD})\n",
        "# df_train['Sequence D'] = seqD['Sequence D']\n",
        "# df_train['Form_Count'] = df_train['Sequence A'].apply(lambda seq: len(seq))\n",
        "# # pd.set_option('display.max_rows', None)\n",
        "# # display(df_train)"
      ]
    },
    {
      "cell_type": "markdown",
      "metadata": {},
      "source": [
        "#### Save & Load"
      ]
    },
    {
      "cell_type": "code",
      "execution_count": 130,
      "metadata": {},
      "outputs": [],
      "source": [
        "# # Save df\n",
        "# with open('csv/df_train.pkl', 'wb') as f:\n",
        "#     pickle.dump(df_train, f)"
      ]
    },
    {
      "cell_type": "code",
      "execution_count": 131,
      "metadata": {},
      "outputs": [
        {
          "name": "stdout",
          "output_type": "stream",
          "text": [
            "Nombre de lignes où 'Year' est inférieur à 1800: 25\n"
          ]
        }
      ],
      "source": [
        "# Load df\n",
        "with open('csv/df_train.pkl', 'rb') as f:\n",
        "    df_train = pickle.load(f)\n",
        "\n",
        "    # Filtrez les lignes où la colonne 'Year' est inférieure à 1800\n",
        "    filtered_df = df_train[df_train['Year'] < 1750]\n",
        "\n",
        "    # Obtenez le nombre de lignes\n",
        "    count = len(filtered_df)\n",
        "\n",
        "    print(\"Nombre de lignes où 'Year' est inférieur à 1800:\", count)\n",
        "        # Créer un masque qui retient seulement les valeurs de 'Year' entre 1800 et 2020\n",
        "    mask = (df_train['Year'] >= 1750)\n",
        "\n",
        "    # Appliquer le masque pour filtrer le DataFrame\n",
        "    df_train = df_train.loc[mask]\n",
        "\n",
        "    df_train.reset_index(drop=True, inplace=True)\n",
        "\n",
        "    sequences_trainA = df_train[\"Sequence A\"].to_list()\n",
        "    sequences_trainB = df_train[\"Sequence B\"].to_list()\n",
        "    sequences_trainC = df_train[\"Sequence C\"].to_list()\n",
        "    sequences_trainD = df_train[\"Sequence D\"].to_list()"
      ]
    },
    {
      "cell_type": "markdown",
      "metadata": {},
      "source": [
        "#### Divide By Sequence"
      ]
    },
    {
      "cell_type": "code",
      "execution_count": 132,
      "metadata": {},
      "outputs": [
        {
          "name": "stdout",
          "output_type": "stream",
          "text": [
            "Nombre de séquences de données: 11848\n"
          ]
        }
      ],
      "source": [
        "# Division des données en séquences de longueur maximale max_len\n",
        "data_trainA,y_train,sequence_count_book_train = diviser_liste(sequences_trainA,df_train[\"Year\"].to_list(), max_len)\n",
        "data_trainB = diviser_liste2(sequences_trainB, max_len)\n",
        "data_trainC = diviser_liste2(sequences_trainC, max_len)\n",
        "data_trainD = diviser_liste2(sequences_trainD, max_len)\n",
        "\n",
        "# Affichage de la longueur des données\n",
        "print(\"Nombre de séquences de données:\", len(data_trainA))"
      ]
    },
    {
      "cell_type": "markdown",
      "metadata": {},
      "source": [
        "### Validation Data"
      ]
    },
    {
      "cell_type": "code",
      "execution_count": 133,
      "metadata": {},
      "outputs": [],
      "source": [
        "# sequences_valA,sequences_valB,sequences_valC,sequences_valD = tokenizer.tokenize(df_val[\"Text\"].to_list())"
      ]
    },
    {
      "cell_type": "code",
      "execution_count": 134,
      "metadata": {},
      "outputs": [],
      "source": [
        "# seqA = pd.DataFrame({'Sequence A': sequences_valA})\n",
        "# df_val['Sequence A'] = seqA['Sequence A']\n",
        "# seqB = pd.DataFrame({'Sequence B': sequences_valB})\n",
        "# df_val['Sequence B'] = seqB['Sequence B']\n",
        "# seqC = pd.DataFrame({'Sequence C': sequences_valC})\n",
        "# df_val['Sequence C'] = seqC['Sequence C']\n",
        "# seqD = pd.DataFrame({'Sequence D': sequences_valD})\n",
        "# df_val['Sequence D'] = seqD['Sequence D']\n",
        "# df_val['Form_Count'] = df_val['Sequence A'].apply(lambda seq: len(seq))\n",
        "# # pd.set_option('display.max_rows', None)\n",
        "# # display(df_val)"
      ]
    },
    {
      "cell_type": "markdown",
      "metadata": {},
      "source": [
        "#### Save & Load"
      ]
    },
    {
      "cell_type": "code",
      "execution_count": 135,
      "metadata": {},
      "outputs": [],
      "source": [
        "# # Save df\n",
        "# with open('csv/df_val.pkl', 'wb') as f:\n",
        "#     pickle.dump(df_val, f)"
      ]
    },
    {
      "cell_type": "code",
      "execution_count": 136,
      "metadata": {},
      "outputs": [
        {
          "name": "stdout",
          "output_type": "stream",
          "text": [
            "Nombre de lignes où 'Year' est inférieur à 1800: 2\n"
          ]
        }
      ],
      "source": [
        "# Load df\n",
        "with open('csv/df_val.pkl', 'rb') as f:\n",
        "    df_val = pickle.load(f)\n",
        "    # Filtrez les lignes où la colonne 'Year' est inférieure à 1800\n",
        "    filtered_df = df_val[df_val['Year'] < 1750]\n",
        "\n",
        "    # Obtenez le nombre de lignes\n",
        "    count = len(filtered_df)\n",
        "\n",
        "    print(\"Nombre de lignes où 'Year' est inférieur à 1800:\", count)\n",
        "\n",
        "    # Créer un masque qui retient seulement les valeurs de 'Year' entre 1800 et 2020\n",
        "    mask = (df_val['Year'] >= 1750)\n",
        "\n",
        "    # Appliquer le masque pour filtrer le DataFrame\n",
        "    df_val = df_val.loc[mask]\n",
        "\n",
        "    df_val.reset_index(drop=True, inplace=True)\n",
        "\n",
        "    sequences_valA = df_val[\"Sequence A\"].to_list()\n",
        "    sequences_valB = df_val[\"Sequence B\"].to_list()\n",
        "    sequences_valC = df_val[\"Sequence C\"].to_list()\n",
        "    sequences_valD = df_val[\"Sequence D\"].to_list()"
      ]
    },
    {
      "cell_type": "markdown",
      "metadata": {},
      "source": [
        "#### Divide By Sequence"
      ]
    },
    {
      "cell_type": "code",
      "execution_count": 137,
      "metadata": {},
      "outputs": [
        {
          "name": "stdout",
          "output_type": "stream",
          "text": [
            "Nombre de séquences de données: 2480\n"
          ]
        }
      ],
      "source": [
        "# Division des données en séquences de longueur maximale max_len\n",
        "data_valA,y_val,sequence_count_book_val = diviser_liste(sequences_valA,df_val[\"Year\"].to_list(), max_len)\n",
        "data_valB = diviser_liste2(sequences_valB, max_len)\n",
        "data_valC =diviser_liste2(sequences_valC, max_len)\n",
        "data_valD =diviser_liste2(sequences_valD, max_len)\n",
        "\n",
        "# Affichage de la longueur des données\n",
        "print(\"Nombre de séquences de données:\", len(data_valA))"
      ]
    },
    {
      "cell_type": "markdown",
      "metadata": {},
      "source": [
        "### Test Data"
      ]
    },
    {
      "cell_type": "code",
      "execution_count": 138,
      "metadata": {},
      "outputs": [],
      "source": [
        "# # Transformation de chaque texte dans test en séquence\n",
        "# sequences_testA,sequences_testB,sequences_testC,sequences_testD = tokenizer.tokenize(df_test[\"Text\"].to_list())"
      ]
    },
    {
      "cell_type": "code",
      "execution_count": 139,
      "metadata": {},
      "outputs": [],
      "source": [
        "# seqA = pd.DataFrame({'Sequence A': sequences_testA})\n",
        "# df_test['Sequence A'] = seqA['Sequence A']\n",
        "# seqB = pd.DataFrame({'Sequence B': sequences_testB})\n",
        "# df_test['Sequence B'] = seqB['Sequence B']\n",
        "# seqC = pd.DataFrame({'Sequence C': sequences_testC})\n",
        "# df_test['Sequence C'] = seqC['Sequence C']\n",
        "# seqD = pd.DataFrame({'Sequence D': sequences_testD})\n",
        "# df_test['Sequence D'] = seqD['Sequence D']\n",
        "# df_test['Form_Count'] = df_test['Sequence A'].apply(lambda seq: len(seq))\n",
        "# # pd.set_option('display.max_rows', None)\n",
        "# # display(df_test)"
      ]
    },
    {
      "cell_type": "markdown",
      "metadata": {},
      "source": [
        "#### Save & Load"
      ]
    },
    {
      "cell_type": "code",
      "execution_count": 140,
      "metadata": {},
      "outputs": [],
      "source": [
        "# # Save df\n",
        "# with open('csv/df_test.pkl', 'wb') as f:\n",
        "#     pickle.dump(df_test, f)"
      ]
    },
    {
      "cell_type": "code",
      "execution_count": 141,
      "metadata": {},
      "outputs": [
        {
          "name": "stdout",
          "output_type": "stream",
          "text": [
            "Nombre de lignes où 'Year' est inférieur à 1800: 2\n"
          ]
        }
      ],
      "source": [
        "# Load df\n",
        "with open('csv/df_test.pkl', 'rb') as f:\n",
        "    df_test = pickle.load(f)\n",
        "    \n",
        "    # Filtrez les lignes où la colonne 'Year' est inférieure à 1800\n",
        "    filtered_df = df_test[df_test['Year'] < 1750]\n",
        "\n",
        "    # Obtenez le nombre de lignes\n",
        "    count = len(filtered_df)\n",
        "\n",
        "    print(\"Nombre de lignes où 'Year' est inférieur à 1800:\", count)\n",
        "\n",
        "    # Créer un masque qui retient seulement les valeurs de 'Year' entre 1800 et 2020\n",
        "    mask = (df_test['Year'] >= 1750) & (df_test['Year'] <= 2020)\n",
        "\n",
        "    # Appliquer le masque pour filtrer le DataFrame\n",
        "    df_test = df_test.loc[mask]\n",
        "    df_test.reset_index(drop=True, inplace=True)\n",
        "    \n",
        "    sequences_testA = df_test[\"Sequence A\"].to_list()\n",
        "    sequences_testB = df_test[\"Sequence B\"].to_list()\n",
        "    sequences_testC = df_test[\"Sequence C\"].to_list()\n",
        "    sequences_testD = df_test[\"Sequence D\"].to_list()"
      ]
    },
    {
      "cell_type": "markdown",
      "metadata": {},
      "source": [
        "#### Divide By Sequence"
      ]
    },
    {
      "cell_type": "code",
      "execution_count": 142,
      "metadata": {},
      "outputs": [
        {
          "name": "stdout",
          "output_type": "stream",
          "text": [
            "Nombre de séquences de données: 1038\n"
          ]
        }
      ],
      "source": [
        "# Division des données en séquences de longueur maximale max_len\n",
        "data_testA,y_test,sequence_count_book_test = diviser_liste(sequences_testA,df_test[\"Year\"].to_list(), max_len)\n",
        "data_testB = diviser_liste2(sequences_testB, max_len)\n",
        "data_testC = diviser_liste2(sequences_testC, max_len)\n",
        "data_testD = diviser_liste2(sequences_testD, max_len)\n",
        "\n",
        "# Affichage de la longueur des données\n",
        "print(\"Nombre de séquences de données:\", len(data_testA))"
      ]
    },
    {
      "cell_type": "markdown",
      "metadata": {},
      "source": [
        "### Affichage informations"
      ]
    },
    {
      "cell_type": "code",
      "execution_count": 143,
      "metadata": {},
      "outputs": [
        {
          "name": "stdout",
          "output_type": "stream",
          "text": [
            "Nombre de séquences de données (Training): 11848\n",
            "Nombre de séquences de données (Validation): 2480\n",
            "Nombre de séquences de données (Test): 1038\n"
          ]
        }
      ],
      "source": [
        "print(\"Nombre de séquences de données (Training):\", len(data_trainA))\n",
        "print(\"Nombre de séquences de données (Validation):\", len(data_valA))\n",
        "print(\"Nombre de séquences de données (Test):\", len(data_testA))"
      ]
    },
    {
      "cell_type": "markdown",
      "metadata": {},
      "source": [
        "# Analyse des datas"
      ]
    },
    {
      "cell_type": "code",
      "execution_count": 144,
      "metadata": {},
      "outputs": [
        {
          "data": {
            "image/png": "[encoded data removed]",
            "text/plain": [
              "<Figure size 1200x500 with 2 Axes>"
            ]
          },
          "metadata": {},
          "output_type": "display_data"
        },
        {
          "data": {
            "image/png": "[encoded data removed]",
            "text/plain": [
              "<Figure size 1200x500 with 2 Axes>"
            ]
          },
          "metadata": {},
          "output_type": "display_data"
        },
        {
          "data": {
            "image/png": "[encoded data removed]",
            "text/plain": [
              "<Figure size 1200x500 with 2 Axes>"
            ]
          },
          "metadata": {},
          "output_type": "display_data"
        }
      ],
      "source": [
        "import matplotlib.pyplot as plt\n",
        "import seaborn as sns\n",
        "\n",
        "# Obtenir les valeurs min et max pour 'Year' et 'Form_Count' dans les 3 datasets\n",
        "min_year = min(df_train['Year'].min(), df_val['Year'].min(), df_test['Year'].min())\n",
        "max_year = max(df_train['Year'].max(), df_val['Year'].max(), df_test['Year'].max())\n",
        "\n",
        "min_form_count = min(df_train['Form_Count'].min(), df_val['Form_Count'].min(), df_test['Form_Count'].min())\n",
        "max_form_count = max(df_train['Form_Count'].max(), df_val['Form_Count'].max(), df_test['Form_Count'].max())\n",
        "\n",
        "# Fonction pour tracer les données avec échelle cohérente\n",
        "def plot_data_infos(df, name_dataset, xlim_year, ylim_form_count):\n",
        "    # Créer une figure avec deux sous-graphiques\n",
        "    fig, axes = plt.subplots(1, 2, figsize=(12, 5))\n",
        "\n",
        "    # Premier sous-graphique : Répartition des Livres par Année\n",
        "    sns.histplot(data=df, x='Year', bins=20, kde=True, ax=axes[0])\n",
        "    axes[0].set_title(f\"Répartition des Livres par Année ({name_dataset})\")\n",
        "    axes[0].set_xlabel(\"Année\")\n",
        "    axes[0].set_ylabel(\"Nombre de Livres\")\n",
        "    axes[0].set_xlim(xlim_year)  # Définir la limite d'axe\n",
        "\n",
        "    # Deuxième sous-graphique : Répartition des Livres par Nombre de Formes\n",
        "    sns.histplot(data=df, x='Form_Count', bins=30, kde=True, ax=axes[1])\n",
        "    axes[1].set_title(f\"Répartition des Livres par Nombre de Formes ({name_dataset})\")\n",
        "    axes[1].set_xlabel(\"Nombre de Formes\")\n",
        "    axes[1].set_ylabel(\"Nombre de Livres\")\n",
        "    axes[1].set_xlim(ylim_form_count)  # Définir la limite d'axe\n",
        "\n",
        "    # Ajuster les espacements entre les sous-graphiques\n",
        "    plt.tight_layout()\n",
        "\n",
        "    # Afficher les graphiques\n",
        "    plt.show()\n",
        "\n",
        "# Appeler la fonction pour chaque dataset avec le nom correspondant et les limites appropriées\n",
        "plot_data_infos(df_train, \"Dataset Train\", (min_year, max_year), (min_form_count, max_form_count))\n",
        "plot_data_infos(df_val, \"Dataset Val\", (min_year, max_year), (min_form_count, max_form_count))\n",
        "plot_data_infos(df_test, \"Dataset Test\", (min_year, max_year), (min_form_count, max_form_count))\n"
      ]
    },
    {
      "cell_type": "markdown",
      "metadata": {
        "id": "nquwvt_dB3hx"
      },
      "source": [
        "# Définition des architectures des modeles testés"
      ]
    },
    {
      "cell_type": "code",
      "execution_count": 145,
      "metadata": {},
      "outputs": [],
      "source": [
        "# def define_multi_model(max_len, vocab_size,model_params):\n",
        "\n",
        "#     inputA = Input(shape=(max_len,), name='input_tokens')  # Entrée pour les mots tokenisés\n",
        "#     inputB = Input(shape=(max_len,), name='input_word_freq')  # Entrée pour les fréquences des mots dans le texte\n",
        "#     inputC = Input(shape=(max_len,), name='input_word_pos')  # Entrée pour la position des mots\n",
        "#     inputD = Input(shape=(max_len,), name='input_word_size')  # Entrée pour la taille des mots\n",
        "\n",
        "\n",
        "#     # Branche A\n",
        "#     # Couche pour l'entrée des mots tokenisés\n",
        "#     x1 = Embedding(input_dim=vocab_size, output_dim=model_params['embedding_dim'], input_length=max_len, name='embedding_tokens_A')(inputA)\n",
        "#     for i in range(model_params['count_conv1D']):\n",
        "#         x1 = Conv1D(filters=model_params['conv1D_1_filters'][i], kernel_size=model_params['conv1D_1_kernel'], activation='relu', name='conv1d_A_'+str(i))(x1)\n",
        "#         if model_params['pool_size'] != 0:\n",
        "#             x1 = MaxPooling1D(pool_size=model_params['pool_size'], name='maxpooling_A_'+str(i))(x1)\n",
        "#     x1 = Flatten(name='flatten_A')(x1)\n",
        "#     x1 = Dropout(model_params['dropout'], name='dropout_A')(x1)\n",
        "#     x1 = Dense(model_params['dense_units_branch'], activation=\"relu\", name='dense_A')(x1)\n",
        "\n",
        "#     # Branche A2\n",
        "#     # Couche pour l'entrée des mots tokenisés\n",
        "#     x2 = Embedding(input_dim=vocab_size, output_dim=model_params['embedding_dim'], input_length=max_len, name='embedding_tokens_A2')(inputA)\n",
        "#     for i in range(model_params['count_conv1D']):\n",
        "#         x2 = Conv1D(filters=model_params['conv1D_1_filters'][i], kernel_size=3, activation='relu', name='conv1d_A2_'+str(i))(x2)\n",
        "#         if model_params['pool_size'] != 0:\n",
        "#             x2 = MaxPooling1D(pool_size=model_params['pool_size'], name='maxpooling_A2_'+str(i))(x2)\n",
        "#     x2 = Flatten(name='flatten_A2')(x2)\n",
        "#     x2 = Dropout(model_params['dropout'], name='dropout_A2')(x2)\n",
        "#     x2 = Dense(model_params['dense_units_branch'], activation=\"relu\", name='dense_A2')(x2)\n",
        "\n",
        "\n",
        "#     # Branche B\n",
        "#     # Couches pour l'entrée des fréquences de mots\n",
        "#     y1 = Embedding(input_dim=vocab_size, output_dim=model_params['embedding_dim'], input_length=max_len, name='embedding_tokens_B')(inputB)\n",
        "#     for i in range(model_params['count_conv1D']):\n",
        "#         y1 = Conv1D(filters=model_params['conv1D_1_filters'][i], kernel_size=model_params['conv1D_1_kernel'], activation='relu', name='conv1d_B_'+str(i))(y1)\n",
        "#         if model_params['pool_size'] != 0:\n",
        "#             y1 = MaxPooling1D(pool_size=model_params['pool_size'], name='maxpooling_B_'+str(i))(y1)\n",
        "#     y1 = Flatten(name='flatten_B')(y1)\n",
        "#     y1 = Dropout(model_params['dropout'], name='dropout_B')(y1)\n",
        "#     y1 = Dense(model_params['dense_units_branch'], activation=\"relu\", name='dense_B')(y1)\n",
        "\n",
        "#     # Branche C\n",
        "#     # Couches pour l'entrée de la position des mots\n",
        "#     y2 = Embedding(input_dim=vocab_size, output_dim=model_params['embedding_dim'], input_length=max_len, name='embedding_tokens_C')(inputC)\n",
        "#     for i in range(model_params['count_conv1D']):\n",
        "#         y2 = Conv1D(filters=model_params['conv1D_1_filters'][i], kernel_size=model_params['conv1D_1_kernel'], activation='relu', name='conv1d_C_'+str(i))(y2)\n",
        "#         if model_params['pool_size'] != 0:\n",
        "#             y2 = MaxPooling1D(pool_size=model_params['pool_size'], name='maxpooling_C_'+str(i))(y2)\n",
        "#     y2 = Flatten(name='flatten_C')(y2)\n",
        "#     y2 = Dropout(model_params['dropout'], name='dropout_C')(y2)\n",
        "#     y2 = Dense(model_params['dense_units_branch'], activation=\"relu\", name='dense_C')(y2)\n",
        "\n",
        "#     # Branche D\n",
        "#     # Couches pour l'entrée de la taille des mots\n",
        "#     y3 = Embedding(input_dim=vocab_size, output_dim=model_params['embedding_dim'], input_length=max_len, name='embedding_tokens_D')(inputD)\n",
        "#     for i in range(model_params['count_conv1D']):\n",
        "#         y3 = Conv1D(filters=model_params['conv1D_1_filters'][i], kernel_size=model_params['conv1D_1_kernel'], activation='relu', name='conv1d_D_'+str(i))(y3)\n",
        "#         if model_params['pool_size'] != 0:\n",
        "#             y3 = MaxPooling1D(pool_size=model_params['pool_size'], name='maxpooling_D_'+str(i))(y3)\n",
        "#     y3 = Flatten(name='flatten_D')(y3)\n",
        "#     y3 = Dropout(model_params['dropout'], name='dropout_D')(y3)\n",
        "#     y3 = Dense(model_params['dense_units_branch'], activation=\"relu\", name='dense_D')(y3)\n",
        "    \n",
        "#     branches = []\n",
        "#     if 'A' in model_params['included_branches']:\n",
        "#         branches.append(x1)\n",
        "#     if 'A2' in model_params['included_branches']:\n",
        "#         branches.append(x2)\n",
        "#     if 'B' in model_params['included_branches']:\n",
        "#         branches.append(y1)\n",
        "#     if 'C' in model_params['included_branches']:\n",
        "#         branches.append(y2)\n",
        "#     if 'D' in model_params['included_branches']:\n",
        "#         branches.append(y3)\n",
        "\n",
        "#     # Concaténer les sorties de toutes les branches\n",
        "#     combined = concatenate(branches, name='concatenated_features')\n",
        "\n",
        "#     # Couches denses pour les sorties combinées\n",
        "#     z = Dense(model_params['dense_units'], activation=\"relu\", name='dense_combined')(combined)\n",
        "#     z = Dense(1, activation=\"linear\", name='output')(z)\n",
        "\n",
        "#     # Combinez les entrées et les sorties en un modèle\n",
        "#     model = Model(inputs=[inputA, inputB, inputC, inputD], outputs=z)\n",
        "    \n",
        "#     return model"
      ]
    },
    {
      "cell_type": "code",
      "execution_count": 146,
      "metadata": {},
      "outputs": [],
      "source": [
        "def define_multi_model(max_len, vocab_size,model_params):\n",
        "\n",
        "    inputA = Input(shape=(max_len,), name='input_tokens')  # Entrée pour les mots tokenisés\n",
        "    inputB = Input(shape=(max_len,), name='input_word_freq')  # Entrée pour les fréquences des mots dans le texte\n",
        "    inputC = Input(shape=(max_len,), name='input_word_pos')  # Entrée pour la position des mots\n",
        "    inputD = Input(shape=(max_len,), name='input_word_size')  # Entrée pour la taille des mots\n",
        "\n",
        "    # Branche A\n",
        "    # Couche pour l'entrée des mots tokenisés\n",
        "    x1 = Embedding(input_dim=vocab_size, output_dim=model_params['embedding_dim'], input_length=max_len, name='embedding_tokens_A')(inputA)\n",
        "    for i in range(model_params['count_conv1D']):\n",
        "        x1 = Conv1D(filters=model_params['conv1D_1_filters'][i], kernel_size=model_params['conv1D_1_kernel'][i], activation='relu', name='conv1d_A_'+str(i))(x1)\n",
        "        if(model_params['pool_size'] != 0):\n",
        "            x1 = MaxPooling1D(pool_size=model_params['pool_size'], name='maxpooling_A_'+str(i))(x1)\n",
        "    x1 = Flatten(name='flatten_A')(x1)\n",
        "    if(model_params['dropout'] != 0):\n",
        "        x1 = Dropout(model_params['dropout'], name='dropout_A')(x1)\n",
        "    if(model_params['dense_units_branch'] != 0):\n",
        "        x1 = Dense(model_params['dense_units_branch'], activation=\"relu\", name='dense_A')(x1)\n",
        "\n",
        "    # Branche A2\n",
        "    # Couche pour l'entrée des mots tokenisés\n",
        "    x2 = Embedding(input_dim=vocab_size, output_dim=model_params['embedding_dim'], input_length=max_len, name='embedding_tokens_A2')(inputA)\n",
        "    for i in range(model_params['count_conv1D']):\n",
        "        x2 = Conv1D(filters=model_params['conv1D_1_filters'][i], kernel_size=model_params['conv1D_1_kernel'][i], activation='relu', name='conv1d_A2_'+str(i))(x2)\n",
        "        if(model_params['pool_size'] != 0):\n",
        "            x2 = MaxPooling1D(pool_size=model_params['pool_size'], name='maxpooling_A2_'+str(i))(x2)\n",
        "    x2 = Flatten(name='flatten_A2')(x2)\n",
        "    if(model_params['dropout'] != 0):\n",
        "        x2 = Dropout(model_params['dropout'], name='dropout_A2')(x2)\n",
        "    if(model_params['dense_units_branch'] != 0):\n",
        "        x2 = Dense(model_params['dense_units_branch'], activation=\"relu\", name='dense_A2')(x2)\n",
        "\n",
        "    # Branche B\n",
        "    # Couches pour l'entrée des fréquences de mots\n",
        "    y1 = Embedding(input_dim=vocab_size, output_dim=model_params['embedding_dim'], input_length=max_len, name='embedding_tokens_B')(inputB)\n",
        "    for i in range(model_params['count_conv1D']):\n",
        "        y1 = Conv1D(filters=model_params['conv1D_1_filters'][i], kernel_size=model_params['conv1D_1_kernel'][i], activation='relu', name='conv1d_B_'+str(i))(y1)\n",
        "        if(model_params['pool_size'] != 0):\n",
        "            y1 = MaxPooling1D(pool_size=model_params['pool_size'], name='maxpooling_B_'+str(i))(y1)\n",
        "    y1 = Flatten(name='flatten_B')(y1)\n",
        "    if(model_params['dropout'] != 0):\n",
        "        y1 = Dropout(model_params['dropout'], name='dropout_B')(y1)\n",
        "    if(model_params['dense_units_branch'] != 0):\n",
        "        y1 = Dense(model_params['dense_units_branch'], activation=\"relu\", name='dense_B')(y1)\n",
        "\n",
        "    # Branche C\n",
        "    # Couches pour l'entrée de la position des mots\n",
        "    y2 = Embedding(input_dim=vocab_size, output_dim=model_params['embedding_dim'], input_length=max_len, name='embedding_tokens_C')(inputC)\n",
        "    for i in range(model_params['count_conv1D']):\n",
        "        y2 = Conv1D(filters=model_params['conv1D_1_filters'][i], kernel_size=model_params['conv1D_1_kernel'][i], activation='relu', name='conv1d_C_'+str(i))(y2)\n",
        "        if(model_params['pool_size'] != 0):    \n",
        "            y2 = MaxPooling1D(pool_size=model_params['pool_size'], name='maxpooling_C_'+str(i))(y2)\n",
        "    y2 = Flatten(name='flatten_C')(y2)\n",
        "    if(model_params['dropout'] != 0):\n",
        "        y2 = Dropout(model_params['dropout'], name='dropout_C')(y2)\n",
        "    if(model_params['dense_units_branch'] != 0):\n",
        "        y2 = Dense(model_params['dense_units_branch'], activation=\"relu\", name='dense_C')(y2)\n",
        "\n",
        "    # Branche D\n",
        "    # Couches pour l'entrée de la taille des mots\n",
        "    y3 = Embedding(input_dim=vocab_size, output_dim=model_params['embedding_dim'], input_length=max_len, name='embedding_tokens_D')(inputD)\n",
        "    for i in range(model_params['count_conv1D']):\n",
        "        y3 = Conv1D(filters=model_params['conv1D_1_filters'][i], kernel_size=model_params['conv1D_1_kernel'][i], activation='relu', name='conv1d_D_'+str(i))(y3)\n",
        "        if(model_params['pool_size'] != 0):\n",
        "            y3 = MaxPooling1D(pool_size=model_params['pool_size'], name='maxpooling_D_'+str(i))(y3)\n",
        "    y3 = Flatten(name='flatten_D')(y3)\n",
        "    if(model_params['dropout'] != 0):\n",
        "        y3 = Dropout(model_params['dropout'], name='dropout_D')(y3)\n",
        "    if(model_params['dense_units_branch'] != 0):\n",
        "        y3 = Dense(model_params['dense_units_branch'], activation=\"relu\", name='dense_D')(y3)\n",
        "    \n",
        "    branches = []\n",
        "    if 'A' in model_params['included_branches']:\n",
        "        branches.append(x1)\n",
        "    if 'A2' in model_params['included_branches']:\n",
        "        branches.append(x2)\n",
        "    if 'B' in model_params['included_branches']:\n",
        "        branches.append(y1)\n",
        "    if 'C' in model_params['included_branches']:\n",
        "        branches.append(y2)\n",
        "    if 'D' in model_params['included_branches']:\n",
        "        branches.append(y3)\n",
        "\n",
        "    if len(branches) > 1:\n",
        "        # Concaténer les sorties de toutes les branches\n",
        "        z = concatenate(branches, name='concatenated_features')\n",
        "    else:\n",
        "        z = branches[0]\n",
        "\n",
        "    # Couches denses pour les sorties combinées\n",
        "    if(model_params['dense_units'] != 0):\n",
        "        z = Dense(model_params['dense_units'], activation=\"relu\", name='dense_combined')(z)\n",
        "        \n",
        "    z = Dense(1, activation=\"linear\", name='output')(z)\n",
        "\n",
        "    # Combinez les entrées et les sorties en un modèle\n",
        "    model = Model(inputs=[inputA, inputB, inputC, inputD], outputs=z)\n",
        "    \n",
        "    return model"
      ]
    },
    {
      "cell_type": "code",
      "execution_count": 147,
      "metadata": {},
      "outputs": [],
      "source": [
        "# def define_multi_model(max_len, vocab_size,model_params):\n",
        "\n",
        "#     inputA = Input(shape=(max_len,), name='input_tokens')  # Entrée pour les mots tokenisés\n",
        "#     inputB = Input(shape=(max_len,), name='input_word_freq')  # Entrée pour les fréquences des mots dans le texte\n",
        "#     inputC = Input(shape=(max_len,), name='input_word_pos')  # Entrée pour la position des mots\n",
        "#     inputD = Input(shape=(max_len,), name='input_word_size')  # Entrée pour la taille des mots    # Embedding Layer (ajustez en fonction de vos besoins)\n",
        "#     embedding = Embedding(input_dim=vocab_size,  # Vocabulaire total\n",
        "#                                 output_dim=100,\n",
        "#                                 input_length=max_len)(inputA)\n",
        "\n",
        "#     # Convolutions avec différentes tailles de kernels\n",
        "#     conv3 = Conv1D(16, 3, activation='relu')(embedding)  # Kernel de taille 3\n",
        "#     conv5 = Conv1D(16, 5, activation='relu')(embedding)  # Kernel de taille 5\n",
        "#     conv7 = Conv1D(16, 7, activation='relu')(embedding)  # Kernel de taille 7\n",
        "\n",
        "#     # Pooling sur chaque chemin de convolution\n",
        "#     pool3 = MaxPooling1D(2)(conv3)\n",
        "#     pool5 = MaxPooling1D(2)(conv5)\n",
        "#     pool7 = MaxPooling1D(2)(conv7)\n",
        "\n",
        "#     pool3 = Flatten()(pool3)\n",
        "#     pool5 = Flatten()(pool5)\n",
        "#     pool7 = Flatten()(pool7)\n",
        "\n",
        "#     pool3 = Dense(32, activation='relu')(pool3)\n",
        "#     pool5 = Dense(32, activation='relu')(pool5)\n",
        "#     pool7 = Dense(32, activation='relu')(pool7)\n",
        "\n",
        "#     # Fusionner les sorties des différents chemins\n",
        "#     merged = concatenate([pool3, pool5, pool7])\n",
        "\n",
        "#     # Ajouter des couches fully connected\n",
        "#     dense1 = Dense(64, activation='relu')(merged)\n",
        "#     dropout = Dropout(0.5)(dense1)  # Pour éviter le surapprentissage\n",
        "#     z = Dense(1, activation=\"linear\", name='output')(dropout)\n",
        "\n",
        "#     # Créer le modèle\n",
        "#     model = Model(inputs=[inputA, inputB, inputC, inputD], outputs=z)\n",
        "\n",
        "#     return model"
      ]
    },
    {
      "cell_type": "code",
      "execution_count": 148,
      "metadata": {},
      "outputs": [],
      "source": [
        "# from keras.layers import Input, Embedding, Conv1D, MaxPooling1D, Flatten, Dropout, Dense, concatenate\n",
        "# from keras.models import Model\n",
        "\n",
        "# def create_branch(input_layer, vocab_size, model_params, branch_name):\n",
        "#     # Crée une couche d'Embedding\n",
        "#     x = Embedding(input_dim=vocab_size, output_dim=model_params['embedding_dim'], input_length=max_len, name=f'embedding_{branch_name}')(input_layer)\n",
        "\n",
        "#     # Applique une série de couches Conv1D, suivies de MaxPooling1D si nécessaire\n",
        "#     for i in range(model_params['count_conv1D']):\n",
        "#         x = Conv1D(filters=model_params['conv1D_1_filters'][i], kernel_size=model_params['conv1D_1_kernel'], activation='relu', name=f'conv1d_{branch_name}_{i}')(x)\n",
        "#         if model_params['pool_size'] != 0:\n",
        "#             x = MaxPooling1D(pool_size=model_params['pool_size'], name=f'maxpooling_{branch_name}_{i}')(x)\n",
        "\n",
        "#     # Aplatir la sortie et ajouter Dropout\n",
        "#     x = Flatten(name=f'flatten_{branch_name}')(x)\n",
        "#     x = Dropout(model_params['dropout'], name=f'dropout_{branch_name}')(x)\n",
        "\n",
        "#     # Ajoute une couche Dense pour la branche\n",
        "#     x = Dense(model_params['dense_units_branch'], activation='relu', name=f'dense_{branch_name}')(x)\n",
        "\n",
        "#     return x\n",
        "\n",
        "\n",
        "# def define_multi_model(max_len, vocab_size, model_params):\n",
        "#     # Entrées pour les différentes branches\n",
        "#     inputA = Input(shape=(max_len,), name='input_tokens')  # Entrée pour les mots tokenisés\n",
        "#     inputB = Input(shape=(max_len,), name='input_word_freq')  # Entrée pour les fréquences des mots\n",
        "#     inputC = Input(shape=(max_len,), name='input_word_pos')  # Entrée pour les positions des mots\n",
        "#     inputD = Input(shape=(max_len,), name='input_word_size')  # Entrée pour les tailles des mots\n",
        "\n",
        "#     # Créez les branches en utilisant la fonction create_branch\n",
        "#     branchA = create_branch(inputA, vocab_size, model_params, 'A')\n",
        "#     # branchB = create_branch(inputB, vocab_size, model_params, 'B')\n",
        "#     branchC = create_branch(inputC, vocab_size, model_params, 'C')\n",
        "#     branchD = create_branch(inputD, vocab_size, model_params, 'D')\n",
        "\n",
        "#     # Concaténer les sorties des branches\n",
        "#     combined = concatenate([branchA, branchC, branchD], name='concatenated_features')\n",
        "\n",
        "#     # Couche Dense pour la sortie combinée\n",
        "#     z = Dense(model_params['dense_units'], activation='relu', name='dense_combined')(combined)\n",
        "\n",
        "#     # Dernière couche de sortie\n",
        "#     output = Dense(1, activation='linear', name='output')(z)\n",
        "\n",
        "#     # Crée le modèle avec les entrées et les sorties\n",
        "#     model = Model(inputs=[inputA, inputB, inputC, inputD], outputs=output)\n",
        "\n",
        "#     return model\n"
      ]
    },
    {
      "cell_type": "code",
      "execution_count": 149,
      "metadata": {},
      "outputs": [],
      "source": [
        "# from keras.regularizers import l2\n",
        "\n",
        "# def define_multi_model(max_len, vocab_size,model_params):\n",
        "\n",
        "#     inputA = Input(shape=(max_len,), name='input_tokens')  # Entrée pour les mots tokenisés\n",
        "#     inputB = Input(shape=(max_len,), name='input_word_freq')  # Entrée pour les fréquences des mots dans le texte\n",
        "#     inputC = Input(shape=(max_len,), name='input_word_pos')  # Entrée pour la position des mots\n",
        "#     inputD = Input(shape=(max_len,), name='input_word_size')  # Entrée pour la taille des mots\n",
        "\n",
        "#     # Fonction qui crée une branche générique\n",
        "#     def create_branch(input_layer, branch_name):\n",
        "#         x = Embedding(input_dim=vocab_size, output_dim=model_params['embedding_dim'], input_length=max_len, name=f'embedding_tokens_{branch_name}')(input_layer)\n",
        "#         for i in range(model_params['count_conv1D']):\n",
        "#             x = Conv1D(filters=model_params['conv1D_1_filters'][i], kernel_size=model_params['conv1D_1_kernel'], activation='relu', name=f'conv1d_1_{branch_name}_{i}')(x)\n",
        "#             if model_params['pool_size'] != 0:\n",
        "#                 x = MaxPooling1D(pool_size=model_params['pool_size'], name=f'maxpooling_{branch_name}_{i}')(x)\n",
        "#         x = Flatten(name=f'flatten_{branch_name}')(x)\n",
        "#         if model_params['dropout'] != 0:\n",
        "#             x = Dropout(model_params['dropout'], name=f'dropout_{branch_name}')(x)\n",
        "#         if model_params['dense_units_branch'] != 0:\n",
        "#             x = Dense(model_params['dense_units_branch'], activation='relu', name=f'dense_{branch_name}')(x)\n",
        "#         return x\n",
        "\n",
        "#     branches = []\n",
        "#     branch_map = {\n",
        "#         'A': inputA,\n",
        "#         'B': inputB,\n",
        "#         'C': inputC,\n",
        "#         'D': inputD\n",
        "#     }\n",
        "\n",
        "#     # Seules les branches spécifiées dans 'included_branches' seront incluses\n",
        "#     for branch in model_params['included_branches']:\n",
        "#         branch_input = branch_map.get(branch)\n",
        "#         if branch_input is not None:\n",
        "#             branches.append(create_branch(branch_input, branch))\n",
        "    \n",
        "#     # Concaténer les sorties des branches spécifiées\n",
        "#     z = concatenate(branches, name='concatenated_features')\n",
        "\n",
        "#     # Couches denses pour les sorties combinées\n",
        "#     if(model_params['dense_units'] != 0):\n",
        "#         z = Dense(model_params['dense_units'],kernel_regularizer=l2(0.01), activation=\"relu\", name='dense_combined')(z)\n",
        "        \n",
        "#     z = Dense(1, activation=\"linear\", name='output')(z)\n",
        "\n",
        "#     # Combinez les entrées et les sorties en un modèle\n",
        "#     model = Model(inputs=[inputA, inputB, inputC, inputD], outputs=z)\n",
        "    \n",
        "#     return model"
      ]
    },
    {
      "cell_type": "code",
      "execution_count": 150,
      "metadata": {},
      "outputs": [],
      "source": [
        "from keras import backend as K\n",
        "\n",
        "# Définition de la métrique personnalisée d'accuracy avec une tolérance de 20\n",
        "def accuracy_with_tolerance(tolerance=20):\n",
        "    def accuracy(y_true, y_pred):\n",
        "        # Calcul de la différence absolue entre la valeur prédite et la valeur réelle\n",
        "        diff = K.abs(y_pred - y_true)\n",
        "\n",
        "        # Compte le nombre de prédictions qui sont dans la tolérance\n",
        "        within_tolerance = K.less_equal(diff, tolerance)\n",
        "\n",
        "        # Retourne le pourcentage de prédictions correctes\n",
        "        return K.mean(K.cast(within_tolerance, 'float32'))\n",
        "\n",
        "    return accuracy"
      ]
    },
    {
      "cell_type": "code",
      "execution_count": 151,
      "metadata": {},
      "outputs": [],
      "source": [
        "from keras.callbacks import LearningRateScheduler\n",
        "\n",
        "# Fonction pour réduire le learning rate après un certain nombre d'époques\n",
        "def lr_schedule(epoch):\n",
        "    initial_lr = 0.001\n",
        "    drop_rate = 1\n",
        "    epochs_drop = 5\n",
        "    return initial_lr * (drop_rate ** (epoch // epochs_drop))"
      ]
    },
    {
      "cell_type": "markdown",
      "metadata": {},
      "source": [
        "# Automatic Multiple Models"
      ]
    },
    {
      "cell_type": "code",
      "execution_count": 152,
      "metadata": {},
      "outputs": [],
      "source": [
        "from keras.callbacks import ModelCheckpoint\n",
        "from keras.models import load_model\n",
        "def train_model(model_params,train,val):\n",
        "    utils.set_random_seed(420)\n",
        "\n",
        "    # Création du modèle en utilisant l'architecture spécifiée\n",
        "    model = define_multi_model(max_len, token_number,model_params)\n",
        "\n",
        "    # Compilation du modèle avec l'optimiseur Adam, la fonction de perte 'mse' et la métrique 'mae'\n",
        "    model.compile(optimizer='adam', loss='mean_squared_error', metrics=['mae',accuracy_with_tolerance(25)])\n",
        "    # Affichage de la structure du modèle\n",
        "    model.summary()\n",
        "\n",
        "    # Création du callback EarlyStopping pour surveiller la perte d'entraînement\n",
        "    early_stopping = EarlyStopping(monitor='loss', patience=5)\n",
        "\n",
        "    # Création du callback EarlyStopping pour surveiller la perte de validation\n",
        "    early_stopping_val = EarlyStopping(monitor='val_loss', patience=5)\n",
        "\n",
        "    lr_scheduler = LearningRateScheduler(lr_schedule)\n",
        "    checkpoint = ModelCheckpoint('best_model.h5', monitor='val_loss', save_best_only=True, mode='min')\n",
        "\n",
        "    # Entraînement du modèle avec les données d'entraînement et de validation, en utilisant EarlyStopping pour éviter le surapprentissage\n",
        "    history = model.fit(train, y_train, epochs=100, batch_size=64, validation_data=(val, y_val), callbacks=[early_stopping, early_stopping_val, lr_scheduler, checkpoint])\n",
        "\n",
        "    return load_model('best_model.h5'),history"
      ]
    },
    {
      "cell_type": "code",
      "execution_count": 153,
      "metadata": {},
      "outputs": [],
      "source": [
        "def add_data_to_csv(max_len,mae_test,loss_test,accuracy_within_tolerance_sequence,accuracy_within_tolerance_book,\n",
        "                    model_params,model_name,csv_results_name):\n",
        "    # Charger les données à partir du fichier CSV\n",
        "    df_models = pd.read_csv(f'csv/{csv_results_name}.csv')\n",
        "    nouvelle_ligne = [model_name,\n",
        "                    max_len,\n",
        "                    mae_test,\n",
        "                    loss_test,\n",
        "                    accuracy_within_tolerance_sequence,\n",
        "                    accuracy_within_tolerance_book,\n",
        "                    model_params['included_branches'],\n",
        "                    model_params['embedding_dim'],\n",
        "                    model_params['count_conv1D'],\n",
        "                    model_params['conv1D_1_filters'],\n",
        "                    model_params['conv1D_1_kernel'],\n",
        "                    model_params['pool_size'],\n",
        "                    model_params['dense_units_branch'],\n",
        "                    model_params['dense_units'],\n",
        "                    model_params['dropout']]\n",
        "\n",
        "    # Ajouter la nouvelle ligne à la DataFrame\n",
        "    df_models.loc[len(df_models)] = nouvelle_ligne\n",
        "\n",
        "    df_models.to_csv(f'csv/{csv_results_name}.csv', index=False)\n",
        "\n",
        "    # Afficher les données mises à jour\n",
        "    display(df_models)"
      ]
    },
    {
      "cell_type": "code",
      "execution_count": 154,
      "metadata": {},
      "outputs": [],
      "source": [
        "def evaluate_model_loss_mae(model,test,y_test,train,val):\n",
        "    # Évaluer le modèle sur les données de test\n",
        "    print(\"Évaluation sur les données de test :\")\n",
        "    loss_test, mae_test,accuracy_test = model.evaluate(test, y_test)\n",
        "    print()\n",
        "\n",
        "    # Évaluer le modèle sur les données d'entraînement\n",
        "    print(\"Évaluation sur les données d'entraînement :\")\n",
        "    loss_train, mae_train,accuracy_train = model.evaluate(train, y_train)\n",
        "    print()\n",
        "\n",
        "    # Évaluer le modèle sur les données de validation\n",
        "    print(\"Évaluation sur les données de validation :\")\n",
        "    loss_val, mae_val,accuracy_validation = model.evaluate(val, y_val)\n",
        "    print()\n",
        "\n",
        "    return loss_test, mae_test,loss_train, mae_train,loss_val, mae_val\n",
        "\n",
        "def evaluate_model_sequence_accuracy(model,test,y_test):\n",
        "    # Prédiction des dates\n",
        "    y_pred = model.predict(test)\n",
        "\n",
        "    error_samples = []  # Liste pour stocker les échantillons en dehors de la tolérance\n",
        "    tolerance = 25  # Tolérance définie pour considérer les prédictions comme correctes\n",
        "    within_tolerance_count = 0  # Compteur pour les prédictions dans la tolérance\n",
        "\n",
        "    # Parcours de chaque échantillon dans les données de test\n",
        "    for i in range(len(y_test)):\n",
        "        # Vérification si la différence entre la valeur prédite et la valeur réelle est dans la tolérance\n",
        "        if abs(round(y_pred[i][0]) - y_test[i]) <= tolerance:\n",
        "            within_tolerance_count += 1\n",
        "\n",
        "    # Calcul de l'exactitude dans la tolérance\n",
        "    accuracy_within_tolerance_sequence = (within_tolerance_count / len(y_test)) * 100\n",
        "\n",
        "    print(\"Accuracy within tolerance:\", accuracy_within_tolerance_sequence, \"%\")\n",
        "\n",
        "    return accuracy_within_tolerance_sequence\n",
        "\n",
        "import statistics\n",
        "def evaluate_model_book_accuracy(model,test,y_test):\n",
        "\n",
        "    # Prédiction des dates\n",
        "    y_pred = model.predict(test)  \n",
        "    y_pred = y_pred.flatten()  \n",
        "\n",
        "    current = 0\n",
        "    diff_total = 0\n",
        "\n",
        "    predicted_book_date = np.zeros(len(sequence_count_book_test)) # Liste pour stocker les dates de prédites pour chaque livre\n",
        "    true_book_date = np.zeros(len(sequence_count_book_test))  # Liste pour stocker les dates réelles\n",
        "\n",
        "    ind = 0\n",
        "    # Parcours de toutes les séquences\n",
        "    for nb in sequence_count_book_test: \n",
        "        dates = []  # Liste pour stocker les dates prédites pour chaque séquence\n",
        "\n",
        "        # Collecte des prédictions pour chaque séquence\n",
        "        for i in range(nb):\n",
        "            dates.append(y_pred[current])  # Ajouter la prédiction actuelle à la liste des dates\n",
        "            current += 1  # Incrémenter l'indice pour la prochaine prédiction\n",
        "\n",
        "        # Retirer les valeurs extrêmes\n",
        "        if len(dates) > 2:\n",
        "            dates.remove(min(dates))  # Supprime la valeur minimale\n",
        "            dates.remove(max(dates))  # Supprime la valeur maximale\n",
        "\n",
        "        # Calculer la moyenne des dates prédites (sans les valeurs extrêmes)\n",
        "        date = sum(dates) / len(dates) if dates else 0\n",
        "        # date = statistics.median(dates)\n",
        "        # Mettre à jour les tableaux avec la date moyenne prédite et la vérité terrain\n",
        "        predicted_book_date[ind] = date\n",
        "        true_book_date[ind] = y_test[current - 1]\n",
        "\n",
        "        # Calculer la différence absolue entre la moyenne prédite et la vérité terrain\n",
        "        diff = abs(date - y_test[current - 1])\n",
        "        diff_total += diff\n",
        "\n",
        "        ind += 1\n",
        "\n",
        "    # Calculer la MAE pour les livres\n",
        "    mae_book = diff_total / len(sequence_count_book_test)\n",
        "\n",
        "    print(\"Evaluation on Test Data, MAE (Mean Absolute Error):\", mae_book)\n",
        "\n",
        "    # Prédiction des dates\n",
        "    y_pred = model.predict(test)\n",
        "\n",
        "    tolerance = 25  # Tolérance définie pour considérer les prédictions comme correctes\n",
        "    within_tolerance_count = 0  # Compteur pour les prédictions dans la tolérance\n",
        "\n",
        "    for i in range(len(predicted_book_date)):\n",
        "        # Vérification si la différence entre la date réelle et la date prédite est dans la tolérance\n",
        "        if abs(round(true_book_date[i]) - predicted_book_date[i]) <= tolerance:\n",
        "            within_tolerance_count += 1\n",
        "\n",
        "    # Calcul de l'exactitude dans la tolérance\n",
        "    accuracy_within_tolerance_book = (within_tolerance_count / len(predicted_book_date)) * 100\n",
        "\n",
        "    print(\"Accuracy within tolerance:\", accuracy_within_tolerance_book, \"%\")\n",
        "    \n",
        "    return accuracy_within_tolerance_book,predicted_book_date,true_book_date"
      ]
    },
    {
      "cell_type": "code",
      "execution_count": 155,
      "metadata": {},
      "outputs": [],
      "source": [
        "def save_model_plot(history,model,test,y_test,save_dir,predicted_book_date,true_book_date,df):\n",
        "    # Plot training & validation accuracy with tolerance 25\n",
        "    plt.plot(history.history['accuracy'][0:])\n",
        "    plt.plot(history.history['val_accuracy'][0:])\n",
        "    plt.title('Model Accuracy Tolerance 25')\n",
        "    plt.ylabel('Accuracy')\n",
        "    plt.xlabel('Epoch')\n",
        "    plt.legend(['Train', 'Validation'], loc='upper right')\n",
        "    plt.savefig(f'{save_dir}/accuracy_plot.png')  # Sauvegarde le graphique au lieu de l'afficher\n",
        "    plt.close()  # Ferme le graphique pour éviter des conflits avec des tracés ultérieurs\n",
        "\n",
        "    # Plot training & validation loss values\n",
        "    plt.plot(history.history['loss'][1:])\n",
        "    plt.plot(history.history['val_loss'][1:])\n",
        "    plt.title('Model loss')\n",
        "    plt.ylabel('Loss')\n",
        "    plt.xlabel('Epoch')\n",
        "    plt.legend(['Train', 'Validation'], loc='upper right')\n",
        "    plt.savefig(f'{save_dir}/loss_plot.png')  # Sauvegarde le graphique\n",
        "    plt.close()\n",
        "\n",
        "    # Plot Mean Absolute Error (MAE)\n",
        "    plt.plot(history.history['mae'][1:]) \n",
        "    plt.plot(history.history['val_mae'][1:]) \n",
        "    plt.title('Model Mean Absolute Error') \n",
        "    plt.ylabel('MAE') \n",
        "    plt.xlabel('Epoch') \n",
        "    plt.legend(['Train', 'Validation'], loc='upper right') \n",
        "    plt.savefig(f'{save_dir}/mae_plot.png')  # Sauvegarde le graphique\n",
        "    plt.close()\n",
        "\n",
        "    #Calcul de la différence entre les années prédites et les années réelles\n",
        "    y_pred = model.predict(test) \n",
        "    diff = np.abs(y_test - y_pred.flatten())\n",
        "    diff2 = np.abs(predicted_book_date - true_book_date)\n",
        "\n",
        "    # Calcul des limites maximales des différences pour les deux jeux de données\n",
        "    max_diff = max(np.max(diff), np.max(diff2))\n",
        "\n",
        "    # Plot de l'histogramme des différences entre années prédites et réelles pour la séquence\n",
        "    plt.hist(diff, bins=20, color='skyblue', edgecolor='black') \n",
        "    plt.xlabel('Difference entre années prédites et réelles') \n",
        "    plt.ylabel('Nombre de prédictions') \n",
        "    plt.title('Répartition des différences entre les années prédites et réelles (séquence)') \n",
        "    plt.xlim(0, max_diff)\n",
        "    plt.savefig(f'{save_dir}/diff_histogram_sequence.png')  # Sauvegarde le graphique\n",
        "    plt.close()\n",
        "\n",
        "    # Plot de l'histogramme des différences entre années prédites et réelles pour le livre\n",
        "    plt.hist(diff2, bins=20, color='orange', edgecolor='black') \n",
        "    plt.xlabel('Difference entre années prédites et réelles') \n",
        "    plt.ylabel('Nombre de prédictions') \n",
        "    plt.title('Répartition des différences entre les années prédites et réelles (livre)') \n",
        "    plt.xlim(0, max_diff)\n",
        "    plt.savefig(f'{save_dir}/diff_histogram_book.png')  # Sauvegarde le graphique\n",
        "    plt.close()\n",
        "\n",
        "    #------------------------voir quelle année est la plus dure (tolerance de 15)---------------------------#\n",
        "    error_samples = []\n",
        "    tolerance = 25\n",
        "\n",
        "    for i in range(len(y_test)):\n",
        "        if abs(round(y_pred[i][0]) - y_test[i]) > tolerance:\n",
        "            error_samples.append(y_test[i])\n",
        "\n",
        "    # Histogramme des années d'erreur\n",
        "    plt.hist(error_samples, bins=max(y_test)-min(y_test)+1, color='skyblue')\n",
        "    plt.xlabel('Année')\n",
        "    plt.ylabel('Nombre d\\'échantillons mal prédits')\n",
        "    plt.title('Histogramme des années d\\'erreur')\n",
        "    plt.savefig(f'{save_dir}/error_year_histogram.png')  # Sauvegarde le graphique\n",
        "    plt.close()\n",
        "\n",
        "    #------------------------Utilisation des dates reels et des dates prédites par livre---------------------------#\n",
        "    # Scatter plot\n",
        "    plt.figure(figsize=(6, 4))\n",
        "    sns.scatterplot(data=df, x='Year', y='Predicted')\n",
        "    plt.xlabel(\"Année Réelle\")\n",
        "    plt.ylabel(\"Année Prédite\")\n",
        "    plt.title(\"Comparaison des Années Réelles et Prédictes\")\n",
        "    plt.savefig(f'{save_dir}/scatter_plot_book.png')  # Sauvegarde le graphique\n",
        "    plt.close()\n",
        "\n",
        "    # Création d'un DataFrame séparé pour les lignes avec 25 de plus et de moins\n",
        "    df_extra = df.copy()\n",
        "    df_extra['Year_plus_25'] = df_extra['Year'] + 25\n",
        "    df_extra['Year_minus_25'] = df_extra['Year'] - 25\n",
        "\n",
        "    plt.figure(figsize=(6, 4))\n",
        "    sns.lineplot(data=df, x='Year', y='Predicted', label='Prédite')\n",
        "    sns.lineplot(data=df, x='Year', y='Year', label='Réelle', linestyle='--', color='red')\n",
        "    # Lignes avec Year + 25\n",
        "    sns.lineplot(data=df_extra, x='Year_plus_25', y='Year', label='Réelle + 25', linestyle=':', color='green')\n",
        "    # Lignes avec Year - 25\n",
        "    sns.lineplot(data=df_extra, x='Year_minus_25', y='Year', label='Réelle - 25', linestyle=':', color='green')\n",
        "    plt.xlabel(\"Année\")\n",
        "    plt.ylabel(\"Valeurs\")\n",
        "    plt.legend()\n",
        "    plt.title(\"Tendance des Années Réelles et Prédictes\")\n",
        "    plt.savefig(f'{save_dir}/line_plot_book.png')  # Sauvegarde le graphique\n",
        "    plt.close()\n",
        "\n",
        "    plt.figure(figsize=(6, 4))\n",
        "    sns.histplot(data=df, x='Difference', kde=True)\n",
        "    plt.xlabel(\"Écart\")\n",
        "    plt.ylabel(\"Fréquence\")\n",
        "    plt.title(\"Distribution des Écarts entre Années Réelles et Prédictes\")\n",
        "    plt.savefig(f'{save_dir}/histogram_of_errors_book.png')  # Sauvegarde le graphique\n",
        "    plt.close()\n",
        "\n",
        "    # Définir une tolérance de 25\n",
        "    tolerance = 25\n",
        "\n",
        "    # Identifier si les prédictions sont correctes ou incorrectes\n",
        "    df['Correct'] = abs(df['Difference']) <= tolerance\n",
        "\n",
        "    # Compter les prédictions correctes et incorrectes\n",
        "    correction_counts = df['Correct'].value_counts()\n",
        "\n",
        "    # Graphique en barres montrant les prédictions correctes et incorrectes\n",
        "    plt.figure(figsize=(6, 4))\n",
        "    sns.barplot(x=correction_counts.index, y=correction_counts.values)\n",
        "    plt.xticks(ticks=[0, 1], labels=[\"Incorrecte\", \"Correcte\"])\n",
        "    plt.ylabel(\"Nombre de Prédictions\")\n",
        "    plt.title(\"Prédictions Correctes et Incorrectes avec une Tolérance de 25\")\n",
        "    plt.savefig(f'{save_dir}/correct_and_incorrect_predictions_book.png')  # Sauvegarde le graphique\n",
        "    plt.close()\n",
        "\n",
        "\n",
        "    # Identifiez les prédictions incorrectes\n",
        "    df['Incorrect'] = abs(df['Difference']) > tolerance\n",
        "\n",
        "    # Comptez le nombre de livres incorrects par année\n",
        "    mal_predits_par_annee = df[df['Incorrect']].groupby('Year').size()\n",
        "\n",
        "    # Créez un graphique montrant les livres mal prédits par année\n",
        "    plt.figure(figsize=(10, 6))\n",
        "    sns.barplot(x=mal_predits_par_annee.index, y=mal_predits_par_annee.values)\n",
        "    plt.xlabel(\"Année\")\n",
        "    plt.ylabel(\"Nombre de Livres Mal Prédits\")\n",
        "    plt.title(\"Nombre de Livres Mal Prédits par Année (Tolérance de 25)\")\n",
        "    plt.savefig(f'{save_dir}/mis_predicted_books_by_year.png')  # Sauvegarde le graphique\n",
        "    plt.close()"
      ]
    },
    {
      "cell_type": "code",
      "execution_count": 156,
      "metadata": {},
      "outputs": [],
      "source": [
        "def create_csv_data(csv_name):\n",
        "    # Créez un DataFrame vide avec les noms des colonnes, mais sans lignes initiales\n",
        "    df_models = pd.DataFrame(columns=[\n",
        "        'Model Name',\n",
        "        'Sequence Size',\n",
        "        'MAE',\n",
        "        'MSE',\n",
        "        'Sequence Accuracy (toler. 25)',\n",
        "        'Book Accuracy (toler. 25)'\n",
        "    ])\n",
        "\n",
        "    # Ajoutez des colonnes correspondant aux paramètres de votre modèle\n",
        "    model_params = {\n",
        "        'included_branches': 'A,C,D',\n",
        "        'embedding_dim': 40,\n",
        "        'count_conv1D': 5,\n",
        "        'conv1D_1_filters': [67, 33, 17],\n",
        "        'conv1D_1_kernel': 3,\n",
        "        'pool_size': 2,\n",
        "        'dense_units_branch': 32,\n",
        "        'dense_units': 64,\n",
        "        'dropout': 0\n",
        "    }\n",
        "\n",
        "    # Ajoutez ces colonnes au DataFrame\n",
        "    for key in model_params.keys():\n",
        "        if key not in df_models.columns:\n",
        "            df_models[key] = None  # Créez des colonnes sans valeurs initiales\n",
        "\n",
        "    # Sauvegardez le DataFrame en CSV (sans index)\n",
        "    df_models.to_csv(f'csv/{csv_name}.csv', index=False)\n",
        "\n",
        "    display(df_models)"
      ]
    },
    {
      "cell_type": "code",
      "execution_count": 157,
      "metadata": {},
      "outputs": [
        {
          "name": "stdout",
          "output_type": "stream",
          "text": [
            "66\n"
          ]
        }
      ],
      "source": [
        "print(len(df_test))"
      ]
    },
    {
      "cell_type": "code",
      "execution_count": 162,
      "metadata": {},
      "outputs": [
        {
          "data": {
            "text/html": [
              "<div>\n",
              "<style scoped>\n",
              "    .dataframe tbody tr th:only-of-type {\n",
              "        vertical-align: middle;\n",
              "    }\n",
              "\n",
              "    .dataframe tbody tr th {\n",
              "        vertical-align: top;\n",
              "    }\n",
              "\n",
              "    .dataframe thead th {\n",
              "        text-align: right;\n",
              "    }\n",
              "</style>\n",
              "<table border=\"1\" class=\"dataframe\">\n",
              "  <thead>\n",
              "    <tr style=\"text-align: right;\">\n",
              "      <th></th>\n",
              "      <th>Model Name</th>\n",
              "      <th>Sequence Size</th>\n",
              "      <th>MAE</th>\n",
              "      <th>MSE</th>\n",
              "      <th>Sequence Accuracy (toler. 25)</th>\n",
              "      <th>Book Accuracy (toler. 25)</th>\n",
              "      <th>included_branches</th>\n",
              "      <th>embedding_dim</th>\n",
              "      <th>count_conv1D</th>\n",
              "      <th>conv1D_1_filters</th>\n",
              "      <th>conv1D_1_kernel</th>\n",
              "      <th>pool_size</th>\n",
              "      <th>dense_units_branch</th>\n",
              "      <th>dense_units</th>\n",
              "      <th>dropout</th>\n",
              "    </tr>\n",
              "  </thead>\n",
              "  <tbody>\n",
              "  </tbody>\n",
              "</table>\n",
              "</div>"
            ],
            "text/plain": [
              "Empty DataFrame\n",
              "Columns: [Model Name, Sequence Size, MAE, MSE, Sequence Accuracy (toler. 25), Book Accuracy (toler. 25), included_branches, embedding_dim, count_conv1D, conv1D_1_filters, conv1D_1_kernel, pool_size, dense_units_branch, dense_units, dropout]\n",
              "Index: []"
            ]
          },
          "metadata": {},
          "output_type": "display_data"
        },
        {
          "name": "stdout",
          "output_type": "stream",
          "text": [
            "{'included_branches': 'A', 'embedding_dim': 40, 'count_conv1D': 3, 'conv1D_1_filters': [32, 32, 32], 'conv1D_1_kernel': [3, 3, 3], 'pool_size': 2, 'dense_units_branch': 32, 'dense_units': 8, 'dropout': 0.0}\n",
            "Model: \"model_9\"\n",
            "__________________________________________________________________________________________________\n",
            " Layer (type)                   Output Shape         Param #     Connected to                     \n",
            "==================================================================================================\n",
            " input_tokens (InputLayer)      [(None, 5000)]       0           []                               \n",
            "                                                                                                  \n",
            " embedding_tokens_A (Embedding)  (None, 5000, 40)    11655600    ['input_tokens[0][0]']           \n",
            "                                                                                                  \n",
            " conv1d_A_0 (Conv1D)            (None, 4998, 32)     3872        ['embedding_tokens_A[0][0]']     \n",
            "                                                                                                  \n",
            " maxpooling_A_0 (MaxPooling1D)  (None, 2499, 32)     0           ['conv1d_A_0[0][0]']             \n",
            "                                                                                                  \n",
            " conv1d_A_1 (Conv1D)            (None, 2497, 32)     3104        ['maxpooling_A_0[0][0]']         \n",
            "                                                                                                  \n",
            " maxpooling_A_1 (MaxPooling1D)  (None, 1248, 32)     0           ['conv1d_A_1[0][0]']             \n",
            "                                                                                                  \n",
            " conv1d_A_2 (Conv1D)            (None, 1246, 32)     3104        ['maxpooling_A_1[0][0]']         \n",
            "                                                                                                  \n",
            " maxpooling_A_2 (MaxPooling1D)  (None, 623, 32)      0           ['conv1d_A_2[0][0]']             \n",
            "                                                                                                  \n",
            " flatten_A (Flatten)            (None, 19936)        0           ['maxpooling_A_2[0][0]']         \n",
            "                                                                                                  \n",
            " dense_A (Dense)                (None, 32)           637984      ['flatten_A[0][0]']              \n",
            "                                                                                                  \n",
            " dense_combined (Dense)         (None, 8)            264         ['dense_A[0][0]']                \n",
            "                                                                                                  \n",
            " input_word_freq (InputLayer)   [(None, 5000)]       0           []                               \n",
            "                                                                                                  \n",
            " input_word_pos (InputLayer)    [(None, 5000)]       0           []                               \n",
            "                                                                                                  \n",
            " input_word_size (InputLayer)   [(None, 5000)]       0           []                               \n",
            "                                                                                                  \n",
            " output (Dense)                 (None, 1)            9           ['dense_combined[0][0]']         \n",
            "                                                                                                  \n",
            "==================================================================================================\n",
            "Total params: 12,303,937\n",
            "Trainable params: 12,303,937\n",
            "Non-trainable params: 0\n",
            "__________________________________________________________________________________________________\n",
            "Epoch 1/100\n",
            "186/186 [==============================] - 10s 51ms/step - loss: 757695.8125 - mae: 489.6163 - accuracy: 0.1717 - val_loss: 2958.9548 - val_mae: 46.1718 - val_accuracy: 0.2511 - lr: 0.0010\n",
            "Epoch 2/100\n",
            "186/186 [==============================] - 10s 51ms/step - loss: 1267.9788 - mae: 27.7457 - accuracy: 0.5357 - val_loss: 1357.9823 - val_mae: 29.2816 - val_accuracy: 0.4940 - lr: 0.0010\n",
            "Epoch 3/100\n",
            "186/186 [==============================] - 9s 50ms/step - loss: 516.2153 - mae: 16.5391 - accuracy: 0.8017 - val_loss: 1012.1841 - val_mae: 24.4369 - val_accuracy: 0.5956 - lr: 0.0010\n",
            "Epoch 4/100\n",
            "186/186 [==============================] - 9s 49ms/step - loss: 288.0146 - mae: 12.0639 - accuracy: 0.8953 - val_loss: 892.8943 - val_mae: 22.6720 - val_accuracy: 0.6361 - lr: 0.0010\n",
            "Epoch 5/100\n",
            "186/186 [==============================] - 9s 50ms/step - loss: 180.8674 - mae: 9.3959 - accuracy: 0.9377 - val_loss: 819.6709 - val_mae: 21.2495 - val_accuracy: 0.6839 - lr: 0.0010\n",
            "Epoch 6/100\n",
            "186/186 [==============================] - 9s 49ms/step - loss: 125.9906 - mae: 7.8666 - accuracy: 0.9608 - val_loss: 775.5703 - val_mae: 20.6945 - val_accuracy: 0.6938 - lr: 0.0010\n",
            "Epoch 7/100\n",
            "186/186 [==============================] - 10s 52ms/step - loss: 87.8702 - mae: 6.4959 - accuracy: 0.9776 - val_loss: 763.6767 - val_mae: 20.6120 - val_accuracy: 0.6951 - lr: 0.0010\n",
            "Epoch 8/100\n",
            "186/186 [==============================] - 9s 49ms/step - loss: 61.4016 - mae: 5.3279 - accuracy: 0.9861 - val_loss: 741.7800 - val_mae: 20.2577 - val_accuracy: 0.6991 - lr: 0.0010\n",
            "Epoch 9/100\n",
            "186/186 [==============================] - 9s 50ms/step - loss: 44.4551 - mae: 4.5000 - accuracy: 0.9917 - val_loss: 737.2500 - val_mae: 20.2292 - val_accuracy: 0.6979 - lr: 0.0010\n",
            "Epoch 10/100\n",
            "186/186 [==============================] - 9s 49ms/step - loss: 31.8435 - mae: 3.7506 - accuracy: 0.9946 - val_loss: 719.6479 - val_mae: 19.9157 - val_accuracy: 0.7083 - lr: 0.0010\n",
            "Epoch 11/100\n",
            "186/186 [==============================] - 8s 41ms/step - loss: 24.0586 - mae: 3.1298 - accuracy: 0.9966 - val_loss: 728.6082 - val_mae: 20.1372 - val_accuracy: 0.6983 - lr: 0.0010\n",
            "Epoch 12/100\n",
            "186/186 [==============================] - 9s 50ms/step - loss: 16.6911 - mae: 2.5745 - accuracy: 0.9979 - val_loss: 714.8692 - val_mae: 19.8762 - val_accuracy: 0.7102 - lr: 0.0010\n",
            "Epoch 13/100\n",
            "186/186 [==============================] - 8s 41ms/step - loss: 13.2645 - mae: 2.3577 - accuracy: 0.9987 - val_loss: 715.6836 - val_mae: 19.9404 - val_accuracy: 0.7027 - lr: 0.0010\n",
            "Epoch 14/100\n",
            "186/186 [==============================] - 8s 41ms/step - loss: 9.1853 - mae: 1.9043 - accuracy: 0.9993 - val_loss: 716.9971 - val_mae: 19.9598 - val_accuracy: 0.7031 - lr: 0.0010\n",
            "Epoch 15/100\n",
            "186/186 [==============================] - 9s 49ms/step - loss: 7.7520 - mae: 1.6328 - accuracy: 0.9993 - val_loss: 707.5034 - val_mae: 19.7937 - val_accuracy: 0.7114 - lr: 0.0010\n",
            "Epoch 16/100\n",
            "186/186 [==============================] - 8s 41ms/step - loss: 15.2085 - mae: 1.8063 - accuracy: 0.9984 - val_loss: 724.9787 - val_mae: 20.1332 - val_accuracy: 0.6975 - lr: 0.0010\n",
            "Epoch 17/100\n",
            "186/186 [==============================] - 8s 41ms/step - loss: 19.1828 - mae: 1.8022 - accuracy: 0.9979 - val_loss: 724.1460 - val_mae: 20.0357 - val_accuracy: 0.6971 - lr: 0.0010\n",
            "Epoch 18/100\n",
            "186/186 [==============================] - 8s 41ms/step - loss: 18.9069 - mae: 1.8425 - accuracy: 0.9983 - val_loss: 728.8194 - val_mae: 20.1625 - val_accuracy: 0.6918 - lr: 0.0010\n",
            "Epoch 19/100\n",
            "186/186 [==============================] - 8s 41ms/step - loss: 17.6920 - mae: 1.9533 - accuracy: 0.9983 - val_loss: 726.7130 - val_mae: 20.1452 - val_accuracy: 0.6887 - lr: 0.0010\n",
            "Epoch 20/100\n",
            "186/186 [==============================] - 8s 41ms/step - loss: 10.3881 - mae: 1.7421 - accuracy: 0.9987 - val_loss: 729.4189 - val_mae: 20.1798 - val_accuracy: 0.6951 - lr: 0.0010\n",
            "Évaluation sur les données de test :\n",
            "33/33 [==============================] - 0s 9ms/step - loss: 616.6614 - mae: 18.4741 - accuracy: 0.0000e+00\n",
            "\n",
            "Évaluation sur les données d'entraînement :\n",
            "371/371 [==============================] - 3s 8ms/step - loss: 14.8293 - mae: 2.8533 - accuracy: 0.0000e+00\n",
            "\n",
            "Évaluation sur les données de validation :\n",
            "78/78 [==============================] - 1s 8ms/step - loss: 707.5033 - mae: 19.7937 - accuracy: 0.0000e+00\n",
            "\n",
            "33/33 [==============================] - 0s 6ms/step\n",
            "Accuracy within tolerance: 75.43352601156069 %\n",
            "33/33 [==============================] - 0s 7ms/step\n",
            "Evaluation on Test Data, MAE (Mean Absolute Error): 16.631558786640642\n",
            "33/33 [==============================] - 0s 6ms/step\n",
            "Accuracy within tolerance: 78.78787878787878 %\n"
          ]
        },
        {
          "data": {
            "text/html": [
              "<div>\n",
              "<style scoped>\n",
              "    .dataframe tbody tr th:only-of-type {\n",
              "        vertical-align: middle;\n",
              "    }\n",
              "\n",
              "    .dataframe tbody tr th {\n",
              "        vertical-align: top;\n",
              "    }\n",
              "\n",
              "    .dataframe thead th {\n",
              "        text-align: right;\n",
              "    }\n",
              "</style>\n",
              "<table border=\"1\" class=\"dataframe\">\n",
              "  <thead>\n",
              "    <tr style=\"text-align: right;\">\n",
              "      <th></th>\n",
              "      <th>Model Name</th>\n",
              "      <th>Sequence Size</th>\n",
              "      <th>MAE</th>\n",
              "      <th>MSE</th>\n",
              "      <th>Sequence Accuracy (toler. 25)</th>\n",
              "      <th>Book Accuracy (toler. 25)</th>\n",
              "      <th>included_branches</th>\n",
              "      <th>embedding_dim</th>\n",
              "      <th>count_conv1D</th>\n",
              "      <th>conv1D_1_filters</th>\n",
              "      <th>conv1D_1_kernel</th>\n",
              "      <th>pool_size</th>\n",
              "      <th>dense_units_branch</th>\n",
              "      <th>dense_units</th>\n",
              "      <th>dropout</th>\n",
              "    </tr>\n",
              "  </thead>\n",
              "  <tbody>\n",
              "    <tr>\n",
              "      <th>0</th>\n",
              "      <td>Model 0</td>\n",
              "      <td>5000</td>\n",
              "      <td>18.474083</td>\n",
              "      <td>616.661438</td>\n",
              "      <td>75.433526</td>\n",
              "      <td>78.787879</td>\n",
              "      <td>A</td>\n",
              "      <td>40</td>\n",
              "      <td>3</td>\n",
              "      <td>[32, 32, 32]</td>\n",
              "      <td>[3, 3, 3]</td>\n",
              "      <td>2</td>\n",
              "      <td>32</td>\n",
              "      <td>8</td>\n",
              "      <td>0.0</td>\n",
              "    </tr>\n",
              "  </tbody>\n",
              "</table>\n",
              "</div>"
            ],
            "text/plain": [
              "  Model Name  Sequence Size        MAE         MSE  \\\n",
              "0    Model 0           5000  18.474083  616.661438   \n",
              "\n",
              "   Sequence Accuracy (toler. 25)  Book Accuracy (toler. 25) included_branches  \\\n",
              "0                      75.433526                  78.787879                 A   \n",
              "\n",
              "   embedding_dim  count_conv1D conv1D_1_filters conv1D_1_kernel  pool_size  \\\n",
              "0             40             3     [32, 32, 32]       [3, 3, 3]          2   \n",
              "\n",
              "   dense_units_branch  dense_units  dropout  \n",
              "0                  32            8      0.0  "
            ]
          },
          "metadata": {},
          "output_type": "display_data"
        },
        {
          "name": "stdout",
          "output_type": "stream",
          "text": [
            "33/33 [==============================] - 0s 12ms/step\n"
          ]
        }
      ],
      "source": [
        "utils.set_random_seed(420)\n",
        "\n",
        "train = [data_trainA,data_trainB,data_trainC,data_trainD]\n",
        "val = [data_valA,data_valB,data_valC,data_valD]\n",
        "test = [data_testA,data_testB,data_testC,data_testD]\n",
        "\n",
        "date = \"04_05_New_7\"\n",
        "csv_path_model_params = 'csv/model_params.csv'\n",
        "df_model_params = pd.read_csv(csv_path_model_params)\n",
        "csv_results_name = f'csv_results_{date}'\n",
        "create_csv_data(csv_results_name)\n",
        "\n",
        "ind = 0\n",
        "# Pour chaque ensemble de paramètres, entraînez le modèle\n",
        "for idx, row in df_model_params.iterrows():\n",
        "    # Créez le dictionnaire des paramètres à partir de la ligne de CSV\n",
        "    params = {\n",
        "        'included_branches': row['included_branches'],\n",
        "        'embedding_dim': int(row['embedding_dim']),\n",
        "        'count_conv1D': int(row['count_conv1D']),\n",
        "        'conv1D_1_filters': ast.literal_eval(row['conv1D_1_filters']),\n",
        "        'conv1D_1_kernel': ast.literal_eval(row['conv1D_1_kernel']),\n",
        "        'pool_size': int(row['pool_size']),\n",
        "        'dense_units_branch': int(row['dense_units_branch']),\n",
        "        'dense_units': int(row['dense_units']),\n",
        "        'dropout': float(row['dropout'].replace(',', '.'))\n",
        "    }\n",
        "\n",
        "    print(params)\n",
        "\n",
        "    # Entraîner le modèle\n",
        "    model, history = train_model(params, train, val)\n",
        "\n",
        "    #Evaluer le modèle\n",
        "    loss_test, mae_test,loss_train, mae_train,loss_val, mae_val = evaluate_model_loss_mae(model,test,y_test,train,val)\n",
        "    accuracy_within_tolerance_sequence = evaluate_model_sequence_accuracy(model,test,y_test)\n",
        "    accuracy_within_tolerance_book,predicted_book_date,true_book_date = evaluate_model_book_accuracy(model,test,y_test)\n",
        "\n",
        "    model_name = \"Model \"+str(ind)\n",
        "    save_dir = f'automatic_save/{date}/{model_name}'\n",
        "\n",
        "    os.makedirs(save_dir, exist_ok=True)\n",
        "\n",
        "    # Colonnes à sauvegarder\n",
        "    col_to_save = ['Filename', 'Year']\n",
        "    # Créer une copie profonde du sous-dataframe avec les colonnes souhaitées\n",
        "    df_to_save = df_test[col_to_save].copy()\n",
        "    # Sauvegarder ce sous-dataframe en fichier CSV\n",
        "    seq_book = pd.DataFrame({'Predicted': predicted_book_date})\n",
        "\n",
        "    df_to_save['Predicted'] = seq_book['Predicted']\n",
        "    # Calculer l'écart entre les valeurs réelles et prédictes\n",
        "    df_to_save['Difference'] = df_to_save['Year'] - df_to_save['Predicted']\n",
        "\n",
        "    df_to_save.to_csv(f'{save_dir}/df_test.csv', index=False)\n",
        "\n",
        "    add_data_to_csv(max_len,mae_test,loss_test,accuracy_within_tolerance_sequence,accuracy_within_tolerance_book,\n",
        "                        params,model_name,csv_results_name)\n",
        "    \n",
        "    #Sauvegarder le modèle complet au format HDF5\n",
        "    model.save(f'{save_dir}/model.h5')\n",
        "\n",
        "    with open(f'{save_dir}/history.json', 'wb') as file_pi:\n",
        "        pickle.dump(history.history, file_pi)\n",
        "\n",
        "    save_model_plot(history,model,test,y_test,save_dir,predicted_book_date,true_book_date,df_to_save)\n",
        "\n",
        "    plot_model(model, show_shapes=True, to_file=f'{save_dir}/architecture.png')\n",
        "\n",
        "    ind+=1"
      ]
    },
    {
      "cell_type": "markdown",
      "metadata": {},
      "source": [
        "# Load & Save Model"
      ]
    },
    {
      "cell_type": "code",
      "execution_count": 159,
      "metadata": {},
      "outputs": [],
      "source": [
        "# #Sauvegarder le modèle complet au format HDF5\n",
        "# model.save('model/20_04/model_to_show_5.h5')"
      ]
    },
    {
      "cell_type": "code",
      "execution_count": 160,
      "metadata": {},
      "outputs": [],
      "source": [
        "# # Charger le modèle complet\n",
        "# from keras.models import load_model\n",
        "# model = load_model('model/model_to_show_2.h5')\n",
        "\n",
        "# model.summary()"
      ]
    }
  ],
  "metadata": {
    "accelerator": "GPU",
    "colab": {
      "collapsed_sections": [
        "5CK1OPbMz2vm",
        "bIvj5MS82Q2D",
        "s71plxAN2fbA"
      ],
      "gpuType": "T4",
      "provenance": []
    },
    "kernelspec": {
      "display_name": "Python 3",
      "name": "python3"
    },
    "language_info": {
      "codemirror_mode": {
        "name": "ipython",
        "version": 3
      },
      "file_extension": ".py",
      "mimetype": "text/x-python",
      "name": "python",
      "nbconvert_exporter": "python",
      "pygments_lexer": "ipython3",
      "version": "3.9.18"
    }
  },
  "nbformat": 4,
  "nbformat_minor": 0
}
